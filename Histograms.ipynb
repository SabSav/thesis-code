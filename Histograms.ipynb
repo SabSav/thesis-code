{
 "cells": [
  {
   "cell_type": "code",
   "execution_count": null,
   "id": "409977f8-6530-4081-a4a2-c5b79610233a",
   "metadata": {},
   "outputs": [],
   "source": [
    "import numpy as np\n",
    "import matplotlib.pyplot as plt\n",
    "\n",
    "sample = np.random.normal(size=1000)\n",
    "\n",
    "(counts, bins) = np.histogram(sample)\n",
    "\n",
    "bsz = bins[1] - bins[0]\n",
    "bins = (bins + bsz / 2)[:-1]\n",
    "\n",
    "bars = np.full_like(counts, 10)\n",
    "\n",
    "plt.errorbar(bins, counts, yerr = bars, marker='.', linestyle='none')\n",
    "plt.show()"
   ]
  },
  {
   "cell_type": "code",
   "execution_count": null,
   "id": "cf64fb3a-2cec-4c08-bd63-9b5a13f8a119",
   "metadata": {},
   "outputs": [],
   "source": []
  }
 ],
 "metadata": {
  "kernelspec": {
   "display_name": "Python 3",
   "language": "python",
   "name": "python3"
  },
  "language_info": {
   "codemirror_mode": {
    "name": "ipython",
    "version": 3
   },
   "file_extension": ".py",
   "mimetype": "text/x-python",
   "name": "python",
   "nbconvert_exporter": "python",
   "pygments_lexer": "ipython3",
   "version": "3.9.5"
  }
 },
 "nbformat": 4,
 "nbformat_minor": 5
}

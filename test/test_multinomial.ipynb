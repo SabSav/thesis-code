{
 "cells": [
  {
   "cell_type": "code",
   "execution_count": 1,
   "id": "9cbb601f-846c-4c87-9dbb-ba4f8230e72a",
   "metadata": {},
   "outputs": [],
   "source": [
    "import sys, os\n",
    "sys.path.append(f'../code')\n",
    "path_to_json = os.getcwd()\n",
    "\n",
    "from IPython.display import display, Markdown"
   ]
  },
  {
   "cell_type": "code",
   "execution_count": 5,
   "id": "2099a257-342f-498a-8aa2-65b63abbcbd4",
   "metadata": {},
   "outputs": [
    {
     "data": {
      "text/markdown": [
       "# Exact multinomial test for binomial distribution"
      ],
      "text/plain": [
       "<IPython.core.display.Markdown object>"
      ]
     },
     "metadata": {},
     "output_type": "display_data"
    },
    {
     "name": "stdout",
     "output_type": "stream",
     "text": [
      "Sample size: 100000\n",
      "Number of trials: 10\n",
      "Probability of success: 0.1\n",
      "High pvalue indicates that the sample is from a given distribution: 0.81511\n",
      "High pvalue indicates that the sample is from a given distribution: 0.75133\n"
     ]
    }
   ],
   "source": [
    "import numpy as np\n",
    "import scipy as sp\n",
    "import scipy.special\n",
    "import multinomial\n",
    "\n",
    "display(Markdown('# Exact multinomial test for binomial distribution'))\n",
    "size = 100000\n",
    "n = 10\n",
    "p = 0.1\n",
    "print('Sample size:', size)\n",
    "print('Number of trials:', n)\n",
    "print('Probability of success:', p)\n",
    "\n",
    "q = 1 - p\n",
    "np.random.seed(0)\n",
    "sample = np.random.binomial(n, p, size=size)\n",
    "\n",
    "p = 0.1\n",
    "q = 1 - p\n",
    "theory = np.array([sp.special.binom(n, k) * p**k * q**(n - k) for k in range(n+1)])\n",
    "\n",
    "bins = np.arange(float(n)+2) - 0.5\n",
    "counts, _ = np.histogram(sample, bins)\n",
    "\n",
    "print('High pvalue indicates that the sample is from a given distribution:',\n",
    "      multinomial.one_sample_test(theory, counts, size=100000))\n",
    "print('High pvalue indicates that the sample is from a given distribution:',\n",
    "      multinomial.one_sample_chi_squared(theory, counts, size=100000))"
   ]
  },
  {
   "cell_type": "code",
   "execution_count": null,
   "id": "928ef1c1-7520-40d2-8e8b-35c48d0f7e58",
   "metadata": {},
   "outputs": [],
   "source": []
  }
 ],
 "metadata": {
  "kernelspec": {
   "display_name": "Python 3 (ipykernel)",
   "language": "python",
   "name": "python3"
  },
  "language_info": {
   "codemirror_mode": {
    "name": "ipython",
    "version": 3
   },
   "file_extension": ".py",
   "mimetype": "text/x-python",
   "name": "python",
   "nbconvert_exporter": "python",
   "pygments_lexer": "ipython3",
   "version": "3.9.7"
  }
 },
 "nbformat": 4,
 "nbformat_minor": 5
}

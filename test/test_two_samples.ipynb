{
 "cells": [
  {
   "cell_type": "code",
   "execution_count": null,
   "id": "9cbb601f-846c-4c87-9dbb-ba4f8230e72a",
   "metadata": {},
   "outputs": [],
   "source": [
    "import sys, os\n",
    "sys.path.append(f'../code')\n",
    "path_to_json = os.getcwd()\n",
    "\n",
    "from IPython.display import display, Markdown"
   ]
  },
  {
   "cell_type": "code",
   "execution_count": null,
   "id": "2099a257-342f-498a-8aa2-65b63abbcbd4",
   "metadata": {},
   "outputs": [],
   "source": [
    "import numpy as np\n",
    "import scipy as sp\n",
    "import scipy.special\n",
    "import two_samples\n",
    "\n",
    "display(Markdown('# Testing binomial distribution'))\n",
    "size = 100000\n",
    "n = 1\n",
    "p = 0.1\n",
    "q = 1 - p\n",
    "bins = np.arange(float(n)+2) - 0.5\n",
    "\n",
    "print('Sample size:', size)\n",
    "print('Number of trials:', n)\n",
    "print('Probability of success:', p)\n",
    "\n",
    "# np.random.seed(0)\n",
    "sample1 = np.random.binomial(n, p, size=size)\n",
    "counts1, _ = np.histogram(sample1, bins)\n",
    "\n",
    "p = 0.1\n",
    "q = 1 - p\n",
    "theory = np.array([sp.special.binom(n, k) * p**k * q**(n - k) for k in range(n+1)])\n",
    "counts2 = np.random.multinomial(size, theory)\n",
    "\n",
    "print('High pvalue indicates that the sample is from a given distribution:',\n",
    "      two_samples.chi_squared_test(counts1, counts2))\n",
    "print('High pvalue indicates that the sample is from a given distribution:',\n",
    "      two_samples.chi_squared_permutation_test(counts1, counts2, 1000))"
   ]
  }
 ],
 "metadata": {
  "kernelspec": {
   "display_name": "Python 3 (ipykernel)",
   "language": "python",
   "name": "python3"
  },
  "language_info": {
   "codemirror_mode": {
    "name": "ipython",
    "version": 3
   },
   "file_extension": ".py",
   "mimetype": "text/x-python",
   "name": "python",
   "nbconvert_exporter": "python",
   "pygments_lexer": "ipython3",
   "version": "3.9.5"
  }
 },
 "nbformat": 4,
 "nbformat_minor": 5
}

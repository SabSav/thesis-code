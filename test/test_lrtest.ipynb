{
 "cells": [
  {
   "cell_type": "code",
   "execution_count": 1,
   "id": "9cbb601f-846c-4c87-9dbb-ba4f8230e72a",
   "metadata": {},
   "outputs": [],
   "source": [
    "import sys, os\n",
    "sys.path.append(f'../code')\n",
    "path_to_json = os.getcwd()\n",
    "\n",
    "from IPython.display import display, Markdown"
   ]
  },
  {
   "cell_type": "code",
   "execution_count": 7,
   "id": "2099a257-342f-498a-8aa2-65b63abbcbd4",
   "metadata": {},
   "outputs": [
    {
     "data": {
      "text/markdown": [
       "# Testing likelihood ratio test with binomial distribution"
      ],
      "text/plain": [
       "<IPython.core.display.Markdown object>"
      ]
     },
     "metadata": {},
     "output_type": "display_data"
    },
    {
     "name": "stdout",
     "output_type": "stream",
     "text": [
      "Sample size: 1000000\n",
      "Number of trials: 1\n",
      "Probability of success: 0.1\n",
      "High pvalue indicates that the sample is from a given distribution: 3.0579580362724323e-228\n",
      "High pvalue indicates that the sample is from a given distribution: 3.850063351334347e-222\n",
      "High pvalue indicates that the sample is from a given distribution: 0.6076101208978136\n",
      "High pvalue indicates that the sample is from a given distribution: 0.6190599547248148\n",
      "High pvalue indicates that the sample is from a given distribution: 0.974692411315859\n"
     ]
    }
   ],
   "source": [
    "import numpy as np\n",
    "import scipy as sp\n",
    "import scipy.special\n",
    "import lrtest\n",
    "\n",
    "display(Markdown('# Testing likelihood ratio test with binomial distribution'))\n",
    "size = 1000000\n",
    "n = 1\n",
    "p = 0.1\n",
    "print('Sample size:', size)\n",
    "print('Number of trials:', n)\n",
    "print('Probability of success:', p)\n",
    "\n",
    "q = 1 - p\n",
    "np.random.seed(0)\n",
    "sample = np.random.binomial(n, p, size=size)\n",
    "theory = np.array([sp.special.binom(n, k) * p**k * q**(n - k) for k in range(n+1)])\n",
    "\n",
    "p = 0.11\n",
    "q = 1 - p\n",
    "theory = np.array([sp.special.binom(n, k) * p**k * q**(n - k) for k in range(n+1)])\n",
    "\n",
    "bins = np.arange(float(n)+2)-0.5\n",
    "counts, _ = np.histogram(sample, bins)\n",
    "\n",
    "print('High pvalue indicates that the sample is from a given distribution:',\n",
    "      lrtest.one_sample_test(theory, counts))\n",
    "print('High pvalue indicates that the sample is from a given distribution:',\n",
    "      lrtest.one_sample_chi_squared(theory, counts))\n",
    "\n",
    "print('High pvalue indicates that the sample is from a given distribution:',\n",
    "      lrtest.one_sample_test(theory, check))\n",
    "print('High pvalue indicates that the sample is from a given distribution:',\n",
    "      lrtest.one_sample_chi_squared(theory, check))\n",
    "theory = [0.99899462, 0.00100538]\n",
    "check = np.random.multinomial(1, theory)\n",
    "print('High pvalue indicates that the sample is from a given distribution:',\n",
    "      lrtest.one_sample_chi_squared(theory, check))"
   ]
  },
  {
   "cell_type": "code",
   "execution_count": 3,
   "id": "a2bdcf13-9153-49af-b27c-496e2ff16760",
   "metadata": {},
   "outputs": [
    {
     "data": {
      "text/plain": [
       "0.5432047158975791"
      ]
     },
     "execution_count": 3,
     "metadata": {},
     "output_type": "execute_result"
    }
   ],
   "source": [
    "p1 = [0.1, 0.8, 0.1]\n",
    "p2 = [0.1, 0.8, 0.1]\n",
    "np.random.seed(0)\n",
    "sample1 = np.random.multinomial(n, p1)\n",
    "sample2 = np.random.multinomial(n, p2)\n",
    "bins = np.arange(float(n)+2)-0.5\n",
    "counts1, _ = np.histogram(sample1, bins)\n",
    "counts2, _ = np.histogram(sample2, bins)\n",
    "from lrtest import two_samples_test\n",
    "two_samples_test(counts1, counts2)"
   ]
  }
 ],
 "metadata": {
  "kernelspec": {
   "display_name": "Python 3 (ipykernel)",
   "language": "python",
   "name": "python3"
  },
  "language_info": {
   "codemirror_mode": {
    "name": "ipython",
    "version": 3
   },
   "file_extension": ".py",
   "mimetype": "text/x-python",
   "name": "python",
   "nbconvert_exporter": "python",
   "pygments_lexer": "ipython3",
   "version": "3.9.7"
  }
 },
 "nbformat": 4,
 "nbformat_minor": 5
}

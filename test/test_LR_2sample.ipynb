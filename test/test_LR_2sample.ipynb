{
 "cells": [
  {
   "cell_type": "code",
   "execution_count": 11,
   "id": "0335b242-d322-42ce-bd42-fb7946bffb19",
   "metadata": {},
   "outputs": [],
   "source": [
    "import sys, os\n",
    "sys.path.append(f'../code')\n",
    "path_to_json = os.getcwd()\n",
    "\n",
    "from IPython.display import display, Markdown"
   ]
  },
  {
   "cell_type": "code",
   "execution_count": 51,
   "id": "0e6da534-d3f6-490c-8890-04b251c8f5e3",
   "metadata": {},
   "outputs": [
    {
     "data": {
      "text/plain": [
       "0.006982801204944391"
      ]
     },
     "execution_count": 51,
     "metadata": {},
     "output_type": "execute_result"
    }
   ],
   "source": [
    "import numpy as np\n",
    "import scipy as sp\n",
    "import scipy.special\n",
    "import lrtest\n",
    "\n",
    "n = 1\n",
    "size = 1000000\n",
    "p1 = [0.1, 0.8, 0.1]\n",
    "p2 = [0.1, 0.8, 0.1]\n",
    "np.random.seed(0)\n",
    "sample1 = np.random.multinomial(n, p1, size=size)\n",
    "sample2 = np.random.multinomial(n, p2, size=size)\n",
    "bins = np.arange(float(n)+2)-0.5\n",
    "counts1, _ = np.histogram(sample1, bins)\n",
    "counts2, _ = np.histogram(sample2, bins)\n",
    "from lrtest import two_samples_test\n",
    "two_samples_test(counts1, counts2)\n"
   ]
  },
  {
   "cell_type": "code",
   "execution_count": null,
   "id": "9cc78a99-161d-447a-a74e-9abb74082670",
   "metadata": {},
   "outputs": [],
   "source": []
  }
 ],
 "metadata": {
  "kernelspec": {
   "display_name": "Python 3 (ipykernel)",
   "language": "python",
   "name": "python3"
  },
  "language_info": {
   "codemirror_mode": {
    "name": "ipython",
    "version": 3
   },
   "file_extension": ".py",
   "mimetype": "text/x-python",
   "name": "python",
   "nbconvert_exporter": "python",
   "pygments_lexer": "ipython3",
   "version": "3.9.7"
  }
 },
 "nbformat": 4,
 "nbformat_minor": 5
}

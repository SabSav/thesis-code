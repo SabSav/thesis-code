{
 "cells": [
  {
   "cell_type": "code",
   "execution_count": 1,
   "id": "fe36d30d-708c-4190-948c-fe6ec9f7237f",
   "metadata": {},
   "outputs": [],
   "source": [
    "import sys, os\n",
    "sys.path.append(f'../../code')\n",
    "path_to_json = os.getcwd()\n",
    "\n",
    "from IPython.display import display, Markdown"
   ]
  },
  {
   "cell_type": "code",
   "execution_count": 2,
   "id": "d9b2fa88-372b-4254-8f13-3f07f81a64e1",
   "metadata": {},
   "outputs": [
    {
     "data": {
      "text/markdown": [
       "# Files"
      ],
      "text/plain": [
       "<IPython.core.display.Markdown object>"
      ]
     },
     "metadata": {},
     "output_type": "display_data"
    },
    {
     "name": "stdout",
     "output_type": "stream",
     "text": [
      "MC:  []\n",
      "A1:  []\n"
     ]
    },
    {
     "ename": "IndexError",
     "evalue": "list index out of range",
     "output_type": "error",
     "traceback": [
      "\u001b[0;31m---------------------------------------------------------------------------\u001b[0m",
      "\u001b[0;31mIndexError\u001b[0m                                Traceback (most recent call last)",
      "\u001b[0;32m<ipython-input-2-b4b8ab948f38>\u001b[0m in \u001b[0;36m<module>\u001b[0;34m\u001b[0m\n\u001b[1;32m     30\u001b[0m \u001b[0;34m\u001b[0m\u001b[0m\n\u001b[1;32m     31\u001b[0m \u001b[0;34m\u001b[0m\u001b[0m\n\u001b[0;32m---> 32\u001b[0;31m \u001b[0mmc\u001b[0m \u001b[0;34m=\u001b[0m \u001b[0mload_case\u001b[0m\u001b[0;34m(\u001b[0m\u001b[0mjson_files_mc\u001b[0m\u001b[0;34m[\u001b[0m\u001b[0;36m0\u001b[0m\u001b[0;34m]\u001b[0m\u001b[0;34m)\u001b[0m\u001b[0;34m\u001b[0m\u001b[0;34m\u001b[0m\u001b[0m\n\u001b[0m\u001b[1;32m     33\u001b[0m \u001b[0;31m# mc_decor = load_case(json_files_mc[1])\u001b[0m\u001b[0;34m\u001b[0m\u001b[0;34m\u001b[0m\u001b[0;34m\u001b[0m\u001b[0m\n\u001b[1;32m     34\u001b[0m \u001b[0malg1\u001b[0m \u001b[0;34m=\u001b[0m \u001b[0mload_case\u001b[0m\u001b[0;34m(\u001b[0m\u001b[0mjson_files_alg1\u001b[0m\u001b[0;34m[\u001b[0m\u001b[0;36m0\u001b[0m\u001b[0;34m]\u001b[0m\u001b[0;34m)\u001b[0m\u001b[0;34m\u001b[0m\u001b[0;34m\u001b[0m\u001b[0m\n",
      "\u001b[0;31mIndexError\u001b[0m: list index out of range"
     ]
    }
   ],
   "source": [
    "import json\n",
    "def load_case(path):\n",
    "    display(Markdown(f'## {path}'))\n",
    "    with open(path, 'r+') as file: bundle = json.load(file)\n",
    "    print('Temperature:', bundle['temperature'])\n",
    "    return bundle\n",
    "\n",
    "display(Markdown('# Files'))\n",
    "json_files_mc = sorted([pos_json for pos_json in os.listdir(path_to_json) if pos_json.endswith('.json') and pos_json.startswith('mc-hT')], \n",
    "                       reverse = True)\n",
    "json_files_alg1 = sorted([pos_json for pos_json in os.listdir(path_to_json) if pos_json.endswith('.json') and pos_json.startswith('a1-hT')],\n",
    "                         reverse = True)\n",
    "\n",
    "print(\"MC: \", json_files_mc)\n",
    "print(\"A1: \", json_files_alg1)\n",
    "\n",
    "import datetime\n",
    "date_string = datetime.date.today().strftime(\"%Y-%m-%d\")\n",
    "\n",
    "# for file_name_mc, file_name_alg1 in zip(json_files_mc, json_files_alg1):\n",
    "#     date = file_name_mc[6:len(file_name_mc) - 5] #the date is the same for the two for how run.py is constructed\n",
    "#     if date_string == date:\n",
    "#         #take the current simulation\n",
    "#         file_to_load_mc = file_name_mc\n",
    "#         file_to_load_alg1 = file_name_alg1\n",
    "#     else:\n",
    "#         #take the last simulation\n",
    "#         file_to_load_mc = json_files_mc[0] \n",
    "#         file_to_load_alg1 = json_files_alg1[0]\n",
    "\n",
    "\n",
    "mc = load_case(json_files_mc[0])\n",
    "# mc_decor = load_case(json_files_mc[1])\n",
    "alg1 = load_case(json_files_alg1[0])\n",
    "# a1_decor = load_case(json_files_alg1[1])"
   ]
  },
  {
   "cell_type": "code",
   "execution_count": null,
   "id": "75177dd9-8839-4c55-9651-f143bfbafac5",
   "metadata": {},
   "outputs": [],
   "source": [
    "import ising\n",
    "from ising import *\n",
    "import matplotlib.pyplot as plt\n",
    "\n",
    "mc_m_counts = count_variables(mc[\"magnetization_sample\"])\n",
    "alg1_m_counts = count_variables(alg1[\"magnetization_sample\"])\n",
    "mc_engy_counts = count_variables(mc[\"energy_sample\"])\n",
    "alg1_engy_counts = count_variables(alg1[\"energy_sample\"])\n",
    "\n",
    "chain = Chain(size=alg1[\"number of spins\"], temperature = alg1[\"temperature\"])\n",
    "n_samples = len(alg1[\"energy_sample\"])\n",
    "theory_engy, theory_m, theory_engy_counts, binomial_avg, binomial_std = theoretical_quantities(chain, n_samples=n_samples)\n",
    "\n",
    "multiplicity_mc, std_mc, mc_engy_counts = std_algorithms(mc_engy_counts, binomial_avg, theory_engy,\n",
    "                                                                                          binomial_std)\n",
    "multiplicity_alg1, std_alg1, alg1_engy_counts = std_algorithms(alg1_engy_counts, binomial_avg, theory_engy, binomial_std)\n",
    "\n",
    "fig, ax = plt.subplots()\n",
    "labels = mc_engy_counts.keys()\n",
    "x = np.arange(len(labels)) \n",
    "width = 0.25\n",
    "rects1 = ax.bar(x, list(mc_engy_counts.values()), width, yerr=std_mc, align='center',\n",
    "                label='MonteCarlo', color='m')\n",
    "rects2 = ax.bar(x + width, list(alg1_engy_counts.values()), width, yerr=std_alg1, align='center',\n",
    "                label='Dynamic', color='b')\n",
    "theory_engy_counts_adjusted = [round(counts) for counts in theory_engy_counts]\n",
    "rects3 = ax.bar(x + width * 2, theory_engy_counts_adjusted, width, yerr=binomial_std, align='center',\n",
    "                label='Theory', color='g')\n",
    "\n",
    "ax.set_title('Bar Chart T = 10')\n",
    "ax.set_ylabel('Counts per energy level')\n",
    "ax.set_xlabel('Energy level')\n",
    "ax.set_xticks(x + width)\n",
    "ax.set_xticklabels([i for i in labels])\n",
    "ax.legend()\n",
    "ax.bar_label(rects1, padding=3)\n",
    "ax.bar_label(rects2, padding=3)\n",
    "ax.bar_label(rects3, padding=3)\n",
    "fig.tight_layout()"
   ]
  },
  {
   "cell_type": "code",
   "execution_count": null,
   "id": "552068a5-2065-475e-a931-ce7a3a718ef3",
   "metadata": {},
   "outputs": [],
   "source": [
    "mc_engy_corr = acrl(mc[\"energy_sample\"], 20)\n",
    "mc_m_corr = acrl(mc[\"magnetization_sample\"], 10000)\n",
    "fig_kde, axes = plt.subplots(1, 2)\n",
    "axes[0].plot(mc_engy_corr)\n",
    "axes[0].set_title(\"H Correlation MonteCarlo\")\n",
    "axes[1].plot(mc_m_corr)\n",
    "axes[1].set_title(\"M Correlation MonteCarlo\")"
   ]
  },
  {
   "cell_type": "code",
   "execution_count": null,
   "id": "be178244-c1b3-4b6f-8a64-882563a35f68",
   "metadata": {},
   "outputs": [],
   "source": [
    "alg1_engy_corr = acrl(alg1[\"energy_sample\"], 100)\n",
    "alg1_m_corr = acrl(alg1[\"magnetization_sample\"], 50000)\n",
    "fig_kde, axes = plt.subplots(1, 2)\n",
    "axes[0].plot(alg1_engy_corr)\n",
    "axes[0].set_title(\"H Correlation Alg1\")\n",
    "axes[1].plot(alg1_m_corr)\n",
    "axes[1].set_title(\"M Correlation Alg1\")"
   ]
  },
  {
   "cell_type": "code",
   "execution_count": null,
   "id": "eeae19b6-a4b1-49c3-b1b0-468a205d3016",
   "metadata": {},
   "outputs": [],
   "source": [
    "#H0: the sample goes like the theoretical one\n",
    "print(f'pvalue one-sample mc:',gof(f_obs=list(mc_engy_counts.values()), f_exp=theory_engy_counts))\n",
    "print(f'pvalue one-sample alg1:',gof(f_obs=list(alg1_engy_counts.values()), f_exp=theory_engy_counts))"
   ]
  },
  {
   "cell_type": "code",
   "execution_count": null,
   "id": "3514066e-497e-4133-8a9e-73ef36f467a2",
   "metadata": {},
   "outputs": [],
   "source": [
    "#H0: the two samples came from the same distribution\n",
    "print(f'pvalue two-sample energy:', two_sample_chi2test(mc_engy_counts, alg1_engy_counts, n_samples_a=len(mc[\"energy_sample\"]), \n",
    "                                                        n_samples_b=len(alg1[\"energy_sample\"])))\n",
    "\n",
    "print(f'pvalue two-sample magnetization:', two_sample_chi2test(mc_m_counts, alg1_m_counts, n_samples_a=len(mc[\"magnetization_sample\"]), \n",
    "                                                               n_samples_b=len(alg1[\"magnetization_sample\"])))"
   ]
  },
  {
   "cell_type": "code",
   "execution_count": null,
   "id": "25d438d6-2175-4fbd-91cc-04b9401d9540",
   "metadata": {},
   "outputs": [],
   "source": []
  }
 ],
 "metadata": {
  "kernelspec": {
   "display_name": "Python 3",
   "language": "python",
   "name": "python3"
  },
  "language_info": {
   "codemirror_mode": {
    "name": "ipython",
    "version": 3
   },
   "file_extension": ".py",
   "mimetype": "text/x-python",
   "name": "python",
   "nbconvert_exporter": "python",
   "pygments_lexer": "ipython3",
   "version": "3.9.5"
  }
 },
 "nbformat": 4,
 "nbformat_minor": 5
}

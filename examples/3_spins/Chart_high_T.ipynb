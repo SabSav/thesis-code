{
 "cells": [
  {
   "cell_type": "code",
   "execution_count": 1,
   "id": "fe36d30d-708c-4190-948c-fe6ec9f7237f",
   "metadata": {},
   "outputs": [],
   "source": [
    "import sys, os\n",
    "sys.path.append(f'../../code')\n",
    "path_to_json = os.getcwd()\n",
    "\n",
    "from IPython.display import display, Markdown"
   ]
  },
  {
   "cell_type": "code",
   "execution_count": 2,
   "id": "d9b2fa88-372b-4254-8f13-3f07f81a64e1",
   "metadata": {},
   "outputs": [
    {
     "data": {
      "text/markdown": [
       "# Files"
      ],
      "text/plain": [
       "<IPython.core.display.Markdown object>"
      ]
     },
     "metadata": {},
     "output_type": "display_data"
    },
    {
     "name": "stdout",
     "output_type": "stream",
     "text": [
      "MC:  ['mc-hT.json']\n",
      "A1:  ['a1-hT.json']\n",
      "A2:  ['a2-hT.json']\n"
     ]
    },
    {
     "data": {
      "text/markdown": [
       "## mc-hT.json"
      ],
      "text/plain": [
       "<IPython.core.display.Markdown object>"
      ]
     },
     "metadata": {},
     "output_type": "display_data"
    },
    {
     "name": "stdout",
     "output_type": "stream",
     "text": [
      "Temperature: 5\n"
     ]
    },
    {
     "data": {
      "text/markdown": [
       "## a1-hT.json"
      ],
      "text/plain": [
       "<IPython.core.display.Markdown object>"
      ]
     },
     "metadata": {},
     "output_type": "display_data"
    },
    {
     "name": "stdout",
     "output_type": "stream",
     "text": [
      "Temperature: 5\n"
     ]
    },
    {
     "data": {
      "text/markdown": [
       "## a2-hT.json"
      ],
      "text/plain": [
       "<IPython.core.display.Markdown object>"
      ]
     },
     "metadata": {},
     "output_type": "display_data"
    },
    {
     "name": "stdout",
     "output_type": "stream",
     "text": [
      "Temperature: 5\n"
     ]
    }
   ],
   "source": [
    "import json\n",
    "def load_case(path):\n",
    "    display(Markdown(f'## {path}'))\n",
    "    with open(path, 'r+') as file: bundle = json.load(file)\n",
    "    print('Temperature:', bundle['temperature'])\n",
    "    return bundle\n",
    "\n",
    "display(Markdown('# Files'))\n",
    "json_files_mc = sorted([pos_json for pos_json in os.listdir(path_to_json) if pos_json.endswith('.json') and pos_json.startswith('mc-hT')],\n",
    "                       reverse = True)\n",
    "json_files_alg1 = sorted([pos_json for pos_json in os.listdir(path_to_json) if pos_json.endswith('.json') and pos_json.startswith('a1-hT')],\n",
    "                         reverse = True)\n",
    "json_files_alg2 = sorted([pos_json for pos_json in os.listdir(path_to_json) if pos_json.endswith('.json') and pos_json.startswith('a2-hT')],\n",
    "                         reverse = True)\n",
    "\n",
    "print(\"MC: \", json_files_mc)\n",
    "print(\"A1: \", json_files_alg1)\n",
    "print(\"A2: \", json_files_alg2)\n",
    "\n",
    "mc = load_case(json_files_mc[0])\n",
    "alg1 = load_case(json_files_alg1[0])\n",
    "alg2 = load_case(json_files_alg2[0])"
   ]
  },
  {
   "cell_type": "code",
   "execution_count": 3,
   "id": "75177dd9-8839-4c55-9651-f143bfbafac5",
   "metadata": {},
   "outputs": [
    {
     "name": "stderr",
     "output_type": "stream",
     "text": [
      "Generating theoretical configurations: 100%|█████████████| 8/8 [00:00<?, ?it/s]\n"
     ]
    },
    {
     "data": {
      "image/png": "[encoded data removed]",
      "text/plain": [
       "<Figure size 432x288 with 1 Axes>"
      ]
     },
     "metadata": {
      "needs_background": "light"
     },
     "output_type": "display_data"
    }
   ],
   "source": [
    "import ising\n",
    "from ising import *\n",
    "import matplotlib.pyplot as plt\n",
    "\n",
    "mc_m_counts = count_variables(mc[\"magnetization_sample\"])\n",
    "alg1_m_counts = count_variables(alg1[\"magnetization_sample\"])\n",
    "alg2_m_counts = count_variables(alg2[\"magnetization_sample\"])\n",
    "mc_engy_counts = count_variables(mc[\"energy_sample\"])\n",
    "alg1_engy_counts = count_variables(alg1[\"energy_sample\"])\n",
    "alg2_engy_counts = count_variables(alg2[\"energy_sample\"])\n",
    "\n",
    "chain = Chain(size=alg1[\"number of spins\"], temperature = alg1[\"temperature\"])\n",
    "n_samples = len(alg1[\"energy_sample\"])\n",
    "theory_engy, theory_m = theoretical_distributions(chain)\n",
    "theory_engy_counts, multinom_avg, multinom_std = theoretical_quantities(n_samples, theory_engy)\n",
    "multiplicity_mc, std_mc, mc_engy_counts = std_algorithms(mc_engy_counts, multinom_avg, theory_engy, multinom_std)\n",
    "multiplicity_alg1, std_alg1, alg1_engy_counts = std_algorithms(alg1_engy_counts, multinom_avg, theory_engy, multinom_std)\n",
    "multiplicity_alg2, std_alg2, alg2_engy_counts = std_algorithms(alg2_engy_counts, multinom_avg, theory_engy, multinom_std)\n",
    "\n",
    "fig, ax = plt.subplots()\n",
    "labels = mc_engy_counts.keys()\n",
    "x = np.arange(len(labels)) \n",
    "width = 0.15\n",
    "rects1 = ax.bar(x, list(mc_engy_counts.values()), width, yerr=std_mc, align='center',\n",
    "                label='MonteCarlo', color='m')\n",
    "rects2 = ax.bar(x + width, list(alg1_engy_counts.values()), width, yerr=std_alg1, align='center',\n",
    "                label='Alg1', color='b')\n",
    "rects3 = ax.bar(x + width * 2, list(alg2_engy_counts.values()), width, yerr=std_alg2, align='center',\n",
    "                label='Alg2', color='y')\n",
    "\n",
    "theory_engy_counts_adjusted = [round(counts) for counts in theory_engy_counts]\n",
    "rects4 = ax.bar(x + width * 3, theory_engy_counts_adjusted, width, yerr=multinom_std, align='center',\n",
    "                label='Theory', color='g')\n",
    "\n",
    "ax.set_title('Bar Chart T = 5')\n",
    "ax.set_ylabel('Counts per energy level')\n",
    "ax.set_xlabel('Energy level')\n",
    "ax.set_xticks(x + width)\n",
    "ax.set_xticklabels([i for i in labels])\n",
    "ax.legend()\n",
    "ax.bar_label(rects1, padding=3)\n",
    "ax.bar_label(rects2, padding=3)\n",
    "ax.bar_label(rects3, padding=3)\n",
    "ax.bar_label(rects4, padding=3)\n",
    "\n",
    "fig.tight_layout()"
   ]
  },
  {
   "cell_type": "code",
   "execution_count": 4,
   "id": "2e3d50c1-2054-49c5-86fb-173fdc8ee5ab",
   "metadata": {},
   "outputs": [
    {
     "data": {
      "image/png": "[encoded data removed]",
      "text/plain": [
       "<Figure size 432x288 with 1 Axes>"
      ]
     },
     "metadata": {
      "needs_background": "light"
     },
     "output_type": "display_data"
    }
   ],
   "source": [
    "theory_m_counts, multinom_avg, multinom_std = theoretical_quantities(n_samples, theory_m)\n",
    "multiplicity_mc, std_mc, mc_m_counts = std_algorithms(mc_m_counts, multinom_avg, theory_m, multinom_std)\n",
    "multiplicity_alg1, std_alg1, alg1_m_counts = std_algorithms(alg1_m_counts, multinom_avg, theory_m, multinom_std)\n",
    "multiplicity_alg2, std_alg2, alg2_m_counts = std_algorithms(alg2_m_counts, multinom_avg, theory_m, multinom_std)\n",
    "\n",
    "fig, ax = plt.subplots()\n",
    "labels = mc_m_counts.keys()\n",
    "x = np.arange(len(labels)) \n",
    "width = 0.15\n",
    "rects1 = ax.bar(x, list(mc_m_counts.values()), width, yerr=std_mc, align='center',\n",
    "                label='MonteCarlo', color='m')\n",
    "rects2 = ax.bar(x + width, list(alg1_m_counts.values()), width, yerr=std_alg1, align='center',\n",
    "                label='Alg1', color='b')\n",
    "rects3 = ax.bar(x + width * 2, list(alg2_m_counts.values()), width, yerr=std_alg2, align='center',\n",
    "                label='Alg2', color='y')\n",
    "theory_m_counts_adjusted = [round(counts) for counts in theory_m_counts]\n",
    "rects4 = ax.bar(x + width * 3, theory_m_counts_adjusted, width, yerr=multinom_std, align='center',\n",
    "                label='Theory', color='g')\n",
    "\n",
    "ax.set_title('Bar Chart T = 5')\n",
    "ax.set_ylabel('Counts per Magnetization values')\n",
    "ax.set_xlabel('Magnetization values')\n",
    "ax.set_xticks(x + width)\n",
    "ax.set_xticklabels([i for i in labels])\n",
    "ax.legend()\n",
    "ax.bar_label(rects1, padding=3)\n",
    "ax.bar_label(rects2, padding=3)\n",
    "ax.bar_label(rects3, padding=3)\n",
    "ax.bar_label(rects4, padding=3)\n",
    "fig.tight_layout()"
   ]
  },
  {
   "cell_type": "code",
   "execution_count": 5,
   "id": "552068a5-2065-475e-a931-ce7a3a718ef3",
   "metadata": {},
   "outputs": [
    {
     "data": {
      "text/plain": [
       "Text(0.5, 1.0, 'M Correlation MonteCarlo')"
      ]
     },
     "execution_count": 5,
     "metadata": {},
     "output_type": "execute_result"
    },
    {
     "data": {
      "image/png": "[encoded data removed]",
      "text/plain": [
       "<Figure size 432x288 with 2 Axes>"
      ]
     },
     "metadata": {
      "needs_background": "light"
     },
     "output_type": "display_data"
    }
   ],
   "source": [
    "mc_engy_corr = acrl(mc[\"energy_sample\"], 100)\n",
    "mc_m_corr = acrl(mc[\"magnetization_sample\"], 100)\n",
    "fig_kde, axes = plt.subplots(1, 2)\n",
    "axes[0].plot(mc_engy_corr)\n",
    "axes[0].set_title(\"H Correlation MonteCarlo\")\n",
    "axes[1].plot(mc_m_corr)\n",
    "axes[1].set_title(\"M Correlation MonteCarlo\")"
   ]
  },
  {
   "cell_type": "code",
   "execution_count": 6,
   "id": "be178244-c1b3-4b6f-8a64-882563a35f68",
   "metadata": {},
   "outputs": [
    {
     "data": {
      "text/plain": [
       "Text(0.5, 1.0, 'M Correlation Alg1')"
      ]
     },
     "execution_count": 6,
     "metadata": {},
     "output_type": "execute_result"
    },
    {
     "data": {
      "image/png": "[encoded data removed]",
      "text/plain": [
       "<Figure size 432x288 with 2 Axes>"
      ]
     },
     "metadata": {
      "needs_background": "light"
     },
     "output_type": "display_data"
    }
   ],
   "source": [
    "alg1_engy_corr = acrl(alg1[\"energy_sample\"], 100)\n",
    "alg1_m_corr = acrl(alg1[\"magnetization_sample\"], 100)\n",
    "fig_kde, axes = plt.subplots(1, 2)\n",
    "axes[0].plot(alg1_engy_corr)\n",
    "axes[0].set_title(\"H Correlation Alg1\")\n",
    "axes[1].plot(alg1_m_corr)\n",
    "axes[1].set_title(\"M Correlation Alg1\")"
   ]
  },
  {
   "cell_type": "code",
   "execution_count": 7,
   "id": "29c42a5a-3ac8-4ae4-95d6-1b6be1de99d4",
   "metadata": {},
   "outputs": [
    {
     "data": {
      "text/plain": [
       "Text(0.5, 1.0, 'M Correlation Alg2')"
      ]
     },
     "execution_count": 7,
     "metadata": {},
     "output_type": "execute_result"
    },
    {
     "data": {
      "image/png": "[encoded data removed]",
      "text/plain": [
       "<Figure size 432x288 with 2 Axes>"
      ]
     },
     "metadata": {
      "needs_background": "light"
     },
     "output_type": "display_data"
    }
   ],
   "source": [
    "alg2_engy_corr = acrl(alg2[\"energy_sample\"], 100)\n",
    "alg2_m_corr = acrl(alg1[\"magnetization_sample\"], 100)\n",
    "fig_kde, axes = plt.subplots(1, 2)\n",
    "axes[0].plot(alg2_engy_corr)\n",
    "axes[0].set_title(\"H Correlation Alg2\")\n",
    "axes[1].plot(alg2_m_corr)\n",
    "axes[1].set_title(\"M Correlation Alg2\")"
   ]
  },
  {
   "cell_type": "code",
   "execution_count": 8,
   "id": "dd2d144e-2cc7-4fd1-9e25-1dd387486c66",
   "metadata": {},
   "outputs": [
    {
     "data": {
      "text/markdown": [
       "# Chi2 test one sample"
      ],
      "text/plain": [
       "<IPython.core.display.Markdown object>"
      ]
     },
     "metadata": {},
     "output_type": "display_data"
    },
    {
     "name": "stdout",
     "output_type": "stream",
     "text": [
      "H0: the sample comes from the same distribution of the theoretical one\n",
      "Energy MC: 0.3102207188504325\n",
      "Energy Alg1: 0.8394703327608163\n",
      "Energy Alg2: 0.9168537876595927\n",
      "Energy Multinomial-MC: 0.29\n",
      "Energy Multinomial-Alg1: 0.815\n",
      "Energy Multinomial-Alg2: 0.915\n",
      "Magnetization MC: 0.48755398155155405\n",
      "Magnetization Alg1: 0.7162290309279857\n",
      "Magnetization Alg2: 0.6911031859055328\n",
      "Magnetization Multinomial-MC: 0.484\n",
      "Magnetization Multinomial-Alg1: 0.704\n",
      "Magnetization Multinomial-Alg2: 0.708\n"
     ]
    }
   ],
   "source": [
    "from statistical_tests import *\n",
    "display(Markdown(\"# Chi2 test one sample\"))\n",
    "print(f'H0: the sample comes from the same distribution of the theoretical one')\n",
    "mc_engy = np.array(list(mc_engy_counts.values()))\n",
    "alg1_engy = np.array(list(alg1_engy_counts.values()))\n",
    "alg2_engy = np.array(list(alg2_engy_counts.values()))\n",
    "mc_m = np.array(list(mc_m_counts.values()))\n",
    "alg1_m = np.array(list(alg1_m_counts.values()))\n",
    "alg2_m = np.array(list(alg2_m_counts.values()))\n",
    "print(f'Energy MC:', one_sample_chi_squared(np.array(theory_engy[:,1]), mc_engy))\n",
    "print(f'Energy Alg1:', one_sample_chi_squared(np.array(theory_engy[:,1]), alg1_engy))\n",
    "print(f'Energy Alg2:', one_sample_chi_squared(np.array(theory_engy[:,1]), alg2_engy))\n",
    "print(f'Energy Multinomial-MC:', one_sample_chi_squared_multinomial(theory_engy[:,1], mc_engy))\n",
    "print(f'Energy Multinomial-Alg1:', one_sample_chi_squared_multinomial(theory_engy[:,1], alg1_engy))\n",
    "print(f'Energy Multinomial-Alg2:', one_sample_chi_squared_multinomial(theory_engy[:,1], alg2_engy))\n",
    "print(f'Magnetization MC:', one_sample_chi_squared(np.array(theory_m[:,1]), mc_m)) \n",
    "print(f'Magnetization Alg1:', one_sample_chi_squared(np.array(theory_m[:,1]), alg1_m))\n",
    "print(f'Magnetization Alg2:', one_sample_chi_squared(np.array(theory_m[:,1]), alg2_m))\n",
    "print(f'Magnetization Multinomial-MC:', one_sample_chi_squared_multinomial(theory_m[:,1], mc_m))\n",
    "print(f'Magnetization Multinomial-Alg1:', one_sample_chi_squared_multinomial(theory_m[:,1], alg1_m))\n",
    "print(f'Magnetization Multinomial-Alg2:', one_sample_chi_squared_multinomial(theory_m[:,1], alg2_m))"
   ]
  },
  {
   "cell_type": "code",
   "execution_count": 9,
   "id": "35cc9819-e9bc-409e-9413-d8865996cbae",
   "metadata": {},
   "outputs": [
    {
     "data": {
      "text/markdown": [
       "# Loglikelihood ratio test one sample"
      ],
      "text/plain": [
       "<IPython.core.display.Markdown object>"
      ]
     },
     "metadata": {},
     "output_type": "display_data"
    },
    {
     "name": "stdout",
     "output_type": "stream",
     "text": [
      "H0: the sample comes from the same distribution of the theoretical one\n",
      "Energy MC: 0.31014396574996206\n",
      "Energy Alg1: 0.8394656676353935\n",
      "Energy Alg2: 0.9168553663853776\n",
      "Magnetization MC: 0.4875846822220158\n",
      "Magnetization Alg1: 0.7161840031545101\n",
      "Magnetization Alg2: 0.6912217918993468\n"
     ]
    }
   ],
   "source": [
    "from statistical_tests import *\n",
    "display(Markdown(\"# Loglikelihood ratio test one sample\"))\n",
    "print(f'H0: the sample comes from the same distribution of the theoretical one')\n",
    "mc_engy = np.array(list(mc_engy_counts.values()))\n",
    "alg1_engy = np.array(list(alg1_engy_counts.values()))\n",
    "alg2_engy = np.array(list(alg2_engy_counts.values()))\n",
    "mc_m = np.array(list(mc_m_counts.values()))\n",
    "alg1_m = np.array(list(alg1_m_counts.values()))\n",
    "alg2_m = np.array(list(alg2_m_counts.values()))\n",
    "print(f'Energy MC:', one_sample_test(np.array(theory_engy[:,1]), mc_engy))\n",
    "print(f'Energy Alg1:', one_sample_test(np.array(theory_engy[:,1]), alg1_engy))\n",
    "print(f'Energy Alg2:', one_sample_test(np.array(theory_engy[:,1]), alg2_engy))\n",
    "print(f'Magnetization MC:', one_sample_test(np.array(theory_m[:,1]), mc_m)) \n",
    "print(f'Magnetization Alg1:', one_sample_test(np.array(theory_m[:,1]), alg1_m))\n",
    "print(f'Magnetization Alg2:', one_sample_test(np.array(theory_m[:,1]), alg2_m))"
   ]
  },
  {
   "cell_type": "code",
   "execution_count": 10,
   "id": "89d9e3b3-a007-44ce-a13f-37c6154875b4",
   "metadata": {},
   "outputs": [
    {
     "data": {
      "text/markdown": [
       "# Chi2 test two sample"
      ],
      "text/plain": [
       "<IPython.core.display.Markdown object>"
      ]
     },
     "metadata": {},
     "output_type": "display_data"
    },
    {
     "name": "stdout",
     "output_type": "stream",
     "text": [
      "H0: the two sample comes from the same distribution\n",
      "MC - Alg1\n",
      "Energy : 0.5656495135253989\n",
      "Magnetization : 0.38767641083843934\n",
      "MC-Alg2\n",
      "Energy : 0.4286319518925713\n",
      "Magnetization : 0.45030014538649\n"
     ]
    }
   ],
   "source": [
    "from statistical_tests import *\n",
    "display(Markdown(\"# Chi2 test two sample\"))\n",
    "print(f'H0: the two sample comes from the same distribution')\n",
    "mc_engy = np.array(list(mc_engy_counts.values()))\n",
    "alg1_engy = np.array(list(alg1_engy_counts.values()))\n",
    "alg2_engy = np.array(list(alg2_engy_counts.values()))\n",
    "mc_m = np.array(list(mc_m_counts.values()))\n",
    "alg1_m = np.array(list(alg1_m_counts.values()))\n",
    "alg2_m = np.array(list(alg2_m_counts.values()))\n",
    "print(\"MC - Alg1\")\n",
    "print(f'Energy :', two_sample_chi_squared(mc_engy, alg1_engy))\n",
    "print(f'Magnetization :', two_sample_chi_squared(mc_m, alg1_m))\n",
    "print(\"MC-Alg2\")\n",
    "print(f'Energy :', two_sample_chi_squared(mc_engy, alg2_engy))\n",
    "print(f'Magnetization :', two_sample_chi_squared(mc_m, alg2_m))"
   ]
  },
  {
   "cell_type": "code",
   "execution_count": 11,
   "id": "e6056362-059c-4cd8-9de7-55028fa7dee7",
   "metadata": {},
   "outputs": [
    {
     "data": {
      "text/markdown": [
       "# LR test two sample"
      ],
      "text/plain": [
       "<IPython.core.display.Markdown object>"
      ]
     },
     "metadata": {},
     "output_type": "display_data"
    },
    {
     "name": "stdout",
     "output_type": "stream",
     "text": [
      "H0: the two sample comes from the same distribution\n",
      "MC-Alg1\n",
      "Energy : 0.01771330634422585\n",
      "Magnetization : 0.0010361470239245195\n",
      "MC-Alg2\n",
      "Energy : 0.017712578318591903\n",
      "Magnetization : 0.0010360762577949299\n"
     ]
    }
   ],
   "source": [
    "from lrtest import *\n",
    "display(Markdown(\"# LR test two sample\"))\n",
    "print(f'H0: the two sample comes from the same distribution')\n",
    "mc_engy = np.array(list(mc_engy_counts.values()))\n",
    "alg1_engy = np.array(list(alg1_engy_counts.values()))\n",
    "alg2_engy = np.array(list(alg2_engy_counts.values()))\n",
    "mc_m = np.array(list(mc_m_counts.values()))\n",
    "alg1_m = np.array(list(alg1_m_counts.values()))\n",
    "alg2_m = np.array(list(alg2_m_counts.values()))\n",
    "print(f'MC-Alg1')\n",
    "print(f'Energy :', two_samples_test(mc_engy, alg1_engy))\n",
    "print(f'Magnetization :', two_samples_test(mc_m, alg1_m))\n",
    "print(f'MC-Alg2')\n",
    "print(f'Energy :', two_samples_test(mc_engy, alg2_engy))\n",
    "print(f'Magnetization :', two_samples_test(mc_m, alg2_m))"
   ]
  }
 ],
 "metadata": {
  "kernelspec": {
   "display_name": "Python 3 (ipykernel)",
   "language": "python",
   "name": "python3"
  },
  "language_info": {
   "codemirror_mode": {
    "name": "ipython",
    "version": 3
   },
   "file_extension": ".py",
   "mimetype": "text/x-python",
   "name": "python",
   "nbconvert_exporter": "python",
   "pygments_lexer": "ipython3",
   "version": "3.9.7"
  }
 },
 "nbformat": 4,
 "nbformat_minor": 5
}

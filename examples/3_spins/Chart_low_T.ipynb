{
 "cells": [
  {
   "cell_type": "code",
   "execution_count": 1,
   "id": "cf64fb3a-2cec-4c08-bd63-9b5a13f8a119",
   "metadata": {},
   "outputs": [],
   "source": [
    "import sys, os\n",
    "sys.path.append(f'../../code')\n",
    "path_to_json = os.getcwd()\n",
    "\n",
    "from IPython.display import display, Markdown"
   ]
  },
  {
   "cell_type": "code",
   "execution_count": 2,
   "id": "a8d3dfd7-15ba-4e33-939c-e17af9e0d182",
   "metadata": {},
   "outputs": [
    {
     "data": {
      "text/markdown": [
       "# Files"
      ],
      "text/plain": [
       "<IPython.core.display.Markdown object>"
      ]
     },
     "metadata": {},
     "output_type": "display_data"
    },
    {
     "name": "stdout",
     "output_type": "stream",
     "text": [
      "MC:  ['mc-lT.json']\n",
      "A1:  ['a1-lT.json']\n"
     ]
    },
    {
     "data": {
      "text/markdown": [
       "## mc-lT.json"
      ],
      "text/plain": [
       "<IPython.core.display.Markdown object>"
      ]
     },
     "metadata": {},
     "output_type": "display_data"
    },
    {
     "name": "stdout",
     "output_type": "stream",
     "text": [
      "Temperature: 0.5\n"
     ]
    },
    {
     "data": {
      "text/markdown": [
       "## a1-lT.json"
      ],
      "text/plain": [
       "<IPython.core.display.Markdown object>"
      ]
     },
     "metadata": {},
     "output_type": "display_data"
    },
    {
     "name": "stdout",
     "output_type": "stream",
     "text": [
      "Temperature: 0.5\n"
     ]
    }
   ],
   "source": [
    "import json\n",
    "def load_case(path):\n",
    "    display(Markdown(f'## {path}'))\n",
    "    with open(path, 'r+') as file: bundle = json.load(file)\n",
    "    print('Temperature:', bundle['temperature'])\n",
    "    return bundle\n",
    "\n",
    "display(Markdown('# Files'))\n",
    "json_files_mc = sorted([pos_json for pos_json in os.listdir(path_to_json) if pos_json.endswith('.json') and pos_json.startswith('mc-lT')], \n",
    "                       reverse = True)\n",
    "json_files_alg1 = sorted([pos_json for pos_json in os.listdir(path_to_json) if pos_json.endswith('.json') and pos_json.startswith('a1-lT')],\n",
    "                         reverse = True)\n",
    "\n",
    "print(\"MC: \", json_files_mc)\n",
    "print(\"A1: \", json_files_alg1)\n",
    "\n",
    "import datetime\n",
    "date_string = datetime.date.today().strftime(\"%Y-%m-%d\")\n",
    "\n",
    "# for file_name_mc, file_name_alg1 in zip(json_files_mc, json_files_alg1):\n",
    "#     date = file_name_mc[6:len(file_name_mc) - 5] #the date is the same for the two for how run.py is constructed\n",
    "#     if date_string == date:\n",
    "#         #take the current simulation\n",
    "#         file_to_load_mc = file_name_mc\n",
    "#         file_to_load_alg1 = file_name_alg1\n",
    "#     else:\n",
    "#         #take the last simulation\n",
    "#         file_to_load_mc = json_files_mc[0] \n",
    "#         file_to_load_alg1 = json_files_alg1[0]\n",
    "\n",
    "\n",
    "mc = load_case(json_files_mc[0])\n",
    "# mc_decor = load_case(json_files_mc[1])\n",
    "alg1 = load_case(json_files_alg1[0])\n",
    "# a1_decor = load_case(json_files_alg1[1])"
   ]
  },
  {
   "cell_type": "code",
   "execution_count": 3,
   "id": "aeaae9ed-b6b0-4874-a097-be0980db2d5e",
   "metadata": {},
   "outputs": [
    {
     "data": {
      "text/markdown": [
       "# Ccorrelated samples"
      ],
      "text/plain": [
       "<IPython.core.display.Markdown object>"
      ]
     },
     "metadata": {},
     "output_type": "display_data"
    },
    {
     "name": "stderr",
     "output_type": "stream",
     "text": [
      "Generating theoretical configurations: 8it [00:00, 51941.85it/s]\n"
     ]
    },
    {
     "data": {
      "image/png": "[encoded data removed]",
      "text/plain": [
       "<Figure size 432x288 with 1 Axes>"
      ]
     },
     "metadata": {
      "needs_background": "light"
     },
     "output_type": "display_data"
    }
   ],
   "source": [
    "import ising\n",
    "from ising import *\n",
    "import matplotlib.pyplot as plt\n",
    "display(Markdown('# Ccorrelated samples'))\n",
    "\n",
    "mc_m_counts = count_variables(mc[\"magnetization_sample\"])\n",
    "alg1_m_counts = count_variables(alg1[\"magnetization_sample\"])\n",
    "\n",
    "mc_engy_counts = count_variables(mc[\"energy_sample\"])\n",
    "alg1_engy_counts = count_variables(alg1[\"energy_sample\"])\n",
    "\n",
    "chain = Chain(size=alg1[\"number of spins\"], temperature = alg1[\"temperature\"])\n",
    "n_samples = len(alg1[\"energy_sample\"])\n",
    "theory_engy, theory_m, theory_engy_counts, binomial_avg, binomial_std = theoretical_quantities(chain, n_samples=n_samples)\n",
    "\n",
    "multiplicity_mc, std_mc, mc_engy_counts = std_algorithms(mc_engy_counts, binomial_avg, theory_engy,\n",
    "                                                                                          binomial_std)\n",
    "multiplicity_alg1, std_alg1, alg1_engy_counts = std_algorithms(alg1_engy_counts, binomial_avg, theory_engy, binomial_std)\n",
    "\n",
    "fig, ax = plt.subplots()\n",
    "labels = mc_engy_counts.keys()\n",
    "x = np.arange(len(labels)) \n",
    "width = 0.25\n",
    "rects1 = ax.bar(x, list(mc_engy_counts.values()), width, yerr=std_mc, align='center',\n",
    "                label='MonteCarlo', color='m')\n",
    "rects2 = ax.bar(x + width, list(alg1_engy_counts.values()), width, yerr=std_alg1, align='center',\n",
    "                label='Dynamic', color='b')\n",
    "theory_engy_counts_adjusted = [round(counts) for counts in theory_engy_counts]\n",
    "rects3 = ax.bar(x + width * 2, theory_engy_counts_adjusted, width, yerr=binomial_std, align='center',\n",
    "                label='Theory', color='g')\n",
    "\n",
    "ax.set_title('Bar Chart T = 0.5')\n",
    "ax.set_ylabel('Counts per energy level')\n",
    "ax.set_xlabel('Energy level')\n",
    "ax.set_xticks(x + width)\n",
    "ax.set_xticklabels([i for i in labels])\n",
    "ax.legend()\n",
    "ax.bar_label(rects1, padding=3)\n",
    "ax.bar_label(rects2, padding=3)\n",
    "ax.bar_label(rects3, padding=3)\n",
    "fig.tight_layout()"
   ]
  },
  {
   "cell_type": "code",
   "execution_count": 4,
   "id": "bf25b04a-bac1-4ed5-b0fd-3297c46993b4",
   "metadata": {},
   "outputs": [
    {
     "data": {
      "text/plain": [
       "Text(0.5, 1.0, 'M Correlation MonteCarlo')"
      ]
     },
     "execution_count": 4,
     "metadata": {},
     "output_type": "execute_result"
    },
    {
     "data": {
      "image/png": "[encoded data removed]",
      "text/plain": [
       "<Figure size 432x288 with 2 Axes>"
      ]
     },
     "metadata": {
      "needs_background": "light"
     },
     "output_type": "display_data"
    }
   ],
   "source": [
    "mc_engy_corr = acrl(mc[\"energy_sample\"], 20)\n",
    "mc_m_corr = acrl(mc[\"magnetization_sample\"], 10000)\n",
    "fig_kde, axes = plt.subplots(1, 2)\n",
    "axes[0].plot(mc_engy_corr)\n",
    "axes[0].set_title(\"H Correlation MonteCarlo\")\n",
    "axes[1].plot(mc_m_corr)\n",
    "axes[1].set_title(\"M Correlation MonteCarlo\")"
   ]
  },
  {
   "cell_type": "code",
   "execution_count": 5,
   "id": "576bf4cb-e28d-4681-a219-7dddf47fe621",
   "metadata": {},
   "outputs": [
    {
     "data": {
      "text/plain": [
       "Text(0.5, 1.0, 'M Correlation Alg1')"
      ]
     },
     "execution_count": 5,
     "metadata": {},
     "output_type": "execute_result"
    },
    {
     "data": {
      "image/png": "[encoded data removed]",
      "text/plain": [
       "<Figure size 432x288 with 2 Axes>"
      ]
     },
     "metadata": {
      "needs_background": "light"
     },
     "output_type": "display_data"
    }
   ],
   "source": [
    "fmax = 1000\n",
    "alg1_engy_corr = acrl(alg1[\"energy_sample\"], 100)\n",
    "alg1_m_corr = acrl(alg1[\"magnetization_sample\"], fmax)\n",
    "\n",
    "ts = np.arange(fmax) * alg1[\"frame_step\"]\n",
    "fig_kde, axes = plt.subplots(1, 2)\n",
    "axes[0].plot(alg1_engy_corr)\n",
    "axes[0].set_title(\"H Correlation Alg1\")\n",
    "axes[1].plot(ts, alg1_m_corr)\n",
    "axes[1].set_title(\"M Correlation Alg1\")"
   ]
  },
  {
   "cell_type": "code",
   "execution_count": 6,
   "id": "71b14690-780a-4450-a78b-d17c69b2b08e",
   "metadata": {},
   "outputs": [
    {
     "name": "stdout",
     "output_type": "stream",
     "text": [
      "pvalue one-sample mc: 0.9701235973929903\n",
      "pvalue one-sample alg1: 0.9951483208174758\n"
     ]
    }
   ],
   "source": [
    "#H0: the sample goes like the theoretical one\n",
    "print(f'pvalue one-sample mc:', gof(f_obs=list(mc_engy_counts.values()), f_exp=theory_engy_counts))\n",
    "print(f'pvalue one-sample alg1:', gof(f_obs=list(alg1_engy_counts.values()), f_exp=theory_engy_counts))"
   ]
  },
  {
   "cell_type": "code",
   "execution_count": 7,
   "id": "5dce9ad6-9d05-4c6b-8719-e065723dc022",
   "metadata": {},
   "outputs": [
    {
     "name": "stdout",
     "output_type": "stream",
     "text": [
      "pvalue one-sample mc: 0.9701235973929903\n",
      "pvalue one-sample alg1: 0.9951483208174758\n",
      "pvalue two-sample energy: 0.999624243129437\n",
      "pvalue two-sample magnetization: 1.0\n"
     ]
    }
   ],
   "source": [
    "#H0: the sample goes like the theoretical one\n",
    "print(f'pvalue one-sample mc:', gof(f_obs=list(mc_engy_counts.values()), f_exp=theory_engy_counts))\n",
    "print(f'pvalue one-sample alg1:', gof(f_obs=list(alg1_engy_counts.values()), f_exp=theory_engy_counts))\n",
    "\n",
    "#H0: the two samples came from the same distribution\n",
    "print(f'pvalue two-sample energy:', two_sample_chi2test(mc_engy_counts, alg1_engy_counts, n_samples_a=len(mc[\"energy_sample\"]), \n",
    "                                                        n_samples_b=len(alg1[\"energy_sample\"])))\n",
    "print(f'pvalue two-sample magnetization:', two_sample_chi2test(mc_m_counts, alg1_m_counts, n_samples_a=len(mc[\"magnetization_sample\"]), \n",
    "                                                               n_samples_b=len(alg1[\"magnetization_sample\"])))"
   ]
  },
  {
   "cell_type": "code",
   "execution_count": 8,
   "id": "9aaedfbd-9eed-401b-b623-b781fbe3aa1f",
   "metadata": {},
   "outputs": [],
   "source": [
    "# display(Markdown('# Decorrelated samples'))\n",
    "# mc_m_counts = count_variables(mc_decor[\"magnetization_sample\"])\n",
    "# alg1_m_counts = count_variables(a1_decor[\"magnetization_sample\"])\n",
    "\n",
    "# mc_engy_counts = count_variables(mc_decor[\"energy_sample\"])\n",
    "# alg1_engy_counts = count_variables(a1_decor[\"energy_sample\"])\n",
    "\n",
    "# chain = Chain(size=a1_decor[\"number of spins\"], temperature = a1_decor[\"temperature\"])\n",
    "# n_samples = len(a1_decor[\"energy_sample\"])\n",
    "# theory_engy, theory_m, theory_engy_counts, binomial_avg, binomial_std = theoretical_quantities(chain, n_samples=n_samples)\n",
    "\n",
    "# multiplicity_mc, std_mc, mc_engy_counts = std_algorithms(mc_engy_counts, binomial_avg, theory_engy,\n",
    "#                                                                                           binomial_std)\n",
    "# multiplicity_alg1, std_alg1, alg1_engy_counts = std_algorithms(alg1_engy_counts, binomial_avg, theory_engy, binomial_std)\n",
    "\n",
    "# fig, ax = plt.subplots()\n",
    "# labels = mc_engy_counts.keys()\n",
    "# x = np.arange(len(labels)) \n",
    "# width = 0.25\n",
    "# rects1 = ax.bar(x, list(mc_engy_counts.values()), width, yerr=std_mc, align='center',\n",
    "#                 label='MonteCarlo', color='m')\n",
    "# rects2 = ax.bar(x + width, list(alg1_engy_counts.values()), width, yerr=std_alg1, align='center',\n",
    "#                 label='Dynamic', color='b')\n",
    "# theory_engy_counts_adjusted = [round(counts) for counts in theory_engy_counts]\n",
    "# rects3 = ax.bar(x + width * 2, theory_engy_counts_adjusted, width, yerr=binomial_std, align='center',\n",
    "#                 label='Theory', color='g')\n",
    "\n",
    "# ax.set_title('Bar Chart T = 0.5')\n",
    "# ax.set_ylabel('Counts per energy level')\n",
    "# ax.set_xlabel('Energy level')\n",
    "# ax.set_xticks(x + width)\n",
    "# ax.set_xticklabels([i for i in labels])\n",
    "# ax.legend()\n",
    "# ax.bar_label(rects1, padding=3)\n",
    "# ax.bar_label(rects2, padding=3)\n",
    "# ax.bar_label(rects3, padding=3)\n",
    "# fig.tight_layout()\n",
    "\n",
    "# #H0: the sample goes like the theoretical one\n",
    "# print(f'pvalue one-sample mc:', gof(f_obs=list(mc_engy_counts.values()), f_exp=theory_engy_counts))\n",
    "# print(f'pvalue one-sample alg1:', gof(f_obs=list(alg1_engy_counts.values()), f_exp=theory_engy_counts))\n",
    "\n",
    "# #H0: the two samples came from the same distribution\n",
    "# print(f'pvalue two-sample energy:', two_sample_chi2test(mc_engy_counts, alg1_engy_counts, n_samples_a=len(mc[\"energy_sample\"]), \n",
    "#                                                         n_samples_b=len(alg1[\"energy_sample\"])))\n",
    "# print(f'pvalue two-sample magnetization:', two_sample_chi2test(mc_m_counts, alg1_m_counts, n_samples_a=len(mc[\"magnetization_sample\"]), \n",
    "#                                                                n_samples_b=len(alg1[\"magnetization_sample\"])))"
   ]
  },
  {
   "cell_type": "code",
   "execution_count": null,
   "id": "5a392970-ae94-4271-a0e4-90d6907be485",
   "metadata": {},
   "outputs": [],
   "source": []
  }
 ],
 "metadata": {
  "kernelspec": {
   "display_name": "Python 3",
   "language": "python",
   "name": "python3"
  },
  "language_info": {
   "codemirror_mode": {
    "name": "ipython",
    "version": 3
   },
   "file_extension": ".py",
   "mimetype": "text/x-python",
   "name": "python",
   "nbconvert_exporter": "python",
   "pygments_lexer": "ipython3",
   "version": "3.9.5"
  }
 },
 "nbformat": 4,
 "nbformat_minor": 5
}

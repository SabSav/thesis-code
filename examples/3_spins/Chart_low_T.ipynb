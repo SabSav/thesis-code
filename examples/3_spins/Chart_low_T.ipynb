{
 "cells": [
  {
   "cell_type": "code",
   "execution_count": null,
   "id": "1c5354a5-458e-422c-a695-b37f6b24dd76",
   "metadata": {},
   "outputs": [],
   "source": [
    "import sys, os\n",
    "sys.path.append(f'../../code')\n",
    "path_to_json = os.getcwd()\n",
    "\n",
    "from IPython.display import display, Markdown"
   ]
  },
  {
   "cell_type": "code",
   "execution_count": null,
   "id": "44febfd9-9397-4f72-949a-93303d5a696f",
   "metadata": {},
   "outputs": [],
   "source": [
    "import json\n",
    "def load_case(path):\n",
    "    display(Markdown(f'## {path}'))\n",
    "    with open(path, 'r+') as file: bundle = json.load(file)\n",
    "    print('Temperature:', bundle['temperature'])\n",
    "    return bundle\n",
    "\n",
    "display(Markdown('# Files'))\n",
    "json_files_mc = sorted([pos_json for pos_json in os.listdir(path_to_json) if pos_json.endswith('.json') and pos_json.startswith('mc-lT')],\n",
    "                       reverse = True)\n",
    "json_files_alg1 = sorted([pos_json for pos_json in os.listdir(path_to_json) if pos_json.endswith('.json') and pos_json.startswith('a1-lT')],\n",
    "                         reverse = True)\n",
    "\n",
    "print(\"MC: \", json_files_mc)\n",
    "print(\"A1: \", json_files_alg1)\n",
    "\n",
    "mc = load_case(json_files_mc[0])\n",
    "alg1 = load_case(json_files_alg1[0])"
   ]
  },
  {
   "cell_type": "code",
   "execution_count": null,
   "id": "67d7d9cb-5bcc-46e6-8bd1-29cdae4a198b",
   "metadata": {},
   "outputs": [],
   "source": [
    "import ising\n",
    "from ising import *\n",
    "import matplotlib.pyplot as plt\n",
    "\n",
    "mc_m_counts = count_variables(mc[\"magnetization_sample\"])\n",
    "alg1_m_counts = count_variables(alg1[\"magnetization_sample\"])\n",
    "mc_engy_counts = count_variables(mc[\"energy_sample\"])\n",
    "alg1_engy_counts = count_variables(alg1[\"energy_sample\"])\n",
    "\n",
    "chain = Chain(size=alg1[\"number of spins\"], temperature = alg1[\"temperature\"])\n",
    "n_samples = len(alg1[\"energy_sample\"])\n",
    "theory_engy, theory_m = theoretical_distributions(chain)\n",
    "theory_engy_counts, multinom_avg, multinom_std = theoretical_quantities(n_samples, theory_engy)\n",
    "multiplicity_mc, std_mc, mc_engy_counts = std_algorithms(mc_engy_counts, multinom_avg, theory_engy, multinom_std)\n",
    "multiplicity_alg1, std_alg1, alg1_engy_counts = std_algorithms(alg1_engy_counts, multinom_avg, theory_engy, multinom_std)\n",
    "\n",
    "fig, ax = plt.subplots()\n",
    "labels = mc_engy_counts.keys()\n",
    "x = np.arange(len(labels)) \n",
    "width = 0.25\n",
    "rects1 = ax.bar(x, list(mc_engy_counts.values()), width, yerr=std_mc, align='center',\n",
    "                label='MonteCarlo', color='m')\n",
    "rects2 = ax.bar(x + width, list(alg1_engy_counts.values()), width, yerr=std_alg1, align='center',\n",
    "                label='Dynamic', color='b')\n",
    "print(theory_engy_counts)\n",
    "theory_engy_counts_adjusted = [round(counts) for counts in theory_engy_counts]\n",
    "rects3 = ax.bar(x + width * 2, theory_engy_counts_adjusted, width, yerr=multinom_std, align='center',\n",
    "                label='Theory', color='g')\n",
    "\n",
    "ax.set_title('Bar Chart T = 0.5')\n",
    "ax.set_ylabel('Counts per energy level')\n",
    "ax.set_xlabel('Energy level')\n",
    "ax.set_xticks(x + width)\n",
    "ax.set_xticklabels([i for i in labels])\n",
    "ax.legend()\n",
    "ax.bar_label(rects1, padding=3)\n",
    "ax.bar_label(rects2, padding=3)\n",
    "ax.bar_label(rects3, padding=3)\n",
    "fig.tight_layout()"
   ]
  },
  {
   "cell_type": "code",
   "execution_count": null,
   "id": "1f6b1c38-d99f-4662-b811-406075788697",
   "metadata": {},
   "outputs": [],
   "source": [
    "theory_m_counts, multinom_avg, multinom_std = theoretical_quantities(n_samples, theory_m)\n",
    "multiplicity_mc, std_mc, mc_m_counts = std_algorithms(mc_m_counts, multinom_avg, theory_m, multinom_std)\n",
    "multiplicity_alg1, std_alg1, alg1_m_counts = std_algorithms(alg1_m_counts, multinom_avg, theory_m, multinom_std)\n",
    "\n",
    "fig, ax = plt.subplots()\n",
    "labels = mc_m_counts.keys()\n",
    "x = np.arange(len(labels)) \n",
    "width = 0.25\n",
    "rects1 = ax.bar(x, list(mc_m_counts.values()), width, yerr=std_mc, align='center',\n",
    "                label='MonteCarlo', color='m')\n",
    "rects2 = ax.bar(x + width, list(alg1_m_counts.values()), width, yerr=std_alg1, align='center',\n",
    "                label='Dynamic', color='b')\n",
    "theory_m_counts_adjusted = [round(counts) for counts in theory_m_counts]\n",
    "rects3 = ax.bar(x + width * 2, theory_m_counts_adjusted, width, yerr=multinom_std, align='center',\n",
    "                label='Theory', color='g')\n",
    "\n",
    "ax.set_title('Bar Chart T = 0.5')\n",
    "ax.set_ylabel('Counts per energy level')\n",
    "ax.set_xlabel('Energy level')\n",
    "ax.set_xticks(x + width)\n",
    "ax.set_xticklabels([i for i in labels])\n",
    "ax.legend()\n",
    "ax.bar_label(rects1, padding=3)\n",
    "ax.bar_label(rects2, padding=3)\n",
    "ax.bar_label(rects3, padding=3)\n",
    "fig.tight_layout()"
   ]
  },
  {
   "cell_type": "code",
   "execution_count": null,
   "id": "df153fd0-adad-46b9-9c6b-3b0e676418d2",
   "metadata": {},
   "outputs": [],
   "source": [
    "mc_engy_corr = acrl(mc[\"energy_sample\"], 20)\n",
    "mc_m_corr = acrl(mc[\"magnetization_sample\"], 10000)\n",
    "fig_kde, axes = plt.subplots(1, 2)\n",
    "axes[0].plot(mc_engy_corr)\n",
    "axes[0].set_title(\"H Correlation MonteCarlo\")\n",
    "axes[1].plot(mc_m_corr)\n",
    "axes[1].set_title(\"M Correlation MonteCarlo\")"
   ]
  },
  {
   "cell_type": "code",
   "execution_count": null,
   "id": "35b38107-1099-4623-ab1c-30ddaca1371f",
   "metadata": {},
   "outputs": [],
   "source": [
    "alg1_engy_corr = acrl(alg1[\"energy_sample\"], 100)\n",
    "alg1_m_corr = acrl(alg1[\"magnetization_sample\"], 50000)\n",
    "fig_kde, axes = plt.subplots(1, 2)\n",
    "axes[0].plot(alg1_engy_corr)\n",
    "axes[0].set_title(\"H Correlation Alg1\")\n",
    "axes[1].plot(alg1_m_corr)\n",
    "axes[1].set_title(\"M Correlation Alg1\")"
   ]
  },
  {
   "cell_type": "code",
   "execution_count": null,
   "id": "37aa943c-6ef7-4c74-a0b4-f2e4f89f237b",
   "metadata": {},
   "outputs": [],
   "source": [
    "print('Reject lack of fit iff distance < upper_bound')\n",
    "#H0: distance >= eps, Ha: dist < eps\n",
    "print(f'Energy MC - Theory:', theoretical_test(f_obs=list(mc_engy_counts.values()), theory_prob=theory_engy[:,1], n_samples=n_samples,eps=0.15))\n",
    "print(f'Magnetization MC - Theory:', theoretical_test(f_obs=list(mc_m_counts.values()), theory_prob=theory_m[:,1], n_samples=n_samples,eps=0.15))\n",
    "#Reject lack of fit iff distance < upper_bound\n",
    "#H0: distance >= eps, Ha: dist < eps\n",
    "print(f'Energy Alg1 - Theory:', theoretical_test(f_obs=list(alg1_engy_counts.values()), theory_prob=theory_engy[:,1], n_samples=n_samples,eps=0.15))\n",
    "print(f'Magnetization Alg1 - Theory:', theoretical_test(f_obs=list(alg1_m_counts.values()), theory_prob=theory_m[:,1], n_samples=n_samples,eps=0.15))"
   ]
  },
  {
   "cell_type": "code",
   "execution_count": null,
   "id": "c786383d-ac41-4753-b917-c64122b9ab3d",
   "metadata": {},
   "outputs": [],
   "source": [
    "#H0: the two samples came from the same distribution\n",
    "print(f'Energy:', z_test(f1=list(mc_engy_counts.values()), f2=list(alg1_engy_counts.values()), n_samples=len(mc[\"energy_sample\"])))\n",
    "print(f'Magnetization:', z_test(f1=list(mc_m_counts.values()), f2=list(alg1_m_counts.values()), n_samples=len(mc[\"energy_sample\"])))"
   ]
  },
  {
   "cell_type": "code",
   "execution_count": null,
   "id": "674e9c4f-b1dd-4fe2-b77c-fb49a04b7795",
   "metadata": {},
   "outputs": [],
   "source": []
  }
 ],
 "metadata": {
  "kernelspec": {
   "display_name": "Python 3",
   "language": "python",
   "name": "python3"
  },
  "language_info": {
   "codemirror_mode": {
    "name": "ipython",
    "version": 3
   },
   "file_extension": ".py",
   "mimetype": "text/x-python",
   "name": "python",
   "nbconvert_exporter": "python",
   "pygments_lexer": "ipython3",
   "version": "3.9.5"
  }
 },
 "nbformat": 4,
 "nbformat_minor": 5
}

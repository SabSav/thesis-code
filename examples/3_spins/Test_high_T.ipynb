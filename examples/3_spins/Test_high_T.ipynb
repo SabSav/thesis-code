{
 "cells": [
  {
   "cell_type": "code",
   "execution_count": 5,
   "id": "fe36d30d-708c-4190-948c-fe6ec9f7237f",
   "metadata": {},
   "outputs": [],
   "source": [
    "import sys, os\n",
    "sys.path.append(f'../../code')\n",
    "path_to_json = os.getcwd()\n",
    "\n",
    "from IPython.display import display, Markdown"
   ]
  },
  {
   "cell_type": "code",
   "execution_count": 6,
   "id": "d9b2fa88-372b-4254-8f13-3f07f81a64e1",
   "metadata": {},
   "outputs": [
    {
     "data": {
      "text/markdown": [
       "# Files"
      ],
      "text/plain": [
       "<IPython.core.display.Markdown object>"
      ]
     },
     "metadata": {},
     "output_type": "display_data"
    },
    {
     "name": "stdout",
     "output_type": "stream",
     "text": [
      "MC:  ['mc-hT.json']\n",
      "A1:  ['a1-hT.json']\n",
      "A2:  ['a2-hT.json']\n",
      "Theory:  ['theory-hT.json']\n"
     ]
    },
    {
     "data": {
      "text/markdown": [
       "## mc-hT.json"
      ],
      "text/plain": [
       "<IPython.core.display.Markdown object>"
      ]
     },
     "metadata": {},
     "output_type": "display_data"
    },
    {
     "name": "stdout",
     "output_type": "stream",
     "text": [
      "Temperature: 3\n"
     ]
    },
    {
     "data": {
      "text/markdown": [
       "## a1-hT.json"
      ],
      "text/plain": [
       "<IPython.core.display.Markdown object>"
      ]
     },
     "metadata": {},
     "output_type": "display_data"
    },
    {
     "name": "stdout",
     "output_type": "stream",
     "text": [
      "Temperature: 3\n"
     ]
    },
    {
     "data": {
      "text/markdown": [
       "## a2-hT.json"
      ],
      "text/plain": [
       "<IPython.core.display.Markdown object>"
      ]
     },
     "metadata": {},
     "output_type": "display_data"
    },
    {
     "name": "stdout",
     "output_type": "stream",
     "text": [
      "Temperature: 3\n"
     ]
    },
    {
     "data": {
      "text/markdown": [
       "## theory-hT.json"
      ],
      "text/plain": [
       "<IPython.core.display.Markdown object>"
      ]
     },
     "metadata": {},
     "output_type": "display_data"
    },
    {
     "name": "stdout",
     "output_type": "stream",
     "text": [
      "Temperature: 3\n"
     ]
    }
   ],
   "source": [
    "import json\n",
    "def load_case(path):\n",
    "    display(Markdown(f'## {path}'))\n",
    "    with open(path, 'r+') as file: bundle = json.load(file)\n",
    "    print('Temperature:', bundle['temperature'])\n",
    "    return bundle\n",
    "\n",
    "display(Markdown('# Files'))\n",
    "json_files_mc = sorted([pos_json for pos_json in os.listdir(path_to_json) if pos_json.endswith('.json') and pos_json.startswith('mc-hT')],\n",
    "                       reverse = True)\n",
    "json_files_alg1 = sorted([pos_json for pos_json in os.listdir(path_to_json) if pos_json.endswith('.json') and pos_json.startswith('a1-hT')],\n",
    "                         reverse = True)\n",
    "json_files_alg2 = sorted([pos_json for pos_json in os.listdir(path_to_json) if pos_json.endswith('.json') and pos_json.startswith('a2-hT')],\n",
    "                         reverse = True)\n",
    "\n",
    "json_files_theory = sorted([pos_json for pos_json in os.listdir(path_to_json) if pos_json.endswith('.json') and pos_json.startswith('theory-hT')],\n",
    "                         reverse = True)\n",
    "\n",
    "\n",
    "print(\"MC: \", json_files_mc)\n",
    "print(\"A1: \", json_files_alg1)\n",
    "print(\"A2: \", json_files_alg2)\n",
    "print(\"Theory: \", json_files_theory)\n",
    "\n",
    "\n",
    "mc = load_case(json_files_mc[0])\n",
    "alg1 = load_case(json_files_alg1[0])\n",
    "alg2 = load_case(json_files_alg2[0])\n",
    "theory = load_case(json_files_theory[0])"
   ]
  },
  {
   "cell_type": "code",
   "execution_count": 7,
   "id": "da09c5a7-046d-4d06-9bb6-70a975831d00",
   "metadata": {},
   "outputs": [],
   "source": [
    "def theory_dictionary(theory_quantity_levels, quantity_level_value):\n",
    "    quantity_level = defaultdict(int)\n",
    "    keys = theory_quantity_levels\n",
    "    for k in zip(keys):\n",
    "        quantity_level[k] = 0\n",
    "    i = 0\n",
    "    for k in quantity_level.keys():\n",
    "        quantity_level[k] = quantity_level_value[i]\n",
    "        i += 1\n",
    "    quantity_level = {key[0]: value for key, value in quantity_level.items()}\n",
    "    \n",
    "    return quantity_level"
   ]
  },
  {
   "cell_type": "code",
   "execution_count": 8,
   "id": "2e3d50c1-2054-49c5-86fb-173fdc8ee5ab",
   "metadata": {},
   "outputs": [],
   "source": [
    "import ising\n",
    "from ising import *\n",
    "import matplotlib.pyplot as plt\n",
    "\n",
    "theory_engy_counts = np.array(theory[\"energy_probs\"]) * len(mc[\"energy_sample\"]);\n",
    "theory_m_counts = np.array(theory[\"magnetization_probs\"]) * len(mc[\"magnetization_sample\"]);\n",
    "theory_engy_dict = theory_dictionary(theory[\"energy_level\"], theory_engy_counts)\n",
    "theory_m_dict = theory_dictionary(theory[\"magnetization_level\"], theory_m_counts)\n",
    "\n",
    "mc_m_counts = count_variables(mc[\"magnetization_sample\"])\n",
    "mc_m_counts, theory_m_dict = equilibrate_counts(mc_m_counts,theory_m_dict)\n",
    "\n",
    "alg1_m_counts = count_variables(alg1[\"magnetization_sample\"])\n",
    "alg1_m_counts, theory_m_dict = equilibrate_counts(alg1_m_counts,theory_m_dict)\n",
    "\n",
    "alg2_m_counts = count_variables(alg2[\"magnetization_sample\"])\n",
    "alg2_m_counts, theory_m_dict = equilibrate_counts(alg2_m_counts,theory_m_dict)\n",
    "\n",
    "mc_engy_counts = count_variables(mc[\"energy_sample\"])\n",
    "mc_engy_counts, theory_engy_dict = equilibrate_counts(mc_engy_counts,theory_engy_dict)\n",
    "\n",
    "alg1_engy_counts = count_variables(alg1[\"energy_sample\"])\n",
    "alg1_engy_counts, theory_engy_dict = equilibrate_counts(alg1_engy_counts,theory_engy_dict)\n",
    "\n",
    "alg2_engy_counts = count_variables(alg2[\"energy_sample\"])\n",
    "alg2_engy_counts, theory_engy_dict = equilibrate_counts(alg2_engy_counts,theory_engy_dict)"
   ]
  },
  {
   "cell_type": "code",
   "execution_count": 9,
   "id": "dd2d144e-2cc7-4fd1-9e25-1dd387486c66",
   "metadata": {},
   "outputs": [
    {
     "data": {
      "text/markdown": [
       "# Chi2 test one sample"
      ],
      "text/plain": [
       "<IPython.core.display.Markdown object>"
      ]
     },
     "metadata": {},
     "output_type": "display_data"
    },
    {
     "name": "stdout",
     "output_type": "stream",
     "text": [
      "H0: the sample comes from the same distribution of the theoretical one\n",
      "Energy MC: 0.8175204012073815\n",
      "Energy Alg1: 0.7060227050581429\n",
      "Energy Alg2: 0.9632634694038841\n",
      "Energy Multinomial-MC: 0.813\n",
      "Energy Multinomial-Alg1: 0.7\n",
      "Energy Multinomial-Alg2: 0.96\n",
      "Magnetization MC: 0.7723522857168093\n",
      "Magnetization Alg1: 0.0001353857328739792\n",
      "Magnetization Alg2: 0.48695331546567744\n",
      "Magnetization Multinomial-MC: 0.753\n",
      "Magnetization Multinomial-Alg1: 0.0\n",
      "Magnetization Multinomial-Alg2: 0.491\n"
     ]
    }
   ],
   "source": [
    "from statistical_tests import *\n",
    "display(Markdown(\"# Chi2 test one sample\"))\n",
    "print(f'H0: the sample comes from the same distribution of the theoretical one')\n",
    "mc_engy = np.array(list(mc_engy_counts.values()))\n",
    "alg1_engy = np.array(list(alg1_engy_counts.values()))\n",
    "alg2_engy = np.array(list(alg2_engy_counts.values()))\n",
    "mc_m = np.array(list(mc_m_counts.values()))\n",
    "alg1_m = np.array(list(alg1_m_counts.values()))\n",
    "alg2_m = np.array(list(alg2_m_counts.values()))\n",
    "print(f'Energy MC:', one_sample_chi_squared(np.array(theory[\"energy_probs\"]), mc_engy))\n",
    "print(f'Energy Alg1:', one_sample_chi_squared(np.array(theory[\"energy_probs\"]), alg1_engy))\n",
    "print(f'Energy Alg2:', one_sample_chi_squared(np.array(theory[\"energy_probs\"]), alg2_engy))\n",
    "print(f'Energy Multinomial-MC:', one_sample_chi_squared_multinomial(np.array(theory[\"energy_probs\"]), mc_engy))\n",
    "print(f'Energy Multinomial-Alg1:', one_sample_chi_squared_multinomial(np.array(theory[\"energy_probs\"]), alg1_engy))\n",
    "print(f'Energy Multinomial-Alg2:', one_sample_chi_squared_multinomial(np.array(theory[\"energy_probs\"]), alg2_engy))\n",
    "print(f'Magnetization MC:', one_sample_chi_squared(np.array(theory[\"magnetization_probs\"]), mc_m)) \n",
    "print(f'Magnetization Alg1:', one_sample_chi_squared(np.array(theory[\"magnetization_probs\"]), alg1_m))\n",
    "print(f'Magnetization Alg2:', one_sample_chi_squared(np.array(theory[\"magnetization_probs\"]), alg2_m))\n",
    "print(f'Magnetization Multinomial-MC:', one_sample_chi_squared_multinomial(np.array(theory[\"magnetization_probs\"]), mc_m))\n",
    "print(f'Magnetization Multinomial-Alg1:', one_sample_chi_squared_multinomial(np.array(theory[\"magnetization_probs\"]), alg1_m))\n",
    "print(f'Magnetization Multinomial-Alg2:', one_sample_chi_squared_multinomial(np.array(theory[\"magnetization_probs\"]), alg2_m))"
   ]
  },
  {
   "cell_type": "code",
   "execution_count": 10,
   "id": "35cc9819-e9bc-409e-9413-d8865996cbae",
   "metadata": {},
   "outputs": [
    {
     "data": {
      "text/markdown": [
       "# Loglikelihood ratio test one sample"
      ],
      "text/plain": [
       "<IPython.core.display.Markdown object>"
      ]
     },
     "metadata": {},
     "output_type": "display_data"
    },
    {
     "name": "stdout",
     "output_type": "stream",
     "text": [
      "H0: the sample comes from the same distribution of the theoretical one\n",
      "Energy MC: 0.8175259779622066\n",
      "Energy Alg1: 0.7060364936601196\n",
      "Energy Alg2: 0.9632637726482821\n",
      "Magnetization MC: 0.7722831342969395\n",
      "Magnetization Alg1: 0.0001347556350217021\n",
      "Magnetization Alg2: 0.4868992525390231\n"
     ]
    }
   ],
   "source": [
    "from statistical_tests import *\n",
    "display(Markdown(\"# Loglikelihood ratio test one sample\"))\n",
    "print(f'H0: the sample comes from the same distribution of the theoretical one')\n",
    "mc_engy = np.array(list(mc_engy_counts.values()))\n",
    "alg1_engy = np.array(list(alg1_engy_counts.values()))\n",
    "alg2_engy = np.array(list(alg2_engy_counts.values()))\n",
    "mc_m = np.array(list(mc_m_counts.values()))\n",
    "alg1_m = np.array(list(alg1_m_counts.values()))\n",
    "alg2_m = np.array(list(alg2_m_counts.values()))\n",
    "print(f'Energy MC:', one_sample_test(np.array(theory[\"energy_probs\"]), mc_engy))\n",
    "print(f'Energy Alg1:', one_sample_test(np.array(theory[\"energy_probs\"]), alg1_engy))\n",
    "print(f'Energy Alg2:', one_sample_test(np.array(theory[\"energy_probs\"]), alg2_engy))\n",
    "print(f'Magnetization MC:', one_sample_test(np.array(theory[\"magnetization_probs\"]), mc_m)) \n",
    "print(f'Magnetization Alg1:', one_sample_test(np.array(theory[\"magnetization_probs\"]), alg1_m))\n",
    "print(f'Magnetization Alg2:', one_sample_test(np.array(theory[\"magnetization_probs\"]), alg2_m))"
   ]
  },
  {
   "cell_type": "code",
   "execution_count": 11,
   "id": "89d9e3b3-a007-44ce-a13f-37c6154875b4",
   "metadata": {},
   "outputs": [
    {
     "data": {
      "text/markdown": [
       "# Chi2 test two sample"
      ],
      "text/plain": [
       "<IPython.core.display.Markdown object>"
      ]
     },
     "metadata": {},
     "output_type": "display_data"
    },
    {
     "name": "stdout",
     "output_type": "stream",
     "text": [
      "H0: the two sample comes from the same distribution\n",
      "MC - Alg1\n",
      "Energy : 0.9175211953511578\n",
      "Magnetization : 0.0015237069264641655\n",
      "MC-Alg2\n",
      "Energy : 0.8961080284023113\n",
      "Magnetization : 0.9145608782775525\n"
     ]
    }
   ],
   "source": [
    "from statistical_tests import *\n",
    "display(Markdown(\"# Chi2 test two sample\"))\n",
    "print(f'H0: the two sample comes from the same distribution')\n",
    "mc_engy = np.array(list(mc_engy_counts.values()))\n",
    "alg1_engy = np.array(list(alg1_engy_counts.values()))\n",
    "alg2_engy = np.array(list(alg2_engy_counts.values()))\n",
    "mc_m = np.array(list(mc_m_counts.values()))\n",
    "alg1_m = np.array(list(alg1_m_counts.values()))\n",
    "alg2_m = np.array(list(alg2_m_counts.values()))\n",
    "print(\"MC - Alg1\")\n",
    "print(f'Energy :', two_sample_chi_squared(mc_engy, alg1_engy))\n",
    "print(f'Magnetization :', two_sample_chi_squared(mc_m, alg1_m))\n",
    "print(\"MC-Alg2\")\n",
    "print(f'Energy :', two_sample_chi_squared(mc_engy, alg2_engy))\n",
    "print(f'Magnetization :', two_sample_chi_squared(mc_m, alg2_m))"
   ]
  }
 ],
 "metadata": {
  "kernelspec": {
   "display_name": "Python 3 (ipykernel)",
   "language": "python",
   "name": "python3"
  },
  "language_info": {
   "codemirror_mode": {
    "name": "ipython",
    "version": 3
   },
   "file_extension": ".py",
   "mimetype": "text/x-python",
   "name": "python",
   "nbconvert_exporter": "python",
   "pygments_lexer": "ipython3",
   "version": "3.9.7"
  }
 },
 "nbformat": 4,
 "nbformat_minor": 5
}

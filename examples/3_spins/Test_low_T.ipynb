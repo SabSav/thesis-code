{
 "cells": [
  {
   "cell_type": "code",
   "execution_count": 1,
   "id": "1c5354a5-458e-422c-a695-b37f6b24dd76",
   "metadata": {},
   "outputs": [],
   "source": [
    "import sys, os\n",
    "sys.path.append(f'../../code')\n",
    "path_to_json = os.getcwd()\n",
    "\n",
    "from IPython.display import display, Markdown"
   ]
  },
  {
   "cell_type": "code",
   "execution_count": 2,
   "id": "44febfd9-9397-4f72-949a-93303d5a696f",
   "metadata": {},
   "outputs": [
    {
     "data": {
      "text/markdown": [
       "# Files"
      ],
      "text/plain": [
       "<IPython.core.display.Markdown object>"
      ]
     },
     "metadata": {},
     "output_type": "display_data"
    },
    {
     "name": "stdout",
     "output_type": "stream",
     "text": [
      "MC:  ['mc-lT.json']\n",
      "A1:  ['a1-lT.json']\n",
      "A2:  ['a2-lT.json']\n",
      "Theory:  ['theory-lT.json']\n"
     ]
    },
    {
     "data": {
      "text/markdown": [
       "## mc-lT.json"
      ],
      "text/plain": [
       "<IPython.core.display.Markdown object>"
      ]
     },
     "metadata": {},
     "output_type": "display_data"
    },
    {
     "name": "stdout",
     "output_type": "stream",
     "text": [
      "Temperature: 0.5\n"
     ]
    },
    {
     "data": {
      "text/markdown": [
       "## a1-lT.json"
      ],
      "text/plain": [
       "<IPython.core.display.Markdown object>"
      ]
     },
     "metadata": {},
     "output_type": "display_data"
    },
    {
     "name": "stdout",
     "output_type": "stream",
     "text": [
      "Temperature: 0.5\n"
     ]
    },
    {
     "data": {
      "text/markdown": [
       "## a2-lT.json"
      ],
      "text/plain": [
       "<IPython.core.display.Markdown object>"
      ]
     },
     "metadata": {},
     "output_type": "display_data"
    },
    {
     "name": "stdout",
     "output_type": "stream",
     "text": [
      "Temperature: 0.5\n"
     ]
    },
    {
     "data": {
      "text/markdown": [
       "## theory-lT.json"
      ],
      "text/plain": [
       "<IPython.core.display.Markdown object>"
      ]
     },
     "metadata": {},
     "output_type": "display_data"
    },
    {
     "name": "stdout",
     "output_type": "stream",
     "text": [
      "Temperature: 0.5\n"
     ]
    }
   ],
   "source": [
    "import json\n",
    "def load_case(path):\n",
    "    display(Markdown(f'## {path}'))\n",
    "    with open(path, 'r+') as file: bundle = json.load(file)\n",
    "    print('Temperature:', bundle['temperature'])\n",
    "    return bundle\n",
    "\n",
    "display(Markdown('# Files'))\n",
    "json_files_mc = sorted([pos_json for pos_json in os.listdir(path_to_json) if pos_json.endswith('.json') and pos_json.startswith('mc-lT')],\n",
    "                       reverse = True)\n",
    "json_files_alg1 = sorted([pos_json for pos_json in os.listdir(path_to_json) if pos_json.endswith('.json') and pos_json.startswith('a1-lT')],\n",
    "                         reverse = True)\n",
    "json_files_alg2 = sorted([pos_json for pos_json in os.listdir(path_to_json) if pos_json.endswith('.json') and pos_json.startswith('a2-lT')],\n",
    "                         reverse = True)\n",
    "\n",
    "json_files_theory = sorted([pos_json for pos_json in os.listdir(path_to_json) if pos_json.endswith('.json') and pos_json.startswith('theory-lT')],\n",
    "                         reverse = True)\n",
    "\n",
    "\n",
    "print(\"MC: \", json_files_mc)\n",
    "print(\"A1: \", json_files_alg1)\n",
    "print(\"A2: \", json_files_alg2)\n",
    "print(\"Theory: \", json_files_theory)\n",
    "\n",
    "\n",
    "mc = load_case(json_files_mc[0])\n",
    "alg1 = load_case(json_files_alg1[0])\n",
    "alg2 = load_case(json_files_alg2[0])\n",
    "theory = load_case(json_files_theory[0])"
   ]
  },
  {
   "cell_type": "code",
   "execution_count": 3,
   "id": "67d7d9cb-5bcc-46e6-8bd1-29cdae4a198b",
   "metadata": {},
   "outputs": [],
   "source": [
    "def theory_dictionary(theory_quantity_levels, quantity_level_value):\n",
    "    quantity_level = defaultdict(int)\n",
    "    keys = theory_quantity_levels\n",
    "    for k in zip(keys):\n",
    "        quantity_level[k] = 0\n",
    "    i = 0\n",
    "    for k in quantity_level.keys():\n",
    "        quantity_level[k] = quantity_level_value[i]\n",
    "        i += 1\n",
    "    quantity_level = {key[0]: value for key, value in quantity_level.items()}\n",
    "    \n",
    "    return quantity_level"
   ]
  },
  {
   "cell_type": "code",
   "execution_count": 4,
   "id": "586f6f7e-bc17-45d7-ab6a-36a17e568248",
   "metadata": {},
   "outputs": [],
   "source": [
    "import ising\n",
    "from ising import *\n",
    "import matplotlib.pyplot as plt\n",
    "\n",
    "theory_engy_counts = np.array(theory[\"energy_probs\"]) * len(mc[\"energy_sample\"]);\n",
    "theory_m_counts = np.array(theory[\"magnetization_probs\"]) * len(mc[\"magnetization_sample\"]);\n",
    "theory_engy_dict = theory_dictionary(theory[\"energy_level\"], theory_engy_counts)\n",
    "theory_m_dict = theory_dictionary(theory[\"magnetization_level\"], theory_m_counts)\n",
    "\n",
    "mc_m_counts = count_variables(mc[\"magnetization_sample\"])\n",
    "mc_m_counts, theory_m_dict = equilibrate_counts(mc_m_counts,theory_m_dict)\n",
    "\n",
    "alg1_m_counts = count_variables(alg1[\"magnetization_sample\"])\n",
    "alg1_m_counts, theory_m_dict = equilibrate_counts(alg1_m_counts,theory_m_dict)\n",
    "\n",
    "alg2_m_counts = count_variables(alg2[\"magnetization_sample\"])\n",
    "alg2_m_counts, theory_m_dict = equilibrate_counts(alg2_m_counts,theory_m_dict)\n",
    "\n",
    "mc_engy_counts = count_variables(mc[\"energy_sample\"])\n",
    "mc_engy_counts, theory_engy_dict = equilibrate_counts(mc_engy_counts,theory_engy_dict)\n",
    "\n",
    "alg1_engy_counts = count_variables(alg1[\"energy_sample\"])\n",
    "alg1_engy_counts, theory_engy_dict = equilibrate_counts(alg1_engy_counts,theory_engy_dict)\n",
    "\n",
    "alg2_engy_counts = count_variables(alg2[\"energy_sample\"])\n",
    "alg2_engy_counts, theory_engy_dict = equilibrate_counts(alg2_engy_counts,theory_engy_dict)"
   ]
  },
  {
   "cell_type": "code",
   "execution_count": 5,
   "id": "a26d91d2-033a-457c-bc08-1c58e38d8fab",
   "metadata": {},
   "outputs": [
    {
     "data": {
      "text/markdown": [
       "# Perfromance chi2 test one sample"
      ],
      "text/plain": [
       "<IPython.core.display.Markdown object>"
      ]
     },
     "metadata": {},
     "output_type": "display_data"
    },
    {
     "name": "stdout",
     "output_type": "stream",
     "text": [
      " Performance of Chi2 on Energy: 0.88125\n",
      " Performance of Chi2 on Magnetization: 0.58337\n"
     ]
    },
    {
     "data": {
      "text/markdown": [
       "# Chi2 test one sample"
      ],
      "text/plain": [
       "<IPython.core.display.Markdown object>"
      ]
     },
     "metadata": {},
     "output_type": "display_data"
    },
    {
     "name": "stdout",
     "output_type": "stream",
     "text": [
      "H0: the sample comes from the same distribution of the theoretical one\n",
      "Energy MC: 0.8059118053169871\n",
      "Energy Alg1: 0.7240950109222783\n",
      "Energy Alg2: 0.7297291149196246\n",
      "Magnetization MC: 9.713342889653854e-65\n",
      "Magnetization Alg1: 0.0\n",
      "Magnetization Alg2: 0.6558296188550132\n"
     ]
    }
   ],
   "source": [
    "from statistical_tests import*\n",
    "display(Markdown(\"# Perfromance chi2 test one sample\"))\n",
    "np.random.seed(0)\n",
    "engy_multinomial = np.random.multinomial(np.sum(theory_engy_counts), np.array(theory[\"energy_probs\"]))\n",
    "m_multinomial = np.random.multinomial(np.sum(theory_m_counts), np.array(theory[\"magnetization_probs\"]))\n",
    "print(f' Performance of Chi2 on Energy:', one_sample_chi_squared_resampling(np.array(theory[\"energy_probs\"]), engy_multinomial))\n",
    "print(f' Performance of Chi2 on Magnetization:',  one_sample_chi_squared_resampling(np.array(theory[\"magnetization_probs\"]), m_multinomial))\n",
    "\n",
    "display(Markdown(\"# Chi2 test one sample\"))\n",
    "print(f'H0: the sample comes from the same distribution of the theoretical one')\n",
    "mc_engy = np.array(list(mc_engy_counts.values()))\n",
    "alg1_engy = np.array(list(alg1_engy_counts.values()))\n",
    "alg2_engy = np.array(list(alg2_engy_counts.values()))\n",
    "mc_m = np.array(list(mc_m_counts.values()))\n",
    "alg1_m = np.array(list(alg1_m_counts.values()))\n",
    "alg2_m = np.array(list(alg2_m_counts.values()))\n",
    "print(f'Energy MC:', one_sample_chi_squared(np.array(theory[\"energy_probs\"]), mc_engy))\n",
    "print(f'Energy Alg1:', one_sample_chi_squared(np.array(theory[\"energy_probs\"]), alg1_engy))\n",
    "print(f'Energy Alg2:', one_sample_chi_squared(np.array(theory[\"energy_probs\"]), alg2_engy))\n",
    "\n",
    "print(f'Magnetization MC:', one_sample_chi_squared(np.array(theory[\"magnetization_probs\"]), mc_m)) \n",
    "print(f'Magnetization Alg1:', one_sample_chi_squared(np.array(theory[\"magnetization_probs\"]), alg1_m))\n",
    "print(f'Magnetization Alg2:', one_sample_chi_squared(np.array(theory[\"magnetization_probs\"]), alg2_m))"
   ]
  },
  {
   "cell_type": "code",
   "execution_count": 6,
   "id": "c9b326c0-36fa-43a0-896d-3d12d8ed6f30",
   "metadata": {},
   "outputs": [
    {
     "data": {
      "text/markdown": [
       "# Loglikelihood ratio test one sample"
      ],
      "text/plain": [
       "<IPython.core.display.Markdown object>"
      ]
     },
     "metadata": {},
     "output_type": "display_data"
    },
    {
     "name": "stdout",
     "output_type": "stream",
     "text": [
      "H0: the sample comes from the same distribution of the theoretical one\n",
      "Energy MC: 0.8068366406789192\n",
      "Energy Alg1: 0.7227422500974268\n",
      "Energy Alg2: 0.7314116124298196\n",
      "Magnetization MC: 1.2730468631432803e-64\n",
      "Magnetization Alg1: 0.0\n",
      "Magnetization Alg2: 0.6670502012797421\n"
     ]
    }
   ],
   "source": [
    "from statistical_tests import *\n",
    "display(Markdown(\"# Loglikelihood ratio test one sample\"))\n",
    "print(f'H0: the sample comes from the same distribution of the theoretical one')\n",
    "mc_engy = np.array(list(mc_engy_counts.values()))\n",
    "alg1_engy = np.array(list(alg1_engy_counts.values()))\n",
    "alg2_engy = np.array(list(alg2_engy_counts.values()))\n",
    "mc_m = np.array(list(mc_m_counts.values()))\n",
    "alg1_m = np.array(list(alg1_m_counts.values()))\n",
    "alg2_m = np.array(list(alg2_m_counts.values()))\n",
    "print(f'Energy MC:', one_sample_test(np.array(theory[\"energy_probs\"]), mc_engy))\n",
    "print(f'Energy Alg1:', one_sample_test(np.array(theory[\"energy_probs\"]), alg1_engy))\n",
    "print(f'Energy Alg2:', one_sample_test(np.array(theory[\"energy_probs\"]), alg2_engy))\n",
    "print(f'Magnetization MC:', one_sample_test(np.array(theory[\"magnetization_probs\"]), mc_m)) \n",
    "print(f'Magnetization Alg1:', one_sample_test(np.array(theory[\"magnetization_probs\"]), alg1_m))\n",
    "print(f'Magnetization Alg2:', one_sample_test(np.array(theory[\"magnetization_probs\"]), alg2_m))"
   ]
  },
  {
   "cell_type": "code",
   "execution_count": 7,
   "id": "90cdae50-1ca4-41db-a839-05e231e86ead",
   "metadata": {},
   "outputs": [
    {
     "data": {
      "text/markdown": [
       "# Chi2 test two sample"
      ],
      "text/plain": [
       "<IPython.core.display.Markdown object>"
      ]
     },
     "metadata": {},
     "output_type": "display_data"
    },
    {
     "name": "stdout",
     "output_type": "stream",
     "text": [
      "H0: the two sample comes from the same distribution\n",
      "MC - Alg1\n",
      "Energy : 0.6712184422632306\n",
      "Magnetization : 0.0\n",
      "MC-Alg2\n",
      "Energy : 0.9445591564493288\n",
      "Magnetization : 9.460863299343142e-34\n"
     ]
    }
   ],
   "source": [
    "from statistical_tests import *\n",
    "display(Markdown(\"# Chi2 test two sample\"))\n",
    "print(f'H0: the two sample comes from the same distribution')\n",
    "mc_engy = np.array(list(mc_engy_counts.values()))\n",
    "alg1_engy = np.array(list(alg1_engy_counts.values()))\n",
    "alg2_engy = np.array(list(alg2_engy_counts.values()))\n",
    "mc_m = np.array(list(mc_m_counts.values()))\n",
    "alg1_m = np.array(list(alg1_m_counts.values()))\n",
    "alg2_m = np.array(list(alg2_m_counts.values()))\n",
    "print(\"MC - Alg1\")\n",
    "print(f'Energy :', two_sample_chi_squared(mc_engy, alg1_engy))\n",
    "print(f'Magnetization :', two_sample_chi_squared(mc_m, alg1_m))\n",
    "print(\"MC-Alg2\")\n",
    "print(f'Energy :', two_sample_chi_squared(mc_engy, alg2_engy))\n",
    "print(f'Magnetization :', two_sample_chi_squared(mc_m, alg2_m))"
   ]
  },
  {
   "cell_type": "code",
   "execution_count": null,
   "id": "b99fdc85-f397-49df-b051-132fa7bb2b5f",
   "metadata": {},
   "outputs": [],
   "source": []
  }
 ],
 "metadata": {
  "kernelspec": {
   "display_name": "Python 3 (ipykernel)",
   "language": "python",
   "name": "python3"
  },
  "language_info": {
   "codemirror_mode": {
    "name": "ipython",
    "version": 3
   },
   "file_extension": ".py",
   "mimetype": "text/x-python",
   "name": "python",
   "nbconvert_exporter": "python",
   "pygments_lexer": "ipython3",
   "version": "3.9.7"
  },
  "toc-showcode": false
 },
 "nbformat": 4,
 "nbformat_minor": 5
}

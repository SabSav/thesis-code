{
 "cells": [
  {
   "cell_type": "code",
   "execution_count": 1,
   "id": "d890ebe4-d589-47ef-a4e0-d435d7b82170",
   "metadata": {},
   "outputs": [],
   "source": [
    "import sys, os\n",
    "sys.path.append(f'../../code')\n",
    "path_to_json = os.getcwd()\n",
    "\n",
    "from IPython.display import display, Markdown"
   ]
  },
  {
   "cell_type": "code",
   "execution_count": 2,
   "id": "d7ef4860-7196-4700-aa20-9e759ee05b9a",
   "metadata": {},
   "outputs": [
    {
     "data": {
      "text/markdown": [
       "# Files"
      ],
      "text/plain": [
       "<IPython.core.display.Markdown object>"
      ]
     },
     "metadata": {},
     "output_type": "display_data"
    },
    {
     "name": "stdout",
     "output_type": "stream",
     "text": [
      "MC:  ['mc-hT.json']\n",
      "A1:  ['a1-hT.json']\n",
      "A2:  ['a2-hT.json']\n",
      "Theory:  ['theory-hT.json']\n"
     ]
    },
    {
     "data": {
      "text/markdown": [
       "## mc-hT.json"
      ],
      "text/plain": [
       "<IPython.core.display.Markdown object>"
      ]
     },
     "metadata": {},
     "output_type": "display_data"
    },
    {
     "name": "stdout",
     "output_type": "stream",
     "text": [
      "Temperature: 1\n"
     ]
    },
    {
     "data": {
      "text/markdown": [
       "## a1-hT.json"
      ],
      "text/plain": [
       "<IPython.core.display.Markdown object>"
      ]
     },
     "metadata": {},
     "output_type": "display_data"
    },
    {
     "name": "stdout",
     "output_type": "stream",
     "text": [
      "Temperature: 1\n"
     ]
    },
    {
     "data": {
      "text/markdown": [
       "## a2-hT.json"
      ],
      "text/plain": [
       "<IPython.core.display.Markdown object>"
      ]
     },
     "metadata": {},
     "output_type": "display_data"
    },
    {
     "name": "stdout",
     "output_type": "stream",
     "text": [
      "Temperature: 1\n"
     ]
    },
    {
     "data": {
      "text/markdown": [
       "## theory-hT.json"
      ],
      "text/plain": [
       "<IPython.core.display.Markdown object>"
      ]
     },
     "metadata": {},
     "output_type": "display_data"
    },
    {
     "name": "stdout",
     "output_type": "stream",
     "text": [
      "Temperature: 1\n"
     ]
    }
   ],
   "source": [
    "import json\n",
    "def load_case(path):\n",
    "    display(Markdown(f'## {path}'))\n",
    "    with open(path, 'r+') as file: bundle = json.load(file)\n",
    "    print('Temperature:', bundle['temperature'])\n",
    "    return bundle\n",
    "\n",
    "display(Markdown('# Files'))\n",
    "json_files_mc = sorted([pos_json for pos_json in os.listdir(path_to_json) if pos_json.endswith('.json') and pos_json.startswith('mc-hT')],\n",
    "                       reverse = True)\n",
    "json_files_alg1 = sorted([pos_json for pos_json in os.listdir(path_to_json) if pos_json.endswith('.json') and pos_json.startswith('a1-hT')],\n",
    "                         reverse = True)\n",
    "json_files_alg2 = sorted([pos_json for pos_json in os.listdir(path_to_json) if pos_json.endswith('.json') and pos_json.startswith('a2-hT')],\n",
    "                         reverse = True)\n",
    "\n",
    "json_files_theory = sorted([pos_json for pos_json in os.listdir(path_to_json) if pos_json.endswith('.json') and pos_json.startswith('theory-hT')],\n",
    "                         reverse = True)\n",
    "\n",
    "\n",
    "print(\"MC: \", json_files_mc)\n",
    "print(\"A1: \", json_files_alg1)\n",
    "print(\"A2: \", json_files_alg2)\n",
    "print(\"Theory: \", json_files_theory)\n",
    "\n",
    "\n",
    "mc = load_case(json_files_mc[0])\n",
    "alg1 = load_case(json_files_alg1[0])\n",
    "alg2 = load_case(json_files_alg2[0])\n",
    "theory = load_case(json_files_theory[0])"
   ]
  },
  {
   "cell_type": "code",
   "execution_count": 3,
   "id": "4433078e-ca11-4da9-950d-e73690b193e4",
   "metadata": {},
   "outputs": [],
   "source": [
    "def theory_dictionary(theory_quantity_levels, quantity_level_value):\n",
    "    quantity_level = defaultdict(int)\n",
    "    keys = theory_quantity_levels\n",
    "    for k in zip(keys):\n",
    "        quantity_level[k] = 0\n",
    "    i = 0\n",
    "    for k in quantity_level.keys():\n",
    "        quantity_level[k] = quantity_level_value[i]\n",
    "        i += 1\n",
    "    quantity_level = {key[0]: value for key, value in quantity_level.items()}\n",
    "    \n",
    "    return quantity_level"
   ]
  },
  {
   "cell_type": "code",
   "execution_count": 4,
   "id": "dace9b62-2e60-4e8f-ba07-959927c3b988",
   "metadata": {},
   "outputs": [],
   "source": [
    "import ising\n",
    "from ising import *\n",
    "import matplotlib.pyplot as plt\n",
    "\n",
    "theory_engy_counts = np.array(theory[\"energy_probs\"]) * len(mc[\"energy_sample\"]);\n",
    "theory_m_counts = np.array(theory[\"magnetization_probs\"]) * len(mc[\"magnetization_sample\"]);\n",
    "theory_engy_dict = theory_dictionary(theory[\"energy_level\"], theory_engy_counts)\n",
    "theory_m_dict = theory_dictionary(theory[\"magnetization_level\"], theory_m_counts)\n",
    "\n",
    "mc_m_counts = count_variables(mc[\"magnetization_sample\"])\n",
    "mc_m_counts, theory_m_dict = equilibrate_counts(mc_m_counts,theory_m_dict)\n",
    "\n",
    "alg1_m_counts = count_variables(alg1[\"magnetization_sample\"])\n",
    "alg1_m_counts, theory_m_dict = equilibrate_counts(alg1_m_counts,theory_m_dict)\n",
    "\n",
    "alg2_m_counts = count_variables(alg2[\"magnetization_sample\"])\n",
    "alg2_m_counts, theory_m_dict = equilibrate_counts(alg2_m_counts,theory_m_dict)\n",
    "\n",
    "mc_engy_counts = count_variables(mc[\"energy_sample\"])\n",
    "mc_engy_counts, theory_engy_dict = equilibrate_counts(mc_engy_counts,theory_engy_dict)\n",
    "\n",
    "alg1_engy_counts = count_variables(alg1[\"energy_sample\"])\n",
    "alg1_engy_counts, theory_engy_dict = equilibrate_counts(alg1_engy_counts,theory_engy_dict)\n",
    "\n",
    "alg2_engy_counts = count_variables(alg2[\"energy_sample\"])\n",
    "alg2_engy_counts, theory_engy_dict = equilibrate_counts(alg2_engy_counts,theory_engy_dict)"
   ]
  },
  {
   "cell_type": "code",
   "execution_count": 5,
   "id": "824d92ef-1026-49a9-b62d-f2fe0a0f24af",
   "metadata": {},
   "outputs": [
    {
     "data": {
      "text/markdown": [
       "# Perfromance chi2 test one sample"
      ],
      "text/plain": [
       "<IPython.core.display.Markdown object>"
      ]
     },
     "metadata": {},
     "output_type": "display_data"
    },
    {
     "name": "stdout",
     "output_type": "stream",
     "text": [
      " Performance of Chi2 on Energy: 0.91521\n",
      " Performance of Chi2 on Magnetization: 0.3068\n"
     ]
    },
    {
     "data": {
      "text/markdown": [
       "# Chi2 test one sample"
      ],
      "text/plain": [
       "<IPython.core.display.Markdown object>"
      ]
     },
     "metadata": {},
     "output_type": "display_data"
    },
    {
     "name": "stdout",
     "output_type": "stream",
     "text": [
      "H0: the sample comes from the same distribution of the theoretical one\n",
      "Energy MC: 0.9280830389741048\n",
      "Energy Alg1: 0.9228276427942785\n",
      "Energy Alg2: 0.8105741324180007\n",
      "Magnetization MC: 0.29149910084151587\n",
      "Magnetization Alg1: 0.05549537968549178\n",
      "Magnetization Alg2: 0.8708992725698491\n"
     ]
    }
   ],
   "source": [
    "from statistical_tests import*\n",
    "display(Markdown(\"# Perfromance chi2 test one sample\"))\n",
    "np.random.seed(0)\n",
    "engy_multinomial = np.random.multinomial(np.sum(theory_engy_counts), np.array(theory[\"energy_probs\"]))\n",
    "m_multinomial = np.random.multinomial(np.sum(theory_m_counts), np.array(theory[\"magnetization_probs\"]))\n",
    "print(f' Performance of Chi2 on Energy:', one_sample_chi_squared_resampling(np.array(theory[\"energy_probs\"]), engy_multinomial))\n",
    "print(f' Performance of Chi2 on Magnetization:',  one_sample_chi_squared_resampling(np.array(theory[\"magnetization_probs\"]), m_multinomial))\n",
    "\n",
    "display(Markdown(\"# Chi2 test one sample\"))\n",
    "print(f'H0: the sample comes from the same distribution of the theoretical one')\n",
    "mc_engy = np.array(list(mc_engy_counts.values()))\n",
    "alg1_engy = np.array(list(alg1_engy_counts.values()))\n",
    "alg2_engy = np.array(list(alg2_engy_counts.values()))\n",
    "mc_m = np.array(list(mc_m_counts.values()))\n",
    "alg1_m = np.array(list(alg1_m_counts.values()))\n",
    "alg2_m = np.array(list(alg2_m_counts.values()))\n",
    "print(f'Energy MC:', one_sample_chi_squared(np.array(theory[\"energy_probs\"]), mc_engy))\n",
    "print(f'Energy Alg1:', one_sample_chi_squared(np.array(theory[\"energy_probs\"]), alg1_engy))\n",
    "print(f'Energy Alg2:', one_sample_chi_squared(np.array(theory[\"energy_probs\"]), alg2_engy))\n",
    "\n",
    "print(f'Magnetization MC:', one_sample_chi_squared(np.array(theory[\"magnetization_probs\"]), mc_m)) \n",
    "print(f'Magnetization Alg1:', one_sample_chi_squared(np.array(theory[\"magnetization_probs\"]), alg1_m))\n",
    "print(f'Magnetization Alg2:', one_sample_chi_squared(np.array(theory[\"magnetization_probs\"]), alg2_m))"
   ]
  },
  {
   "cell_type": "code",
   "execution_count": 6,
   "id": "6dcb97c9-5aa3-40fd-8caa-007c1f412920",
   "metadata": {},
   "outputs": [
    {
     "data": {
      "text/markdown": [
       "# Loglikelihood ratio test one sample"
      ],
      "text/plain": [
       "<IPython.core.display.Markdown object>"
      ]
     },
     "metadata": {},
     "output_type": "display_data"
    },
    {
     "name": "stdout",
     "output_type": "stream",
     "text": [
      "H0: the sample comes from the same distribution of the theoretical one\n",
      "Energy MC: 0.9999999996724576\n",
      "Energy Alg1: 0.999999999723721\n",
      "Energy Alg2: 0.9999996766896121\n",
      "Magnetization MC: 0.27577444499621434\n",
      "Magnetization Alg1: 0.051296280118694304\n",
      "Magnetization Alg2: 0.8709503744223499\n"
     ]
    }
   ],
   "source": [
    "from statistical_tests import *\n",
    "display(Markdown(\"# Loglikelihood ratio test one sample\"))\n",
    "print(f'H0: the sample comes from the same distribution of the theoretical one')\n",
    "mc_engy = np.array(list(mc_engy_counts.values()))\n",
    "alg1_engy = np.array(list(alg1_engy_counts.values()))\n",
    "alg2_engy = np.array(list(alg2_engy_counts.values()))\n",
    "mc_m = np.array(list(mc_m_counts.values()))\n",
    "alg1_m = np.array(list(alg1_m_counts.values()))\n",
    "alg2_m = np.array(list(alg2_m_counts.values()))\n",
    "print(f'Energy MC:', one_sample_test(np.array(theory[\"energy_probs\"]), mc_engy))\n",
    "print(f'Energy Alg1:', one_sample_test(np.array(theory[\"energy_probs\"]), alg1_engy))\n",
    "print(f'Energy Alg2:', one_sample_test(np.array(theory[\"energy_probs\"]), alg2_engy))\n",
    "print(f'Magnetization MC:', one_sample_test(np.array(theory[\"magnetization_probs\"]), mc_m)) \n",
    "print(f'Magnetization Alg1:', one_sample_test(np.array(theory[\"magnetization_probs\"]), alg1_m))\n",
    "print(f'Magnetization Alg2:', one_sample_test(np.array(theory[\"magnetization_probs\"]), alg2_m))"
   ]
  },
  {
   "cell_type": "code",
   "execution_count": 7,
   "id": "3e598841-efb9-43bd-894a-9a3b1c8638b5",
   "metadata": {},
   "outputs": [
    {
     "data": {
      "text/markdown": [
       "# Chi2 test two sample"
      ],
      "text/plain": [
       "<IPython.core.display.Markdown object>"
      ]
     },
     "metadata": {},
     "output_type": "display_data"
    },
    {
     "name": "stdout",
     "output_type": "stream",
     "text": [
      "H0: the two sample comes from the same distribution\n",
      "MC - Alg1\n",
      "Energy : 0.9646949954337201\n",
      "Magnetization : 0.22976842373218725\n",
      "MC-Alg2\n",
      "Energy : 0.7648487838510478\n",
      "Magnetization : 0.26979483845891045\n"
     ]
    }
   ],
   "source": [
    "from statistical_tests import *\n",
    "display(Markdown(\"# Chi2 test two sample\"))\n",
    "print(f'H0: the two sample comes from the same distribution')\n",
    "mc_engy = np.array(list(mc_engy_counts.values()))\n",
    "alg1_engy = np.array(list(alg1_engy_counts.values()))\n",
    "alg2_engy = np.array(list(alg2_engy_counts.values()))\n",
    "mc_m = np.array(list(mc_m_counts.values()))\n",
    "alg1_m = np.array(list(alg1_m_counts.values()))\n",
    "alg2_m = np.array(list(alg2_m_counts.values()))\n",
    "print(\"MC - Alg1\")\n",
    "print(f'Energy :', two_sample_chi_squared(mc_engy, alg1_engy))\n",
    "print(f'Magnetization :', two_sample_chi_squared(mc_m, alg1_m))\n",
    "print(\"MC-Alg2\")\n",
    "print(f'Energy :', two_sample_chi_squared(mc_engy, alg2_engy))\n",
    "print(f'Magnetization :', two_sample_chi_squared(mc_m, alg2_m))"
   ]
  },
  {
   "cell_type": "code",
   "execution_count": null,
   "id": "837478b0-6a5b-4520-bb69-04e65870eacd",
   "metadata": {},
   "outputs": [],
   "source": []
  }
 ],
 "metadata": {
  "kernelspec": {
   "display_name": "Python 3 (ipykernel)",
   "language": "python",
   "name": "python3"
  },
  "language_info": {
   "codemirror_mode": {
    "name": "ipython",
    "version": 3
   },
   "file_extension": ".py",
   "mimetype": "text/x-python",
   "name": "python",
   "nbconvert_exporter": "python",
   "pygments_lexer": "ipython3",
   "version": "3.9.7"
  }
 },
 "nbformat": 4,
 "nbformat_minor": 5
}

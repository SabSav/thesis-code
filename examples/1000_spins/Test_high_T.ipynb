{
 "cells": [
  {
   "cell_type": "code",
   "execution_count": 2,
   "id": "4449a053-a574-4c76-96fb-ea56cd4c225d",
   "metadata": {},
   "outputs": [],
   "source": [
    "import sys, os\n",
    "sys.path.append(f'../../code')\n",
    "path_to_json = os.getcwd()\n",
    "\n",
    "from IPython.display import display, Markdown"
   ]
  },
  {
   "cell_type": "code",
   "execution_count": 3,
   "id": "3ffc9c12-b2fc-4ab5-9aca-c1ffdda287e2",
   "metadata": {},
   "outputs": [
    {
     "data": {
      "text/markdown": [
       "# Files"
      ],
      "text/plain": [
       "<IPython.core.display.Markdown object>"
      ]
     },
     "metadata": {},
     "output_type": "display_data"
    },
    {
     "name": "stdout",
     "output_type": "stream",
     "text": [
      "MC:  ['mc-hT.json']\n",
      "A1:  ['a1-hT.json']\n",
      "A2:  ['a2-hT.json']\n"
     ]
    },
    {
     "data": {
      "text/markdown": [
       "## mc-hT.json"
      ],
      "text/plain": [
       "<IPython.core.display.Markdown object>"
      ]
     },
     "metadata": {},
     "output_type": "display_data"
    },
    {
     "name": "stdout",
     "output_type": "stream",
     "text": [
      "Temperature: 3\n"
     ]
    },
    {
     "data": {
      "text/markdown": [
       "## a1-hT.json"
      ],
      "text/plain": [
       "<IPython.core.display.Markdown object>"
      ]
     },
     "metadata": {},
     "output_type": "display_data"
    },
    {
     "name": "stdout",
     "output_type": "stream",
     "text": [
      "Temperature: 3\n"
     ]
    },
    {
     "data": {
      "text/markdown": [
       "## a2-hT.json"
      ],
      "text/plain": [
       "<IPython.core.display.Markdown object>"
      ]
     },
     "metadata": {},
     "output_type": "display_data"
    },
    {
     "name": "stdout",
     "output_type": "stream",
     "text": [
      "Temperature: 3\n"
     ]
    }
   ],
   "source": [
    "import json\n",
    "def load_case(path):\n",
    "    display(Markdown(f'## {path}'))\n",
    "    with open(path, 'r+') as file: bundle = json.load(file)\n",
    "    print('Temperature:', bundle['temperature'])\n",
    "    return bundle\n",
    "\n",
    "display(Markdown('# Files'))\n",
    "json_files_mc = sorted([pos_json for pos_json in os.listdir(path_to_json) if pos_json.endswith('.json') and pos_json.startswith('mc-hT')],\n",
    "                       reverse = True)\n",
    "json_files_alg1 = sorted([pos_json for pos_json in os.listdir(path_to_json) if pos_json.endswith('.json') and pos_json.startswith('a1-hT')],\n",
    "                         reverse = True)\n",
    "json_files_alg2 = sorted([pos_json for pos_json in os.listdir(path_to_json) if pos_json.endswith('.json') and pos_json.startswith('a2-hT')],\n",
    "                         reverse = True)\n",
    "\n",
    "print(\"MC: \", json_files_mc)\n",
    "print(\"A1: \", json_files_alg1)\n",
    "print(\"A2: \", json_files_alg2)\n",
    "\n",
    "mc = load_case(json_files_mc[0])\n",
    "alg1 = load_case(json_files_alg1[0])\n",
    "alg2 = load_case(json_files_alg2[0])"
   ]
  },
  {
   "cell_type": "code",
   "execution_count": 4,
   "id": "a52c0010-6bf2-4b68-918b-4af69bad9748",
   "metadata": {},
   "outputs": [
    {
     "data": {
      "text/markdown": [
       "# Chi2 test two sample"
      ],
      "text/plain": [
       "<IPython.core.display.Markdown object>"
      ]
     },
     "metadata": {},
     "output_type": "display_data"
    },
    {
     "name": "stdout",
     "output_type": "stream",
     "text": [
      "H0: the two sample comes from the same distribution\n",
      "MC - Alg1\n",
      "Energy : 0.031634469655838555\n",
      "Energy Mulinomial-Alg1: 0.0\n",
      "Magnetization : 0.5504777830622954\n",
      "Magnetization Mulinomial-Alg1: 0.0\n",
      "MC - Alg2\n",
      "Energy : 0.42485985208338095\n",
      "Energy Mulinomial-Alg2: 0.0\n",
      "Magnetization : 0.4408051458633835\n",
      "Magnetization Mulinomial-Alg2: 0.0\n"
     ]
    }
   ],
   "source": [
    "from statistical_tests import *\n",
    "import ising\n",
    "from ising import *\n",
    "display(Markdown(\"# Chi2 test two sample\"))\n",
    "print(f'H0: the two sample comes from the same distribution')\n",
    "mc_m_counts = count_variables(mc[\"magnetization_sample\"])\n",
    "alg1_m_counts = count_variables(alg1[\"magnetization_sample\"])\n",
    "mc_m_counts, alg1_m_counts = equilibrate_counts(mc_m_counts,alg1_m_counts)\n",
    "mc_engy_counts = count_variables(mc[\"energy_sample\"])\n",
    "alg1_engy_counts = count_variables(alg1[\"energy_sample\"])\n",
    "mc_engy_counts, alg1_engy_counts = equilibrate_counts(mc_engy_counts,alg1_engy_counts)\n",
    "mc_engy = np.array(list(mc_engy_counts.values()))\n",
    "alg1_engy = np.array(list(alg1_engy_counts.values()))\n",
    "mc_m = np.array(list(mc_m_counts.values()))\n",
    "alg1_m = np.array(list(alg1_m_counts.values()))\n",
    "print(\"MC - Alg1\")\n",
    "print(f'Energy :', two_sample_chi_squared(mc_engy, alg1_engy))\n",
    "mc_prob_engy = mc_engy / len(mc[\"energy_sample\"])\n",
    "print(f'Energy Mulinomial-Alg1:', one_sample_chi_squared_multinomial(mc_prob_engy, alg1_engy))\n",
    "print(f'Magnetization :', two_sample_chi_squared(mc_m, alg1_m))\n",
    "mc_prob_m = mc_m / len(mc[\"energy_sample\"])\n",
    "print(f'Magnetization Mulinomial-Alg1:', one_sample_chi_squared_multinomial(mc_prob_m, alg1_m))\n",
    "\n",
    "\n",
    "mc_m_counts = count_variables(mc[\"magnetization_sample\"])\n",
    "alg2_m_counts = count_variables(alg2[\"magnetization_sample\"])\n",
    "mc_m_counts, alg2_m_counts = equilibrate_counts(mc_m_counts,alg2_m_counts)\n",
    "mc_engy_counts = count_variables(mc[\"energy_sample\"])\n",
    "alg2_engy_counts = count_variables(alg2[\"energy_sample\"])\n",
    "mc_engy_counts, alg2_engy_counts = equilibrate_counts(mc_engy_counts,alg2_engy_counts)\n",
    "mc_engy = np.array(list(mc_engy_counts.values()))\n",
    "alg2_engy = np.array(list(alg2_engy_counts.values()))\n",
    "mc_m = np.array(list(mc_m_counts.values()))\n",
    "alg2_m = np.array(list(alg2_m_counts.values()))\n",
    "print(\"MC - Alg2\")\n",
    "print(f'Energy :', two_sample_chi_squared(mc_engy, alg2_engy))\n",
    "mc_prob_engy = mc_engy / len(mc[\"energy_sample\"])\n",
    "print(f'Energy Mulinomial-Alg2:', one_sample_chi_squared_multinomial(mc_prob_engy, alg2_engy))\n",
    "print(f'Magnetization :', two_sample_chi_squared(mc_m, alg2_m))\n",
    "mc_prob_m = mc_m / len(mc[\"energy_sample\"])\n",
    "print(f'Magnetization Mulinomial-Alg2:', one_sample_chi_squared_multinomial(mc_prob_m, alg2_m))"
   ]
  }
 ],
 "metadata": {
  "kernelspec": {
   "display_name": "Python 3 (ipykernel)",
   "language": "python",
   "name": "python3"
  },
  "language_info": {
   "codemirror_mode": {
    "name": "ipython",
    "version": 3
   },
   "file_extension": ".py",
   "mimetype": "text/x-python",
   "name": "python",
   "nbconvert_exporter": "python",
   "pygments_lexer": "ipython3",
   "version": "3.9.7"
  }
 },
 "nbformat": 4,
 "nbformat_minor": 5
}

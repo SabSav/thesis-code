{
 "cells": [
  {
   "cell_type": "code",
   "execution_count": null,
   "id": "4449a053-a574-4c76-96fb-ea56cd4c225d",
   "metadata": {},
   "outputs": [],
   "source": [
    "import sys, os\n",
    "sys.path.append(f'../../code')\n",
    "path_to_json = os.getcwd()\n",
    "\n",
    "from IPython.display import display, Markdown"
   ]
  },
  {
   "cell_type": "code",
   "execution_count": null,
   "id": "3ffc9c12-b2fc-4ab5-9aca-c1ffdda287e2",
   "metadata": {},
   "outputs": [],
   "source": [
    "import json\n",
    "def load_case(path):\n",
    "    display(Markdown(f'## {path}'))\n",
    "    with open(path, 'r+') as file: bundle = json.load(file)\n",
    "    print('Temperature:', bundle['temperature'])\n",
    "    return bundle\n",
    "\n",
    "display(Markdown('# Files'))\n",
    "json_files_mc = sorted([pos_json for pos_json in os.listdir(path_to_json) if pos_json.endswith('.json') and pos_json.startswith('mc-lT')],\n",
    "                       reverse = True)\n",
    "json_files_alg1 = sorted([pos_json for pos_json in os.listdir(path_to_json) if pos_json.endswith('.json') and pos_json.startswith('a1-lT')],\n",
    "                         reverse = True)\n",
    "\n",
    "print(\"MC: \", json_files_mc)\n",
    "print(\"A1: \", json_files_alg1)\n",
    "\n",
    "mc = load_case(json_files_mc[0])\n",
    "alg1 = load_case(json_files_alg1[0])"
   ]
  },
  {
   "cell_type": "code",
   "execution_count": null,
   "id": "5944f210-f487-4523-ad29-7b3adcf23395",
   "metadata": {},
   "outputs": [],
   "source": [
    "import ising\n",
    "from ising import *\n",
    "import matplotlib.pyplot as plt\n",
    "import seaborn as sns\n",
    "\n",
    "fig_kde, axes = plt.subplots(1, 2)\n",
    "h1 = sns.kdeplot(data=mc[\"energy_sample\"], bw_method='scott', color='m', ax=axes[0])\n",
    "h1.set(xlabel=None)\n",
    "h2 = sns.kdeplot(data=alg1[\"energy_sample\"], bw_method='scott', color='b', ax=axes[0])\n",
    "h2.set(xlabel=None)\n",
    "m1 = sns.kdeplot(data=mc[\"magnetization_sample\"], bw_method='scott', color='m', ax=axes[1])\n",
    "m1.set(xlabel=None)\n",
    "m2 = sns.kdeplot(data=alg1[\"magnetization_sample\"], bw_method='scott', color='b', ax=axes[1])\n",
    "m2.set(xlabel=None)\n",
    "\n",
    "axes[0].set_title(\"Energy\")\n",
    "axes[0].legend(['MonteCarlo', 'Dynamic'], loc=\"upper left\")\n",
    "axes[1].set_title(\"Magnetization\")\n",
    "axes[1].legend(['MonteCarlo', 'Dynamic'], loc=\"upper right\")"
   ]
  },
  {
   "cell_type": "code",
   "execution_count": null,
   "id": "1ff27b62-5c83-43da-b7c7-595b5aa5cca4",
   "metadata": {},
   "outputs": [],
   "source": [
    "chain = Chain(size=alg1[\"number of spins\"])\n",
    "bin_edges_engy_mc, metropolis_engy = hist(chain, mc[\"energy_sample\"], engy_flag=True)\n",
    "bin_edges_engy_dynamic, dynamic_engy = hist(chain, alg1[\"energy_sample\"], engy_flag=True)\n",
    "fig_engy, axes = plt.subplots(1, 2)\n",
    "axes[0].hist(metropolis_engy, bins=bin_edges_engy_mc, label='Metropolis', color='m')\n",
    "axes[1].hist(dynamic_engy, bins=bin_edges_engy_dynamic, label='Dynamic', color='b')\n",
    "axes[0].set_title(\"Energy Montecarlo\")\n",
    "axes[1].set_title(\"Energy Dynamic\")\n",
    "bin_edges_m_mc, metropolis_m = hist(chain, mc[\"magnetization_sample\"], engy_flag=False)\n",
    "bin_edges_m_dynamic, dynamic_m = hist(chain, alg1[\"magnetization_sample\"], engy_flag=False)\n",
    "fig_m, axes = plt.subplots(1, 2)\n",
    "axes[0].hist(metropolis_m, bins=bin_edges_m_mc, label='Metropolis', color='m')\n",
    "axes[1].hist(dynamic_m, bins=bin_edges_m_dynamic, label='Dynamic', color='b')\n",
    "axes[0].set_title(\"Magnetization Montecarlo\")\n",
    "axes[1].set_title(\"Magnetization Dynamic\")\n",
    "plt.show()"
   ]
  },
  {
   "cell_type": "code",
   "execution_count": null,
   "id": "ea316993-540b-4e17-81bc-200e1d410e85",
   "metadata": {},
   "outputs": [],
   "source": [
    "mc_engy_corr = acrl(mc[\"energy_sample\"], len(mc[\"energy_sample\"]))\n",
    "mc_m_corr = acrl(mc[\"magnetization_sample\"], len(mc[\"magnetization_sample\"]))\n",
    "fig_kde, axes = plt.subplots(1, 2)\n",
    "axes[0].plot(mc_engy_corr[:100])\n",
    "axes[0].set_title(\"H Correlation MonteCarlo\")\n",
    "axes[1].plot(mc_m_corr[:100])\n",
    "axes[1].set_title(\"M Correlation MonteCarlo\")"
   ]
  },
  {
   "cell_type": "code",
   "execution_count": null,
   "id": "0a2f6496-9b20-41b8-9bb6-6599700e83c6",
   "metadata": {},
   "outputs": [],
   "source": [
    "alg1_engy_corr = acrl(alg1[\"energy_sample\"], len(alg1[\"energy_sample\"]))\n",
    "alg1_m_corr = acrl(alg1[\"magnetization_sample\"], len(alg1[\"magnetization_sample\"]))\n",
    "fig_kde, axes = plt.subplots(1, 2)\n",
    "axes[0].plot(alg1_engy_corr[:100])\n",
    "axes[0].set_title(\"H Correlation Alg1\")\n",
    "axes[1].plot(alg1_m_corr[:100])\n",
    "axes[1].set_title(\"M Correlation Alg1\")"
   ]
  },
  {
   "cell_type": "code",
   "execution_count": null,
   "id": "316e5013-302c-44e8-9d17-4c781c1fbe27",
   "metadata": {},
   "outputs": [],
   "source": [
    "mc_m_counts = count_variables(mc[\"magnetization_sample\"])\n",
    "alg1_m_counts = count_variables(alg1[\"magnetization_sample\"])\n",
    "mc_m_counts, alg1_m_counts = equilibrate_counts(mc_m_counts,alg1_m_counts)\n",
    "mc_engy_counts = count_variables(mc[\"energy_sample\"])\n",
    "alg1_engy_counts = count_variables(alg1[\"energy_sample\"])\n",
    "mc_m_counts, alg1_m_counts = equilibrate_counts(mc_engy_counts,alg1_engy_counts)\n",
    "#H0: the two samples came from the same distribution\n",
    "print(f'Energy:', z_test(f1=list(mc_engy_counts.values()), f2=list(alg1_engy_counts.values()), n_samples=len(mc[\"energy_sample\"])))\n",
    "print(f'Magnetization:', z_test(f1=list(mc_m_counts.values()), f2=list(alg1_m_counts.values()), n_samples=len(mc[\"energy_sample\"])))"
   ]
  }
 ],
 "metadata": {
  "kernelspec": {
   "display_name": "Python 3",
   "language": "python",
   "name": "python3"
  },
  "language_info": {
   "codemirror_mode": {
    "name": "ipython",
    "version": 3
   },
   "file_extension": ".py",
   "mimetype": "text/x-python",
   "name": "python",
   "nbconvert_exporter": "python",
   "pygments_lexer": "ipython3",
   "version": "3.9.5"
  }
 },
 "nbformat": 4,
 "nbformat_minor": 5
}

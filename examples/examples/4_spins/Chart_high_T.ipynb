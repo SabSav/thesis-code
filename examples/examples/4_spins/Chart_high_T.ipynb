{
 "cells": [
  {
   "cell_type": "code",
   "execution_count": 1,
   "id": "d890ebe4-d589-47ef-a4e0-d435d7b82170",
   "metadata": {},
   "outputs": [],
   "source": [
    "import sys, os\n",
    "sys.path.append(f'../../code')\n",
    "path_to_json = os.getcwd()\n",
    "\n",
    "from IPython.display import display, Markdown"
   ]
  },
  {
   "cell_type": "code",
   "execution_count": 2,
   "id": "d7ef4860-7196-4700-aa20-9e759ee05b9a",
   "metadata": {},
   "outputs": [
    {
     "data": {
      "text/markdown": [
       "# Files"
      ],
      "text/plain": [
       "<IPython.core.display.Markdown object>"
      ]
     },
     "metadata": {},
     "output_type": "display_data"
    },
    {
     "name": "stdout",
     "output_type": "stream",
     "text": [
      "MC:  ['mc-hT.json']\n",
      "A1:  ['a1-hT.json']\n",
      "A2:  ['a2-hT.json']\n"
     ]
    },
    {
     "data": {
      "text/markdown": [
       "## mc-hT.json"
      ],
      "text/plain": [
       "<IPython.core.display.Markdown object>"
      ]
     },
     "metadata": {},
     "output_type": "display_data"
    },
    {
     "name": "stdout",
     "output_type": "stream",
     "text": [
      "Temperature: 5\n"
     ]
    },
    {
     "data": {
      "text/markdown": [
       "## a1-hT.json"
      ],
      "text/plain": [
       "<IPython.core.display.Markdown object>"
      ]
     },
     "metadata": {},
     "output_type": "display_data"
    },
    {
     "name": "stdout",
     "output_type": "stream",
     "text": [
      "Temperature: 5\n"
     ]
    },
    {
     "data": {
      "text/markdown": [
       "## a2-hT.json"
      ],
      "text/plain": [
       "<IPython.core.display.Markdown object>"
      ]
     },
     "metadata": {},
     "output_type": "display_data"
    },
    {
     "name": "stdout",
     "output_type": "stream",
     "text": [
      "Temperature: 5\n"
     ]
    }
   ],
   "source": [
    "import json\n",
    "def load_case(path):\n",
    "    display(Markdown(f'## {path}'))\n",
    "    with open(path, 'r+') as file: bundle = json.load(file)\n",
    "    print('Temperature:', bundle['temperature'])\n",
    "    return bundle\n",
    "\n",
    "display(Markdown('# Files'))\n",
    "json_files_mc = sorted([pos_json for pos_json in os.listdir(path_to_json) if pos_json.endswith('.json') and pos_json.startswith('mc-hT')],\n",
    "                       reverse = True)\n",
    "json_files_alg1 = sorted([pos_json for pos_json in os.listdir(path_to_json) if pos_json.endswith('.json') and pos_json.startswith('a1-hT')],\n",
    "                         reverse = True)\n",
    "\n",
    "json_files_alg2 = sorted([pos_json for pos_json in os.listdir(path_to_json) if pos_json.endswith('.json') and pos_json.startswith('a2-hT')],\n",
    "                         reverse = True)\n",
    "\n",
    "print(\"MC: \", json_files_mc)\n",
    "print(\"A1: \", json_files_alg1)\n",
    "print(\"A2: \", json_files_alg2)\n",
    "\n",
    "mc = load_case(json_files_mc[0])\n",
    "alg1 = load_case(json_files_alg1[0])\n",
    "alg2 = load_case(json_files_alg2[0])"
   ]
  },
  {
   "cell_type": "code",
   "execution_count": 3,
   "id": "4433078e-ca11-4da9-950d-e73690b193e4",
   "metadata": {},
   "outputs": [
    {
     "name": "stderr",
     "output_type": "stream",
     "text": [
      "Generating theoretical configurations: 100%|█| 16/16 [00:00<00:00, 7965.44it/s]\n"
     ]
    },
    {
     "data": {
      "text/plain": [
       "[Text(0, 3, '25655'), Text(0, 3, '69165'), Text(0, 3, '5180')]"
      ]
     },
     "execution_count": 3,
     "metadata": {},
     "output_type": "execute_result"
    },
    {
     "data": {
      "image/png": "[encoded data removed]",
      "text/plain": [
       "<Figure size 432x288 with 1 Axes>"
      ]
     },
     "metadata": {
      "needs_background": "light"
     },
     "output_type": "display_data"
    }
   ],
   "source": [
    "import ising\n",
    "from ising import *\n",
    "import matplotlib.pyplot as plt\n",
    "\n",
    "mc_m_counts = count_variables(mc[\"magnetization_sample\"])\n",
    "alg1_m_counts = count_variables(alg1[\"magnetization_sample\"])\n",
    "alg2_m_counts = count_variables(alg2[\"magnetization_sample\"])\n",
    "mc_engy_counts = count_variables(mc[\"energy_sample\"])\n",
    "alg1_engy_counts = count_variables(alg1[\"energy_sample\"])\n",
    "alg2_engy_counts = count_variables(alg2[\"energy_sample\"])\n",
    "\n",
    "chain = Chain(size=alg1[\"number of spins\"], temperature = alg1[\"temperature\"])\n",
    "n_samples = len(alg1[\"energy_sample\"])\n",
    "theory_engy, theory_m = theoretical_distributions(chain)\n",
    "theory_engy_counts, multinom_avg, multinom_std = theoretical_quantities(n_samples, theory_engy)\n",
    "multiplicity_mc, std_mc, mc_engy_counts = std_algorithms(mc_engy_counts, multinom_avg, theory_engy, multinom_std)\n",
    "multiplicity_alg1, std_alg1, alg1_engy_counts = std_algorithms(alg1_engy_counts, multinom_avg, theory_engy, multinom_std)\n",
    "multiplicity_alg2, std_alg2, alg2_engy_counts = std_algorithms(alg2_engy_counts, multinom_avg, theory_engy, multinom_std)\n",
    "\n",
    "fig, ax = plt.subplots()\n",
    "labels = mc_engy_counts.keys()\n",
    "x = np.arange(len(labels)) \n",
    "width = 0.15\n",
    "rects1 = ax.bar(x, list(mc_engy_counts.values()), width, yerr=std_mc, align='center',\n",
    "                label='MonteCarlo', color='m')\n",
    "rects2 = ax.bar(x + width, list(alg1_engy_counts.values()), width, yerr=std_alg1, align='center',\n",
    "                label='Alg1', color='b')\n",
    "rects3 = ax.bar(x + width * 2, list(alg2_engy_counts.values()), width, yerr=std_alg2, align='center',\n",
    "                label='Alg2', color='y')\n",
    "\n",
    "theory_engy_counts_adjusted = [round(counts) for counts in theory_engy_counts]\n",
    "rects4 = ax.bar(x + width * 3, theory_engy_counts_adjusted, width, yerr=multinom_std, align='center',\n",
    "                label='Theory', color='g')\n",
    "\n",
    "ax.set_title('Bar Chart T = 5')\n",
    "ax.set_ylabel('Counts per energy level')\n",
    "ax.set_xlabel('Energy level')\n",
    "ax.set_xticks(x + width)\n",
    "ax.set_xticklabels([i for i in labels])\n",
    "ax.legend()\n",
    "ax.bar_label(rects1, padding=3)\n",
    "ax.bar_label(rects2, padding=3)\n",
    "ax.bar_label(rects3, padding=3)\n",
    "ax.bar_label(rects4, padding=3)"
   ]
  },
  {
   "cell_type": "code",
   "execution_count": 4,
   "id": "dace9b62-2e60-4e8f-ba07-959927c3b988",
   "metadata": {},
   "outputs": [
    {
     "data": {
      "image/png": "[encoded data removed]",
      "text/plain": [
       "<Figure size 432x288 with 1 Axes>"
      ]
     },
     "metadata": {
      "needs_background": "light"
     },
     "output_type": "display_data"
    }
   ],
   "source": [
    "theory_m_counts, multinom_avg, multinom_std = theoretical_quantities(n_samples, theory_m)\n",
    "multiplicity_mc, std_mc, mc_m_counts = std_algorithms(mc_m_counts, multinom_avg, theory_m, multinom_std)\n",
    "multiplicity_alg1, std_alg1, alg1_m_counts = std_algorithms(alg1_m_counts, multinom_avg, theory_m, multinom_std)\n",
    "multiplicity_alg2, std_alg2, alg2_m_counts = std_algorithms(alg2_m_counts, multinom_avg, theory_m, multinom_std)\n",
    "\n",
    "fig, ax = plt.subplots()\n",
    "labels = mc_m_counts.keys()\n",
    "x = np.arange(len(labels)) \n",
    "width = 0.15\n",
    "rects1 = ax.bar(x, list(mc_m_counts.values()), width, yerr=std_mc, align='center',\n",
    "                label='MonteCarlo', color='m')\n",
    "rects2 = ax.bar(x + width, list(alg1_m_counts.values()), width, yerr=std_alg1, align='center',\n",
    "                label='Alg1', color='b')\n",
    "rects3 = ax.bar(x + width * 2, list(alg2_m_counts.values()), width, yerr=std_alg2, align='center',\n",
    "                label='Alg2', color='y')\n",
    "theory_m_counts_adjusted = [round(counts) for counts in theory_m_counts]\n",
    "rects4 = ax.bar(x + width * 3, theory_m_counts_adjusted, width, yerr=multinom_std, align='center',\n",
    "                label='Theory', color='g')\n",
    "\n",
    "ax.set_title('Bar Chart T = 5')\n",
    "ax.set_ylabel('Counts per Magnetization values')\n",
    "ax.set_xlabel('Magnetization values')\n",
    "ax.set_xticks(x + width)\n",
    "ax.set_xticklabels([i for i in labels])\n",
    "ax.legend()\n",
    "ax.bar_label(rects1, padding=3)\n",
    "ax.bar_label(rects2, padding=3)\n",
    "ax.bar_label(rects3, padding=3)\n",
    "ax.bar_label(rects4, padding=3)\n",
    "fig.tight_layout()"
   ]
  },
  {
   "cell_type": "code",
   "execution_count": 5,
   "id": "824d92ef-1026-49a9-b62d-f2fe0a0f24af",
   "metadata": {},
   "outputs": [
    {
     "data": {
      "text/plain": [
       "Text(0.5, 1.0, 'M Correlation MonteCarlo')"
      ]
     },
     "execution_count": 5,
     "metadata": {},
     "output_type": "execute_result"
    },
    {
     "data": {
      "image/png": "[encoded data removed]",
      "text/plain": [
       "<Figure size 432x288 with 2 Axes>"
      ]
     },
     "metadata": {
      "needs_background": "light"
     },
     "output_type": "display_data"
    }
   ],
   "source": [
    "mc_engy_corr = acrl(mc[\"energy_sample\"], 100)\n",
    "mc_m_corr = acrl(mc[\"magnetization_sample\"], 100)\n",
    "fig_kde, axes = plt.subplots(1, 2)\n",
    "axes[0].plot(mc_engy_corr)\n",
    "axes[0].set_title(\"H Correlation MonteCarlo\")\n",
    "axes[1].plot(mc_m_corr)\n",
    "axes[1].set_title(\"M Correlation MonteCarlo\")"
   ]
  },
  {
   "cell_type": "code",
   "execution_count": 6,
   "id": "6dcb97c9-5aa3-40fd-8caa-007c1f412920",
   "metadata": {},
   "outputs": [
    {
     "data": {
      "text/plain": [
       "Text(0.5, 1.0, 'M Correlation Alg1')"
      ]
     },
     "execution_count": 6,
     "metadata": {},
     "output_type": "execute_result"
    },
    {
     "data": {
      "image/png": "[encoded data removed]",
      "text/plain": [
       "<Figure size 432x288 with 2 Axes>"
      ]
     },
     "metadata": {
      "needs_background": "light"
     },
     "output_type": "display_data"
    }
   ],
   "source": [
    "alg1_engy_corr = acrl(alg1[\"energy_sample\"], 100)\n",
    "alg1_m_corr = acrl(alg1[\"magnetization_sample\"], 100)\n",
    "fig_kde, axes = plt.subplots(1, 2)\n",
    "axes[0].plot(alg1_engy_corr)\n",
    "axes[0].set_title(\"H Correlation Alg1\")\n",
    "axes[1].plot(alg1_m_corr)\n",
    "axes[1].set_title(\"M Correlation Alg1\")"
   ]
  },
  {
   "cell_type": "code",
   "execution_count": 7,
   "id": "3e598841-efb9-43bd-894a-9a3b1c8638b5",
   "metadata": {},
   "outputs": [
    {
     "data": {
      "text/plain": [
       "Text(0.5, 1.0, 'M Correlation Alg2')"
      ]
     },
     "execution_count": 7,
     "metadata": {},
     "output_type": "execute_result"
    },
    {
     "data": {
      "image/png": "[encoded data removed]",
      "text/plain": [
       "<Figure size 432x288 with 2 Axes>"
      ]
     },
     "metadata": {
      "needs_background": "light"
     },
     "output_type": "display_data"
    }
   ],
   "source": [
    "alg2_engy_corr = acrl(alg2[\"energy_sample\"], 100)\n",
    "alg2_m_corr = acrl(alg1[\"magnetization_sample\"], 100)\n",
    "fig_kde, axes = plt.subplots(1, 2)\n",
    "axes[0].plot(alg2_engy_corr)\n",
    "axes[0].set_title(\"H Correlation Alg2\")\n",
    "axes[1].plot(alg2_m_corr)\n",
    "axes[1].set_title(\"M Correlation Alg2\")"
   ]
  },
  {
   "cell_type": "code",
   "execution_count": 8,
   "id": "3abdd168-7a0c-4e99-8e9a-9e24fbe21923",
   "metadata": {},
   "outputs": [
    {
     "data": {
      "text/markdown": [
       "# Chi2 test one sample"
      ],
      "text/plain": [
       "<IPython.core.display.Markdown object>"
      ]
     },
     "metadata": {},
     "output_type": "display_data"
    },
    {
     "name": "stdout",
     "output_type": "stream",
     "text": [
      "H0: the sample comes from the same distribution of the theoretical one\n",
      "Energy MC: 0.3846828840133682\n",
      "Energy Alg1: 0.95384652581059\n",
      "Energy Alg2: 0.9223286975774242\n",
      "Energy Multinomial-MC: 0.377\n",
      "Energy Multinomial-Alg1: 0.948\n",
      "Energy Multinomial-Alg2: 0.931\n",
      "Magnetization MC: 0.0\n",
      "Magnetization Alg1: 0.0\n",
      "Magnetization Alg2: 0.0\n",
      "Magnetization Multinomial-MC: 0.0\n",
      "Magnetization Multinomial-Alg1: 0.0\n",
      "Magnetization Multinomial-Alg2: 0.0\n"
     ]
    }
   ],
   "source": [
    "from statistical_tests import *\n",
    "display(Markdown(\"# Chi2 test one sample\"))\n",
    "print(f'H0: the sample comes from the same distribution of the theoretical one')\n",
    "mc_engy = np.array(list(mc_engy_counts.values()))\n",
    "alg1_engy = np.array(list(alg1_engy_counts.values()))\n",
    "alg2_engy = np.array(list(alg2_engy_counts.values()))\n",
    "mc_m = np.array(list(mc_m_counts.values()))\n",
    "alg1_m = np.array(list(alg1_m_counts.values()))\n",
    "alg2_m = np.array(list(alg2_m_counts.values()))\n",
    "print(f'Energy MC:', one_sample_chi_squared(np.array(theory_engy[:,1]), mc_engy))\n",
    "print(f'Energy Alg1:', one_sample_chi_squared(np.array(theory_engy[:,1]), alg1_engy))\n",
    "print(f'Energy Alg2:', one_sample_chi_squared(np.array(theory_engy[:,1]), alg2_engy))\n",
    "print(f'Energy Multinomial-MC:', one_sample_chi_squared_multinomial(theory_engy[:,1], mc_engy))\n",
    "print(f'Energy Multinomial-Alg1:', one_sample_chi_squared_multinomial(theory_engy[:,1], alg1_engy))\n",
    "print(f'Energy Multinomial-Alg2:', one_sample_chi_squared_multinomial(theory_engy[:,1], alg2_engy))\n",
    "print(f'Magnetization MC:', one_sample_chi_squared(np.array(theory_m[:,1]), mc_m)) \n",
    "print(f'Magnetization Alg1:', one_sample_chi_squared(np.array(theory_m[:,1]), alg1_m))\n",
    "print(f'Magnetization Alg2:', one_sample_chi_squared(np.array(theory_m[:,1]), alg2_m))\n",
    "print(f'Magnetization Multinomial-MC:', one_sample_chi_squared_multinomial(theory_m[:,1], mc_m))\n",
    "print(f'Magnetization Multinomial-Alg1:', one_sample_chi_squared_multinomial(theory_m[:,1], alg1_m))\n",
    "print(f'Magnetization Multinomial-Alg2:', one_sample_chi_squared_multinomial(theory_m[:,1], alg2_m))"
   ]
  },
  {
   "cell_type": "code",
   "execution_count": 9,
   "id": "8de972dc-a22b-4eae-ba4c-9e05c3eb8080",
   "metadata": {},
   "outputs": [
    {
     "data": {
      "text/markdown": [
       "# Loglikelihood ratio test one sample"
      ],
      "text/plain": [
       "<IPython.core.display.Markdown object>"
      ]
     },
     "metadata": {},
     "output_type": "display_data"
    },
    {
     "name": "stdout",
     "output_type": "stream",
     "text": [
      "H0: the sample comes from the same distribution of the theoretical one\n",
      "Energy MC: 0.3834733269635532\n",
      "Energy Alg1: 0.9538791353068131\n",
      "Energy Alg2: 0.9224457895389465\n",
      "Magnetization MC: 0.0\n",
      "Magnetization Alg1: 0.0\n",
      "Magnetization Alg2: 0.0\n"
     ]
    }
   ],
   "source": [
    "from statistical_tests import *\n",
    "display(Markdown(\"# Loglikelihood ratio test one sample\"))\n",
    "print(f'H0: the sample comes from the same distribution of the theoretical one')\n",
    "mc_engy = np.array(list(mc_engy_counts.values()))\n",
    "alg1_engy = np.array(list(alg1_engy_counts.values()))\n",
    "alg2_engy = np.array(list(alg2_engy_counts.values()))\n",
    "mc_m = np.array(list(mc_m_counts.values()))\n",
    "alg1_m = np.array(list(alg1_m_counts.values()))\n",
    "alg2_m = np.array(list(alg2_m_counts.values()))\n",
    "print(f'Energy MC:', one_sample_test(np.array(theory_engy[:,1]), mc_engy))\n",
    "print(f'Energy Alg1:', one_sample_test(np.array(theory_engy[:,1]), alg1_engy))\n",
    "print(f'Energy Alg2:', one_sample_test(np.array(theory_engy[:,1]), alg2_engy))\n",
    "print(f'Magnetization MC:', one_sample_test(np.array(theory_m[:,1]), mc_m)) \n",
    "print(f'Magnetization Alg1:', one_sample_test(np.array(theory_m[:,1]), alg1_m))\n",
    "print(f'Magnetization Alg2:', one_sample_test(np.array(theory_m[:,1]), alg2_m))"
   ]
  },
  {
   "cell_type": "code",
   "execution_count": 10,
   "id": "ed616412-4c6b-410a-b803-26a09bb7da2b",
   "metadata": {},
   "outputs": [
    {
     "data": {
      "text/markdown": [
       "# Chi2 test two sample"
      ],
      "text/plain": [
       "<IPython.core.display.Markdown object>"
      ]
     },
     "metadata": {},
     "output_type": "display_data"
    },
    {
     "name": "stdout",
     "output_type": "stream",
     "text": [
      "H0: the two sample comes from the same distribution\n",
      "MC - Alg1\n",
      "Energy : 0.30501249621089105\n",
      "Magnetization : 0.6518080514722384\n",
      "MC-Alg2\n",
      "Energy : 0.4579436250557928\n",
      "Magnetization : 0.6470909745894667\n"
     ]
    }
   ],
   "source": [
    "from statistical_tests import two_sample_chi_squared\n",
    "display(Markdown(\"# Chi2 test two sample\"))\n",
    "print(f'H0: the two sample comes from the same distribution')\n",
    "mc_engy = list(mc_engy_counts.values())\n",
    "alg1_engy = list(alg1_engy_counts.values())\n",
    "mc_m = list(mc_m_counts.values())\n",
    "alg1_m = list(alg1_m_counts.values())\n",
    "print(\"MC - Alg1\")\n",
    "print(f'Energy :', two_sample_chi_squared(mc_engy, alg1_engy))\n",
    "print(f'Magnetization :', two_sample_chi_squared(mc_m, alg1_m))\n",
    "print(\"MC-Alg2\")\n",
    "print(f'Energy :', two_sample_chi_squared(mc_engy, alg2_engy))\n",
    "print(f'Magnetization :', two_sample_chi_squared(mc_m, alg2_m))"
   ]
  },
  {
   "cell_type": "code",
   "execution_count": 11,
   "id": "3492cc75-c004-4fa6-a30b-1ae62b52eb60",
   "metadata": {},
   "outputs": [
    {
     "data": {
      "text/markdown": [
       "# LR test two sample"
      ],
      "text/plain": [
       "<IPython.core.display.Markdown object>"
      ]
     },
     "metadata": {},
     "output_type": "display_data"
    },
    {
     "name": "stdout",
     "output_type": "stream",
     "text": [
      "H0: the two sample comes from the same distribution\n",
      "MC-Alg1\n",
      "Energy : 0.005772207889761647\n",
      "Magnetization : 0.0005398386725939717\n",
      "MC-Alg2\n",
      "Energy : 0.005770484041878846\n",
      "Magnetization : 0.0005399016448628845\n"
     ]
    }
   ],
   "source": [
    "from statistical_tests import *\n",
    "display(Markdown(\"# LR test two sample\"))\n",
    "print(f'H0: the two sample comes from the same distribution')\n",
    "mc_engy = np.array(list(mc_engy_counts.values()))\n",
    "alg1_engy = np.array(list(alg1_engy_counts.values()))\n",
    "alg2_engy = np.array(list(alg2_engy_counts.values()))\n",
    "mc_m = np.array(list(mc_m_counts.values()))\n",
    "alg1_m = np.array(list(alg1_m_counts.values()))\n",
    "alg2_m = np.array(list(alg2_m_counts.values()))\n",
    "print(f'MC-Alg1')\n",
    "print(f'Energy :', two_samples_test(mc_engy, alg1_engy))\n",
    "print(f'Magnetization :', two_samples_test(mc_m, alg1_m))\n",
    "print(f'MC-Alg2')\n",
    "print(f'Energy :', two_samples_test(mc_engy, alg2_engy))\n",
    "print(f'Magnetization :', two_samples_test(mc_m, alg2_m))"
   ]
  }
 ],
 "metadata": {
  "kernelspec": {
   "display_name": "Python 3 (ipykernel)",
   "language": "python",
   "name": "python3"
  },
  "language_info": {
   "codemirror_mode": {
    "name": "ipython",
    "version": 3
   },
   "file_extension": ".py",
   "mimetype": "text/x-python",
   "name": "python",
   "nbconvert_exporter": "python",
   "pygments_lexer": "ipython3",
   "version": "3.9.7"
  }
 },
 "nbformat": 4,
 "nbformat_minor": 5
}

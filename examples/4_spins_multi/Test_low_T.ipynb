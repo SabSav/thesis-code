{
 "cells": [
  {
   "cell_type": "code",
   "execution_count": 1,
   "id": "3a55401e-cba7-4d77-b822-9a99c757b3c1",
   "metadata": {},
   "outputs": [],
   "source": [
    "import sys, os\n",
    "sys.path.append(f'../../code')\n",
    "path_to_json = os.getcwd()\n",
    "\n",
    "from IPython.display import display, Markdown"
   ]
  },
  {
   "cell_type": "code",
   "execution_count": 2,
   "id": "36c94691-0d8c-45e1-8e7a-320b9ad87b51",
   "metadata": {},
   "outputs": [
    {
     "data": {
      "text/markdown": [
       "# Files"
      ],
      "text/plain": [
       "<IPython.core.display.Markdown object>"
      ]
     },
     "metadata": {},
     "output_type": "display_data"
    },
    {
     "name": "stdout",
     "output_type": "stream",
     "text": [
      "MC:  ['mc-lT.json']\n",
      "A1:  ['a1-lT.json']\n",
      "A2:  ['a2-lT.json']\n",
      "Theory:  ['theory-lT.json']\n"
     ]
    },
    {
     "data": {
      "text/markdown": [
       "## mc-lT.json"
      ],
      "text/plain": [
       "<IPython.core.display.Markdown object>"
      ]
     },
     "metadata": {},
     "output_type": "display_data"
    },
    {
     "name": "stdout",
     "output_type": "stream",
     "text": [
      "Temperature: 0.5\n"
     ]
    },
    {
     "data": {
      "text/markdown": [
       "## a1-lT.json"
      ],
      "text/plain": [
       "<IPython.core.display.Markdown object>"
      ]
     },
     "metadata": {},
     "output_type": "display_data"
    },
    {
     "name": "stdout",
     "output_type": "stream",
     "text": [
      "Temperature: 0.5\n"
     ]
    },
    {
     "data": {
      "text/markdown": [
       "## a2-lT.json"
      ],
      "text/plain": [
       "<IPython.core.display.Markdown object>"
      ]
     },
     "metadata": {},
     "output_type": "display_data"
    },
    {
     "name": "stdout",
     "output_type": "stream",
     "text": [
      "Temperature: 0.5\n"
     ]
    },
    {
     "data": {
      "text/markdown": [
       "## theory-lT.json"
      ],
      "text/plain": [
       "<IPython.core.display.Markdown object>"
      ]
     },
     "metadata": {},
     "output_type": "display_data"
    },
    {
     "name": "stdout",
     "output_type": "stream",
     "text": [
      "Temperature: 0.5\n"
     ]
    }
   ],
   "source": [
    "import json\n",
    "def load_case(path):\n",
    "    display(Markdown(f'## {path}'))\n",
    "    with open(path, 'r+') as file: bundle = json.load(file)\n",
    "    print('Temperature:', bundle['temperature'])\n",
    "    return bundle\n",
    "\n",
    "display(Markdown('# Files'))\n",
    "json_files_mc = sorted([pos_json for pos_json in os.listdir(path_to_json) if pos_json.endswith('.json') and pos_json.startswith('mc-lT')],\n",
    "                       reverse = True)\n",
    "json_files_alg1 = sorted([pos_json for pos_json in os.listdir(path_to_json) if pos_json.endswith('.json') and pos_json.startswith('a1-lT')],\n",
    "                         reverse = True)\n",
    "json_files_alg2 = sorted([pos_json for pos_json in os.listdir(path_to_json) if pos_json.endswith('.json') and pos_json.startswith('a2-lT')],\n",
    "                         reverse = True)\n",
    "\n",
    "json_files_theory = sorted([pos_json for pos_json in os.listdir(path_to_json) if pos_json.endswith('.json') and pos_json.startswith('theory-lT')],\n",
    "                         reverse = True)\n",
    "\n",
    "\n",
    "print(\"MC: \", json_files_mc)\n",
    "print(\"A1: \", json_files_alg1)\n",
    "print(\"A2: \", json_files_alg2)\n",
    "print(\"Theory: \", json_files_theory)\n",
    "\n",
    "\n",
    "mc = load_case(json_files_mc[0])\n",
    "alg1 = load_case(json_files_alg1[0])\n",
    "alg2 = load_case(json_files_alg2[0])\n",
    "theory = load_case(json_files_theory[0])"
   ]
  },
  {
   "cell_type": "code",
   "execution_count": 3,
   "id": "cd1d7896-7160-4a64-89ca-a9ccb3767cea",
   "metadata": {},
   "outputs": [],
   "source": [
    "def theory_dictionary(theory_quantity_levels, quantity_level_value):\n",
    "    quantity_level = defaultdict(int)\n",
    "    keys = theory_quantity_levels\n",
    "    for k in zip(keys):\n",
    "        quantity_level[k] = 0\n",
    "    i = 0\n",
    "    for k in quantity_level.keys():\n",
    "        quantity_level[k] = quantity_level_value[i]\n",
    "        i += 1\n",
    "    quantity_level = {key[0]: value for key, value in quantity_level.items()}\n",
    "    \n",
    "    return quantity_level"
   ]
  },
  {
   "cell_type": "code",
   "execution_count": 4,
   "id": "5b125b01-f45f-46a7-a4a3-7fbcfbf2bd90",
   "metadata": {},
   "outputs": [],
   "source": [
    "import ising\n",
    "from ising import *\n",
    "import matplotlib.pyplot as plt\n",
    "\n",
    "theory_engy_counts = np.array(theory[\"energy_probs\"]) * len(mc[\"energy_sample\"]);\n",
    "theory_m_counts = np.array(theory[\"magnetization_probs\"]) * len(mc[\"magnetization_sample\"]);\n",
    "theory_engy_dict = theory_dictionary(theory[\"energy_level\"], theory_engy_counts)\n",
    "theory_m_dict = theory_dictionary(theory[\"magnetization_level\"], theory_m_counts)\n",
    "\n",
    "mc_m_counts = count_variables(mc[\"magnetization_sample\"])\n",
    "mc_m_counts, theory_m_dict = equilibrate_counts(mc_m_counts,theory_m_dict)\n",
    "\n",
    "alg1_m_counts = count_variables(alg1[\"magnetization_sample\"])\n",
    "alg1_m_counts, theory_m_dict = equilibrate_counts(alg1_m_counts,theory_m_dict)\n",
    "\n",
    "alg2_m_counts = count_variables(alg2[\"magnetization_sample\"])\n",
    "alg2_m_counts, theory_m_dict = equilibrate_counts(alg2_m_counts,theory_m_dict)\n",
    "\n",
    "mc_engy_counts = count_variables(mc[\"energy_sample\"])\n",
    "mc_engy_counts, theory_engy_dict = equilibrate_counts(mc_engy_counts,theory_engy_dict)\n",
    "\n",
    "alg1_engy_counts = count_variables(alg1[\"energy_sample\"])\n",
    "alg1_engy_counts, theory_engy_dict = equilibrate_counts(alg1_engy_counts,theory_engy_dict)\n",
    "\n",
    "alg2_engy_counts = count_variables(alg2[\"energy_sample\"])\n",
    "alg2_engy_counts, theory_engy_dict = equilibrate_counts(alg2_engy_counts,theory_engy_dict)"
   ]
  },
  {
   "cell_type": "code",
   "execution_count": 5,
   "id": "7d42b4b3-1245-4462-b34f-7f46f5734f57",
   "metadata": {},
   "outputs": [
    {
     "data": {
      "text/markdown": [
       "# Perfromance chi2 test one sample"
      ],
      "text/plain": [
       "<IPython.core.display.Markdown object>"
      ]
     },
     "metadata": {},
     "output_type": "display_data"
    },
    {
     "name": "stdout",
     "output_type": "stream",
     "text": [
      " Performance of Chi2 on Energy: 0.91084\n",
      " Performance of Chi2 on Magnetization: 0.93282\n"
     ]
    },
    {
     "data": {
      "text/markdown": [
       "# Chi2 test one sample"
      ],
      "text/plain": [
       "<IPython.core.display.Markdown object>"
      ]
     },
     "metadata": {},
     "output_type": "display_data"
    },
    {
     "name": "stdout",
     "output_type": "stream",
     "text": [
      "H0: the sample comes from the same distribution of the theoretical one\n",
      "Energy MC: 0.6822288550142626\n",
      "Energy Alg1: 0.2096839421414053\n",
      "Energy Alg2: 0.13782066457534922\n",
      "Magnetization MC: 0.7898691686825609\n",
      "Magnetization Alg1: 0.5536195618606358\n",
      "Magnetization Alg2: 0.9372937929521703\n"
     ]
    }
   ],
   "source": [
    "from statistical_tests import*\n",
    "display(Markdown(\"# Perfromance chi2 test one sample\"))\n",
    "np.random.seed(0)\n",
    "engy_multinomial = np.random.multinomial(np.sum(theory_engy_counts), np.array(theory[\"energy_probs\"]))\n",
    "m_multinomial = np.random.multinomial(np.sum(theory_m_counts), np.array(theory[\"magnetization_probs\"]))\n",
    "print(f' Performance of Chi2 on Energy:', one_sample_chi_squared_resampling(np.array(theory[\"energy_probs\"]), engy_multinomial))\n",
    "print(f' Performance of Chi2 on Magnetization:',  one_sample_chi_squared_resampling(np.array(theory[\"magnetization_probs\"]), m_multinomial))\n",
    "\n",
    "display(Markdown(\"# Chi2 test one sample\"))\n",
    "print(f'H0: the sample comes from the same distribution of the theoretical one')\n",
    "mc_engy = np.array(list(mc_engy_counts.values()))\n",
    "alg1_engy = np.array(list(alg1_engy_counts.values()))\n",
    "alg2_engy = np.array(list(alg2_engy_counts.values()))\n",
    "mc_m = np.array(list(mc_m_counts.values()))\n",
    "alg1_m = np.array(list(alg1_m_counts.values()))\n",
    "alg2_m = np.array(list(alg2_m_counts.values()))\n",
    "print(f'Energy MC:', one_sample_chi_squared(np.array(theory[\"energy_probs\"]), mc_engy))\n",
    "print(f'Energy Alg1:', one_sample_chi_squared(np.array(theory[\"energy_probs\"]), alg1_engy))\n",
    "print(f'Energy Alg2:', one_sample_chi_squared(np.array(theory[\"energy_probs\"]), alg2_engy))\n",
    "\n",
    "print(f'Magnetization MC:', one_sample_chi_squared(np.array(theory[\"magnetization_probs\"]), mc_m)) \n",
    "print(f'Magnetization Alg1:', one_sample_chi_squared(np.array(theory[\"magnetization_probs\"]), alg1_m))\n",
    "print(f'Magnetization Alg2:', one_sample_chi_squared(np.array(theory[\"magnetization_probs\"]), alg2_m))"
   ]
  },
  {
   "cell_type": "code",
   "execution_count": 6,
   "id": "b64a743b-7a3c-4892-92f6-9fb6c757fb3d",
   "metadata": {},
   "outputs": [
    {
     "data": {
      "text/markdown": [
       "# Loglikelihood ratio test one sample"
      ],
      "text/plain": [
       "<IPython.core.display.Markdown object>"
      ]
     },
     "metadata": {},
     "output_type": "display_data"
    },
    {
     "name": "stdout",
     "output_type": "stream",
     "text": [
      "H0: the sample comes from the same distribution of the theoretical one\n",
      "Energy MC: 0.9952195664018313\n",
      "Energy Alg1: 0.9816760450348877\n",
      "Energy Alg2: 0.9771100528673488\n",
      "Magnetization MC: 0.9999875837857553\n",
      "Magnetization Alg1: 0.9999635943133679\n",
      "Magnetization Alg2: 0.9999970082623544\n"
     ]
    }
   ],
   "source": [
    "from statistical_tests import *\n",
    "display(Markdown(\"# Loglikelihood ratio test one sample\"))\n",
    "print(f'H0: the sample comes from the same distribution of the theoretical one')\n",
    "mc_engy = np.array(list(mc_engy_counts.values()))\n",
    "alg1_engy = np.array(list(alg1_engy_counts.values()))\n",
    "alg2_engy = np.array(list(alg2_engy_counts.values()))\n",
    "mc_m = np.array(list(mc_m_counts.values()))\n",
    "alg1_m = np.array(list(alg1_m_counts.values()))\n",
    "alg2_m = np.array(list(alg2_m_counts.values()))\n",
    "print(f'Energy MC:', one_sample_test(np.array(theory[\"energy_probs\"]), mc_engy))\n",
    "print(f'Energy Alg1:', one_sample_test(np.array(theory[\"energy_probs\"]), alg1_engy))\n",
    "print(f'Energy Alg2:', one_sample_test(np.array(theory[\"energy_probs\"]), alg2_engy))\n",
    "print(f'Magnetization MC:', one_sample_test(np.array(theory[\"magnetization_probs\"]), mc_m)) \n",
    "print(f'Magnetization Alg1:', one_sample_test(np.array(theory[\"magnetization_probs\"]), alg1_m))\n",
    "print(f'Magnetization Alg2:', one_sample_test(np.array(theory[\"magnetization_probs\"]), alg2_m))"
   ]
  },
  {
   "cell_type": "code",
   "execution_count": 7,
   "id": "6f481ddd-2b70-4fa5-9d7f-f7e37f8b1b86",
   "metadata": {},
   "outputs": [
    {
     "data": {
      "text/markdown": [
       "# Chi2 test two sample"
      ],
      "text/plain": [
       "<IPython.core.display.Markdown object>"
      ]
     },
     "metadata": {},
     "output_type": "display_data"
    },
    {
     "name": "stdout",
     "output_type": "stream",
     "text": [
      "H0: the two sample comes from the same distribution\n",
      "MC - Alg1\n",
      "Energy : 0.5786055587061822\n",
      "Magnetization : 0.42885748278900593\n",
      "MC-Alg2\n",
      "Energy : 0.4916324950337083\n",
      "Magnetization : 0.9372761453572708\n"
     ]
    }
   ],
   "source": [
    "from statistical_tests import *\n",
    "display(Markdown(\"# Chi2 test two sample\"))\n",
    "print(f'H0: the two sample comes from the same distribution')\n",
    "mc_engy = np.array(list(mc_engy_counts.values()))\n",
    "alg1_engy = np.array(list(alg1_engy_counts.values()))\n",
    "alg2_engy = np.array(list(alg2_engy_counts.values()))\n",
    "mc_m = np.array(list(mc_m_counts.values()))\n",
    "alg1_m = np.array(list(alg1_m_counts.values()))\n",
    "alg2_m = np.array(list(alg2_m_counts.values()))\n",
    "print(\"MC - Alg1\")\n",
    "print(f'Energy :', two_sample_chi_squared(mc_engy, alg1_engy))\n",
    "print(f'Magnetization :', two_sample_chi_squared(mc_m, alg1_m))\n",
    "print(\"MC-Alg2\")\n",
    "print(f'Energy :', two_sample_chi_squared(mc_engy, alg2_engy))\n",
    "print(f'Magnetization :', two_sample_chi_squared(mc_m, alg2_m))"
   ]
  }
 ],
 "metadata": {
  "kernelspec": {
   "display_name": "Python 3 (ipykernel)",
   "language": "python",
   "name": "python3"
  },
  "language_info": {
   "codemirror_mode": {
    "name": "ipython",
    "version": 3
   },
   "file_extension": ".py",
   "mimetype": "text/x-python",
   "name": "python",
   "nbconvert_exporter": "python",
   "pygments_lexer": "ipython3",
   "version": "3.9.7"
  }
 },
 "nbformat": 4,
 "nbformat_minor": 5
}

{
 "cells": [
  {
   "cell_type": "code",
   "execution_count": null,
   "id": "5aaac56a-15ed-494a-86a7-3ed7014b8326",
   "metadata": {},
   "outputs": [],
   "source": [
    "import sys, os\n",
    "sys.path.append(f'../../code')\n",
    "path_to_json = os.getcwd()\n",
    "\n",
    "from IPython.display import display, Markdown"
   ]
  },
  {
   "cell_type": "code",
   "execution_count": null,
   "id": "072e0567-eacd-4ebf-81a5-b667be15d34d",
   "metadata": {},
   "outputs": [],
   "source": [
    "import json\n",
    "def load_case(path):\n",
    "    display(Markdown(f'## {path}'))\n",
    "    with open(path, 'r+') as file: bundle = json.load(file)\n",
    "    print('Temperature:', bundle['temperature'])\n",
    "    return bundle\n",
    "\n",
    "display(Markdown('# Files'))\n",
    "json_files_mc = sorted([pos_json for pos_json in os.listdir(path_to_json) if pos_json.endswith('.json') and pos_json.startswith('mc-lT')],\n",
    "                       reverse = True)\n",
    "json_files_alg1 = sorted([pos_json for pos_json in os.listdir(path_to_json) if pos_json.endswith('.json') and pos_json.startswith('a1-lT')],\n",
    "                         reverse = True)\n",
    "\n",
    "print(\"MC: \", json_files_mc)\n",
    "print(\"A1: \", json_files_alg1)\n",
    "\n",
    "mc = load_case(json_files_mc[0])\n",
    "alg1 = load_case(json_files_alg1[0])"
   ]
  },
  {
   "cell_type": "code",
   "execution_count": null,
   "id": "654b85a3-5e38-4b4f-88f7-d4716901c9d0",
   "metadata": {},
   "outputs": [],
   "source": [
    "import ising\n",
    "from ising import *\n",
    "import matplotlib.pyplot as plt\n",
    "import seaborn as sns\n",
    "\n",
    "fig_kde, axes = plt.subplots(1, 2)\n",
    "h1 = sns.kdeplot(data=mc[\"energy_sample\"], bw_method='scott', color='m', ax=axes[0])\n",
    "h1.set(xlabel=None)\n",
    "h2 = sns.kdeplot(data=alg1[\"energy_sample\"], bw_method='scott', color='b', ax=axes[0])\n",
    "h2.set(xlabel=None)\n",
    "m1 = sns.kdeplot(data=mc[\"magnetization_sample\"], bw_method='scott', color='m', ax=axes[1])\n",
    "m1.set(xlabel=None)\n",
    "m2 = sns.kdeplot(data=alg1[\"magnetization_sample\"], bw_method='scott', color='b', ax=axes[1])\n",
    "m2.set(xlabel=None)\n",
    "\n",
    "axes[0].set_title(\"Energy\")\n",
    "axes[0].legend(['MonteCarlo', 'Dynamic'], loc=\"upper left\")\n",
    "axes[1].set_title(\"Magnetization\")\n",
    "axes[1].legend(['MonteCarlo', 'Dynamic'], loc=\"upper right\")"
   ]
  },
  {
   "cell_type": "code",
   "execution_count": null,
   "id": "d10564a9-6d7f-4c3f-b4fa-078cd88e73b3",
   "metadata": {},
   "outputs": [],
   "source": [
    "chain = Chain(size=100)\n",
    "bin_edges_engy_mc, metropolis_engy = hist(chain, mc[\"energy_sample\"], engy_flag=True)\n",
    "bin_edges_engy_dynamic, dynamic_engy = hist(chain, alg1[\"energy_sample\"], engy_flag=True)\n",
    "fig_engy, axes = plt.subplots(1, 2)\n",
    "axes[0].hist(metropolis_engy, bins=bin_edges_engy_mc, label='Metropolis', color='m')\n",
    "axes[1].hist(dynamic_engy, bins=bin_edges_engy_dynamic, label='Dynamic', color='b')\n",
    "axes[0].set_title(\"Energy Montecarlo\")\n",
    "axes[1].set_title(\"Energy Dynamic\")\n",
    "plt.show()"
   ]
  },
  {
   "cell_type": "code",
   "execution_count": null,
   "id": "74d04788-2b3b-4e76-a171-3e29cd523e9c",
   "metadata": {},
   "outputs": [],
   "source": [
    "bin_edges_m_mc, metropolis_m = hist(chain, mc[\"magnetization_sample\"], engy_flag=False)\n",
    "bin_edges_m_dynamic, dynamic_m = hist(chain, alg1[\"magnetization_sample\"], engy_flag=False)\n",
    "fig_m, axes = plt.subplots(1, 2)\n",
    "axes[0].hist(metropolis_m, bins=bin_edges_m_mc, label='Metropolis', color='m')\n",
    "axes[1].hist(dynamic_m, bins=bin_edges_m_dynamic, label='Dynamic', color='b')\n",
    "axes[0].set_title(\"Magnetization Montecarlo\")\n",
    "axes[1].set_title(\"Magnetization Dynamic\")\n",
    "plt.show()"
   ]
  },
  {
   "cell_type": "code",
   "execution_count": null,
   "id": "dccea30e-1a21-480c-9ccf-ac9bc7b26416",
   "metadata": {},
   "outputs": [],
   "source": [
    "mc_engy_corr = acrl(mc[\"energy_sample\"], 100)\n",
    "mc_m_corr = acrl(mc[\"magnetization_sample\"], 500)\n",
    "fig_kde, axes = plt.subplots(1, 2)\n",
    "axes[0].plot(mc_engy_corr)\n",
    "axes[0].set_title(\"H Correlation MonteCarlo\")\n",
    "axes[1].plot(mc_m_corr)\n",
    "axes[1].set_title(\"M Correlation MonteCarlo\")"
   ]
  },
  {
   "cell_type": "code",
   "execution_count": null,
   "id": "5c726192-ee21-45de-a1d1-2739cccc8b48",
   "metadata": {},
   "outputs": [],
   "source": [
    "alg1_engy_corr = acrl(alg1[\"energy_sample\"], 5000)\n",
    "alg1_m_corr = acrl(alg1[\"magnetization_sample\"], 8000)\n",
    "fig_kde, axes = plt.subplots(1, 2)\n",
    "axes[0].plot(alg1_engy_corr)\n",
    "axes[0].set_title(\"H Correlation Alg1\")\n",
    "axes[1].plot(alg1_m_corr)\n",
    "axes[1].set_title(\"M Correlation Alg1\")"
   ]
  },
  {
   "cell_type": "code",
   "execution_count": null,
   "id": "351d2cec-9706-4e8d-bb91-cffce5a56882",
   "metadata": {},
   "outputs": [],
   "source": [
    "mc_m_counts = count_variables(mc[\"magnetization_sample\"])\n",
    "alg1_m_counts = count_variables(alg1[\"magnetization_sample\"])\n",
    "mc_m_counts, alg1_m_counts = equilibrate_counts(mc_m_counts,alg1_m_counts)\n",
    "mc_engy_counts = count_variables(mc[\"energy_sample\"])\n",
    "alg1_engy_counts = count_variables(alg1[\"energy_sample\"])\n",
    "mc_m_counts, alg1_m_counts = equilibrate_counts(mc_engy_counts,alg1_engy_counts)\n",
    "#H0: the two sample come from the same distribution\n",
    "print(f'Energy:', z_test(f1=list(mc_engy_counts.values()), f2=list(alg1_engy_counts.values()), n_samples=len(mc[\"energy_sample\"])))\n",
    "print(f'Magnetization:', z_test(f1=list(mc_m_counts.values()), f2=list(alg1_m_counts.values()), n_samples=len(mc[\"energy_sample\"])))\n"
   ]
  }
 ],
 "metadata": {
  "kernelspec": {
   "display_name": "Python 3",
   "language": "python",
   "name": "python3"
  },
  "language_info": {
   "codemirror_mode": {
    "name": "ipython",
    "version": 3
   },
   "file_extension": ".py",
   "mimetype": "text/x-python",
   "name": "python",
   "nbconvert_exporter": "python",
   "pygments_lexer": "ipython3",
   "version": "3.9.5"
  }
 },
 "nbformat": 4,
 "nbformat_minor": 5
}

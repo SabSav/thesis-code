{
 "cells": [
  {
   "cell_type": "code",
   "execution_count": null,
   "id": "3a55401e-cba7-4d77-b822-9a99c757b3c1",
   "metadata": {},
   "outputs": [],
   "source": [
    "import sys, os\n",
    "sys.path.append(f'../../code')\n",
    "path_to_json = os.getcwd()\n",
    "\n",
    "from IPython.display import display, Markdown"
   ]
  },
  {
   "cell_type": "code",
   "execution_count": null,
   "id": "36c94691-0d8c-45e1-8e7a-320b9ad87b51",
   "metadata": {},
   "outputs": [],
   "source": [
    "import json\n",
    "def load_case(path):\n",
    "    display(Markdown(f'## {path}'))\n",
    "    with open(path, 'r+') as file: bundle = json.load(file)\n",
    "    print('Temperature:', bundle['temperature'])\n",
    "    return bundle\n",
    "\n",
    "display(Markdown('# Files'))\n",
    "json_files_mc = sorted([pos_json for pos_json in os.listdir(path_to_json) if pos_json.endswith('.json') and pos_json.startswith('mc-lT')],\n",
    "                       reverse = True)\n",
    "json_files_alg1 = sorted([pos_json for pos_json in os.listdir(path_to_json) if pos_json.endswith('.json') and pos_json.startswith('a1-lT')],\n",
    "                         reverse = True)\n",
    "\n",
    "print(\"MC: \", json_files_mc)\n",
    "print(\"A1: \", json_files_alg1)\n",
    "\n",
    "mc = load_case(json_files_mc[0])\n",
    "alg1 = load_case(json_files_alg1[0])"
   ]
  },
  {
   "cell_type": "code",
   "execution_count": null,
   "id": "cd1d7896-7160-4a64-89ca-a9ccb3767cea",
   "metadata": {},
   "outputs": [],
   "source": [
    "import ising\n",
    "from ising import *\n",
    "import matplotlib.pyplot as plt\n",
    "\n",
    "mc_m_counts = count_variables(mc[\"magnetization_sample\"])\n",
    "alg1_m_counts = count_variables(alg1[\"magnetization_sample\"])\n",
    "mc_engy_counts = count_variables(mc[\"energy_sample\"])\n",
    "alg1_engy_counts = count_variables(alg1[\"energy_sample\"])\n",
    "\n",
    "chain = Chain(size=alg1[\"number of spins\"], temperature = alg1[\"temperature\"])\n",
    "n_samples = len(alg1[\"energy_sample\"])\n",
    "theory_engy, theory_m = theoretical_distributions(chain)\n",
    "theory_engy_counts, multinom_avg, multinom_std = theoretical_quantities(n_samples, theory_engy)\n",
    "multiplicity_mc, std_mc, mc_engy_counts = std_algorithms(mc_engy_counts, multinom_avg, theory_engy, multinom_std)\n",
    "multiplicity_alg1, std_alg1, alg1_engy_counts = std_algorithms(alg1_engy_counts, multinom_avg, theory_engy, multinom_std)\n",
    "\n",
    "fig, ax = plt.subplots()\n",
    "labels = mc_engy_counts.keys()\n",
    "x = np.arange(len(labels)) \n",
    "width = 0.25\n",
    "rects1 = ax.bar(x, list(mc_engy_counts.values()), width, yerr=std_mc, align='center',\n",
    "                label='MonteCarlo', color='m')\n",
    "rects2 = ax.bar(x + width, list(alg1_engy_counts.values()), width, yerr=std_alg1, align='center',\n",
    "                label='Dynamic', color='b')\n",
    "print(theory_engy_counts)\n",
    "theory_engy_counts_adjusted = [round(counts) for counts in theory_engy_counts]\n",
    "rects3 = ax.bar(x + width * 2, theory_engy_counts_adjusted, width, yerr=multinom_std, align='center',\n",
    "                label='Theory', color='g')\n",
    "\n",
    "ax.set_title('Bar Chart T = 0.5')\n",
    "ax.set_ylabel('Counts per energy level')\n",
    "ax.set_xlabel('Energy level')\n",
    "ax.set_xticks(x + width)\n",
    "ax.set_xticklabels([i for i in labels])\n",
    "ax.legend()\n",
    "ax.bar_label(rects1, padding=3)\n",
    "ax.bar_label(rects2, padding=3)\n",
    "ax.bar_label(rects3, padding=3)\n",
    "fig.tight_layout()"
   ]
  },
  {
   "cell_type": "code",
   "execution_count": null,
   "id": "5b125b01-f45f-46a7-a4a3-7fbcfbf2bd90",
   "metadata": {},
   "outputs": [],
   "source": [
    "theory_m_counts, multinom_avg, multinom_std = theoretical_quantities(n_samples, theory_m)\n",
    "multiplicity_mc, std_mc, mc_m_counts = std_algorithms(mc_m_counts, multinom_avg, theory_m, multinom_std)\n",
    "multiplicity_alg1, std_alg1, alg1_m_counts = std_algorithms(alg1_m_counts, multinom_avg, theory_m, multinom_std)\n",
    "\n",
    "fig, ax = plt.subplots()\n",
    "labels = mc_m_counts.keys()\n",
    "x = np.arange(len(labels)) \n",
    "width = 0.25\n",
    "rects1 = ax.bar(x, list(mc_m_counts.values()), width, yerr=std_mc, align='center',\n",
    "                label='MonteCarlo', color='m')\n",
    "rects2 = ax.bar(x + width, list(alg1_m_counts.values()), width, yerr=std_alg1, align='center',\n",
    "                label='Dynamic', color='b')\n",
    "print(theory_engy_counts)\n",
    "theory_m_counts_adjusted = [round(counts) for counts in theory_m_counts]\n",
    "rects3 = ax.bar(x + width * 2, theory_m_counts_adjusted, width, yerr=multinom_std, align='center',\n",
    "                label='Theory', color='g')\n",
    "\n",
    "ax.set_title('Bar Chart T = 0.5')\n",
    "ax.set_ylabel('Counts per energy level')\n",
    "ax.set_xlabel('Energy level')\n",
    "ax.set_xticks(x + width)\n",
    "ax.set_xticklabels([i for i in labels])\n",
    "ax.legend()\n",
    "ax.bar_label(rects1, padding=3)\n",
    "ax.bar_label(rects2, padding=3)\n",
    "ax.bar_label(rects3, padding=3)\n",
    "fig.tight_layout()"
   ]
  },
  {
   "cell_type": "code",
   "execution_count": null,
   "id": "7d42b4b3-1245-4462-b34f-7f46f5734f57",
   "metadata": {},
   "outputs": [],
   "source": [
    "mc_engy_corr = acrl(mc[\"energy_sample\"], 10000)\n",
    "mc_m_corr = acrl(mc[\"magnetization_sample\"], 10000)\n",
    "fig_kde, axes = plt.subplots(1, 2)\n",
    "axes[0].plot(mc_engy_corr)\n",
    "axes[0].set_title(\"H Correlation MonteCarlo\")\n",
    "axes[1].plot(mc_m_corr)\n",
    "axes[1].set_title(\"M Correlation MonteCarlo\")"
   ]
  },
  {
   "cell_type": "code",
   "execution_count": null,
   "id": "b64a743b-7a3c-4892-92f6-9fb6c757fb3d",
   "metadata": {},
   "outputs": [],
   "source": [
    "alg1_engy_corr = acrl(alg1[\"energy_sample\"], 10000)\n",
    "alg1_m_corr = acrl(alg1[\"magnetization_sample\"], 10000)\n",
    "fig_kde, axes = plt.subplots(1, 2)\n",
    "axes[0].plot(alg1_engy_corr)\n",
    "axes[0].set_title(\"H Correlation Alg1\")\n",
    "axes[1].plot(alg1_m_corr)\n",
    "axes[1].set_title(\"M Correlation Alg1\")"
   ]
  },
  {
   "cell_type": "code",
   "execution_count": null,
   "id": "d9799afd-e5e0-4e94-8761-1366de2999db",
   "metadata": {},
   "outputs": [],
   "source": [
    "#Reject lack of fit iff distance < upper_bound\n",
    "#H0: distance >= eps, Ha: dist < eps\n",
    "print(f'Energy MC - Theory:', theoretical_test(f_obs=list(mc_engy_counts.values()), theory_prob=theory_engy[:,1], n_samples=n_samples,eps=0.05))\n",
    "print(f'Magnetization MC - Theory:', theoretical_test(f_obs=list(mc_m_counts.values()), theory_prob=theory_m[:,1], n_samples=n_samples,eps=0.05))\n",
    "#Reject lack of fit iff distance < upper_bound\n",
    "#H0: distance >= eps, Ha: dist < eps\n",
    "print(f'Energy Alg1 - Theory:', theoretical_test(f_obs=list(alg1_engy_counts.values()), theory_prob=theory_engy[:,1], n_samples=n_samples,eps=0.05))\n",
    "print(f'Magnetization Alg1 - Theory:', theoretical_test(f_obs=list(alg1_m_counts.values()), theory_prob=theory_m[:,1], n_samples=n_samples,eps=0.05))\n"
   ]
  },
  {
   "cell_type": "code",
   "execution_count": null,
   "id": "23d718d7-2352-421b-858e-518bae79ae9a",
   "metadata": {},
   "outputs": [],
   "source": [
    "#H0: the two samples came from the same distribution\n",
    "print(f'Energy:', z_test(f1=list(mc_engy_counts.values()), f2=list(alg1_engy_counts.values()), n_samples=len(mc[\"energy_sample\"])))\n",
    "print(f'Magnetization:', z_test(f1=list(mc_m_counts.values()), f2=list(alg1_m_counts.values()), n_samples=len(mc[\"energy_sample\"])))"
   ]
  }
 ],
 "metadata": {
  "kernelspec": {
   "display_name": "Python 3",
   "language": "python",
   "name": "python3"
  },
  "language_info": {
   "codemirror_mode": {
    "name": "ipython",
    "version": 3
   },
   "file_extension": ".py",
   "mimetype": "text/x-python",
   "name": "python",
   "nbconvert_exporter": "python",
   "pygments_lexer": "ipython3",
   "version": "3.9.5"
  }
 },
 "nbformat": 4,
 "nbformat_minor": 5
}

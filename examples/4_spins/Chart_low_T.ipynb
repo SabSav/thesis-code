{
 "cells": [
  {
   "cell_type": "code",
   "execution_count": 1,
   "id": "3a55401e-cba7-4d77-b822-9a99c757b3c1",
   "metadata": {},
   "outputs": [],
   "source": [
    "import sys, os\n",
    "sys.path.append(f'../../code')\n",
    "path_to_json = os.getcwd()\n",
    "\n",
    "from IPython.display import display, Markdown"
   ]
  },
  {
   "cell_type": "code",
   "execution_count": 2,
   "id": "36c94691-0d8c-45e1-8e7a-320b9ad87b51",
   "metadata": {},
   "outputs": [
    {
     "data": {
      "text/markdown": [
       "# Files"
      ],
      "text/plain": [
       "<IPython.core.display.Markdown object>"
      ]
     },
     "metadata": {},
     "output_type": "display_data"
    },
    {
     "name": "stdout",
     "output_type": "stream",
     "text": [
      "MC:  ['mc-lT.json']\n",
      "A1:  ['a1-lT.json']\n",
      "A2:  ['a2-lT.json']\n"
     ]
    },
    {
     "data": {
      "text/markdown": [
       "## mc-lT.json"
      ],
      "text/plain": [
       "<IPython.core.display.Markdown object>"
      ]
     },
     "metadata": {},
     "output_type": "display_data"
    },
    {
     "name": "stdout",
     "output_type": "stream",
     "text": [
      "Temperature: 0.5\n"
     ]
    },
    {
     "data": {
      "text/markdown": [
       "## a1-lT.json"
      ],
      "text/plain": [
       "<IPython.core.display.Markdown object>"
      ]
     },
     "metadata": {},
     "output_type": "display_data"
    },
    {
     "name": "stdout",
     "output_type": "stream",
     "text": [
      "Temperature: 0.5\n"
     ]
    },
    {
     "data": {
      "text/markdown": [
       "## a2-lT.json"
      ],
      "text/plain": [
       "<IPython.core.display.Markdown object>"
      ]
     },
     "metadata": {},
     "output_type": "display_data"
    },
    {
     "name": "stdout",
     "output_type": "stream",
     "text": [
      "Temperature: 0.5\n"
     ]
    }
   ],
   "source": [
    "import json\n",
    "def load_case(path):\n",
    "    display(Markdown(f'## {path}'))\n",
    "    with open(path, 'r+') as file: bundle = json.load(file)\n",
    "    print('Temperature:', bundle['temperature'])\n",
    "    return bundle\n",
    "\n",
    "display(Markdown('# Files'))\n",
    "json_files_mc = sorted([pos_json for pos_json in os.listdir(path_to_json) if pos_json.endswith('.json') and pos_json.startswith('mc-lT')],\n",
    "                       reverse = True)\n",
    "json_files_alg1 = sorted([pos_json for pos_json in os.listdir(path_to_json) if pos_json.endswith('.json') and pos_json.startswith('a1-lT')],\n",
    "                         reverse = True)\n",
    "\n",
    "json_files_alg2 = sorted([pos_json for pos_json in os.listdir(path_to_json) if pos_json.endswith('.json') and pos_json.startswith('a2-lT')],\n",
    "                         reverse = True)\n",
    "\n",
    "print(\"MC: \", json_files_mc)\n",
    "print(\"A1: \", json_files_alg1)\n",
    "print(\"A2: \", json_files_alg2)\n",
    "\n",
    "mc = load_case(json_files_mc[0])\n",
    "alg1 = load_case(json_files_alg1[0])\n",
    "alg2 = load_case(json_files_alg2[0])"
   ]
  },
  {
   "cell_type": "code",
   "execution_count": 3,
   "id": "cd1d7896-7160-4a64-89ca-a9ccb3767cea",
   "metadata": {},
   "outputs": [
    {
     "name": "stderr",
     "output_type": "stream",
     "text": [
      "Generating theoretical configurations: 100%|██████████████████████████████████████████████████████████████████████████████████████████████████████| 16/16 [00:00<00:00, 14149.03it/s]\n"
     ]
    },
    {
     "name": "stdout",
     "output_type": "stream",
     "text": [
      "[99799.1155277454, 200.87324134370309, 0.011230910902742353]\n"
     ]
    },
    {
     "data": {
      "image/png": "[encoded data removed]",
      "text/plain": [
       "<Figure size 432x288 with 1 Axes>"
      ]
     },
     "metadata": {
      "needs_background": "light"
     },
     "output_type": "display_data"
    }
   ],
   "source": [
    "import ising\n",
    "from ising import *\n",
    "import matplotlib.pyplot as plt\n",
    "\n",
    "mc_m_counts = count_variables(mc[\"magnetization_sample\"])\n",
    "alg1_m_counts = count_variables(alg1[\"magnetization_sample\"])\n",
    "mc_engy_counts = count_variables(mc[\"energy_sample\"])\n",
    "alg1_engy_counts = count_variables(alg1[\"energy_sample\"])\n",
    "\n",
    "chain = Chain(size=alg1[\"number of spins\"], temperature = alg1[\"temperature\"])\n",
    "n_samples = len(alg1[\"energy_sample\"])\n",
    "theory_engy, theory_m = theoretical_distributions(chain)\n",
    "theory_engy_counts, multinom_avg, multinom_std = theoretical_quantities(n_samples, theory_engy)\n",
    "multiplicity_mc, std_mc, mc_engy_counts = std_algorithms(mc_engy_counts, multinom_avg, theory_engy, multinom_std)\n",
    "multiplicity_alg1, std_alg1, alg1_engy_counts = std_algorithms(alg1_engy_counts, multinom_avg, theory_engy, multinom_std)\n",
    "\n",
    "fig, ax = plt.subplots()\n",
    "labels = mc_engy_counts.keys()\n",
    "x = np.arange(len(labels)) \n",
    "width = 0.25\n",
    "rects1 = ax.bar(x, list(mc_engy_counts.values()), width, yerr=std_mc, align='center',\n",
    "                label='MonteCarlo', color='m')\n",
    "rects2 = ax.bar(x + width, list(alg1_engy_counts.values()), width, yerr=std_alg1, align='center',\n",
    "                label='Dynamic', color='b')\n",
    "print(theory_engy_counts)\n",
    "theory_engy_counts_adjusted = [round(counts) for counts in theory_engy_counts]\n",
    "rects3 = ax.bar(x + width * 2, theory_engy_counts_adjusted, width, yerr=multinom_std, align='center',\n",
    "                label='Theory', color='g')\n",
    "\n",
    "ax.set_title('Bar Chart T = 0.5')\n",
    "ax.set_ylabel('Counts per energy level')\n",
    "ax.set_xlabel('Energy level')\n",
    "ax.set_xticks(x + width)\n",
    "ax.set_xticklabels([i for i in labels])\n",
    "ax.legend()\n",
    "ax.bar_label(rects1, padding=3)\n",
    "ax.bar_label(rects2, padding=3)\n",
    "ax.bar_label(rects3, padding=3)\n",
    "fig.tight_layout()"
   ]
  },
  {
   "cell_type": "code",
   "execution_count": 4,
   "id": "5b125b01-f45f-46a7-a4a3-7fbcfbf2bd90",
   "metadata": {},
   "outputs": [
    {
     "name": "stdout",
     "output_type": "stream",
     "text": [
      "[99799.1155277454, 200.87324134370309, 0.011230910902742353]\n"
     ]
    },
    {
     "data": {
      "image/png": "[encoded data removed]",
      "text/plain": [
       "<Figure size 432x288 with 1 Axes>"
      ]
     },
     "metadata": {
      "needs_background": "light"
     },
     "output_type": "display_data"
    }
   ],
   "source": [
    "theory_m_counts, multinom_avg, multinom_std = theoretical_quantities(n_samples, theory_m)\n",
    "multiplicity_mc, std_mc, mc_m_counts = std_algorithms(mc_m_counts, multinom_avg, theory_m, multinom_std)\n",
    "multiplicity_alg1, std_alg1, alg1_m_counts = std_algorithms(alg1_m_counts, multinom_avg, theory_m, multinom_std)\n",
    "\n",
    "fig, ax = plt.subplots()\n",
    "labels = mc_m_counts.keys()\n",
    "x = np.arange(len(labels)) \n",
    "width = 0.25\n",
    "rects1 = ax.bar(x, list(mc_m_counts.values()), width, yerr=std_mc, align='center',\n",
    "                label='MonteCarlo', color='m')\n",
    "rects2 = ax.bar(x + width, list(alg1_m_counts.values()), width, yerr=std_alg1, align='center',\n",
    "                label='Dynamic', color='b')\n",
    "print(theory_engy_counts)\n",
    "theory_m_counts_adjusted = [round(counts) for counts in theory_m_counts]\n",
    "rects3 = ax.bar(x + width * 2, theory_m_counts_adjusted, width, yerr=multinom_std, align='center',\n",
    "                label='Theory', color='g')\n",
    "\n",
    "ax.set_title('Bar Chart T = 0.5')\n",
    "ax.set_ylabel('Counts per magnetization value')\n",
    "ax.set_xlabel('Magnetization value')\n",
    "ax.set_xticks(x + width)\n",
    "ax.set_xticklabels([i for i in labels])\n",
    "ax.legend()\n",
    "ax.bar_label(rects1, padding=3)\n",
    "ax.bar_label(rects2, padding=3)\n",
    "ax.bar_label(rects3, padding=3)\n",
    "fig.tight_layout()"
   ]
  },
  {
   "cell_type": "code",
   "execution_count": 5,
   "id": "7d42b4b3-1245-4462-b34f-7f46f5734f57",
   "metadata": {},
   "outputs": [
    {
     "data": {
      "text/plain": [
       "Text(0.5, 1.0, 'M Correlation MonteCarlo')"
      ]
     },
     "execution_count": 5,
     "metadata": {},
     "output_type": "execute_result"
    },
    {
     "data": {
      "image/png": "[encoded data removed]",
      "text/plain": [
       "<Figure size 432x288 with 2 Axes>"
      ]
     },
     "metadata": {
      "needs_background": "light"
     },
     "output_type": "display_data"
    }
   ],
   "source": [
    "mc_engy_corr = acrl(mc[\"energy_sample\"], 10000)\n",
    "mc_m_corr = acrl(mc[\"magnetization_sample\"], 10000)\n",
    "fig_kde, axes = plt.subplots(1, 2)\n",
    "axes[0].plot(mc_engy_corr)\n",
    "axes[0].set_title(\"H Correlation MonteCarlo\")\n",
    "axes[1].plot(mc_m_corr)\n",
    "axes[1].set_title(\"M Correlation MonteCarlo\")"
   ]
  },
  {
   "cell_type": "code",
   "execution_count": 18,
   "id": "b64a743b-7a3c-4892-92f6-9fb6c757fb3d",
   "metadata": {},
   "outputs": [
    {
     "data": {
      "text/plain": [
       "Text(0.5, 1.0, 'M Correlation Alg1')"
      ]
     },
     "execution_count": 18,
     "metadata": {},
     "output_type": "execute_result"
    },
    {
     "data": {
      "image/png": "[encoded data removed]",
      "text/plain": [
       "<Figure size 432x288 with 2 Axes>"
      ]
     },
     "metadata": {
      "needs_background": "light"
     },
     "output_type": "display_data"
    }
   ],
   "source": [
    "alg1_engy_corr = acrl(alg1[\"energy_sample\"], 100)\n",
    "alg1_m_corr = acrl(alg1[\"magnetization_sample\"], 10000)\n",
    "fig_kde, axes = plt.subplots(1, 2)\n",
    "axes[0].plot(alg1_engy_corr)\n",
    "axes[0].set_title(\"H Correlation Alg1\")\n",
    "axes[1].plot(alg1_m_corr)\n",
    "axes[1].set_title(\"M Correlation Alg1\")"
   ]
  },
  {
   "cell_type": "code",
   "execution_count": 7,
   "id": "2af1f084-0bd1-4b7e-a8b6-0d86bd426ddd",
   "metadata": {},
   "outputs": [
    {
     "data": {
      "text/markdown": [
       "# Chi2 test one sample"
      ],
      "text/plain": [
       "<IPython.core.display.Markdown object>"
      ]
     },
     "metadata": {},
     "output_type": "display_data"
    },
    {
     "name": "stdout",
     "output_type": "stream",
     "text": [
      "H0: the sample comes from the same distribution of the theoretical one\n",
      "Energy MC: 0.9857350289593889\n",
      "Energy Alg1: 0.8838719271887701\n",
      "Magnetization MC: 2.331461370062115e-13\n",
      "Magnetization Alg1: 0.0\n"
     ]
    }
   ],
   "source": [
    "from lrtest import *\n",
    "display(Markdown(\"# Chi2 test one sample\"))\n",
    "print(f'H0: the sample comes from the same distribution of the theoretical one')\n",
    "mc_engy = list(mc_engy_counts.values())\n",
    "alg1_engy = list(alg1_engy_counts.values())\n",
    "mc_m = list(mc_m_counts.values())\n",
    "alg1_m = list(alg1_m_counts.values())\n",
    "print(f'Energy MC:', one_sample_chi_squared(theory_engy[:,1], mc_engy))\n",
    "print(f'Energy Alg1:', one_sample_chi_squared(theory_engy[:,1], alg1_engy))\n",
    "print(f'Magnetization MC:', one_sample_chi_squared(theory_m[:,1], mc_m))\n",
    "print(f'Magnetization Alg1:', one_sample_chi_squared(theory_m[:,1], alg1_m))"
   ]
  },
  {
   "cell_type": "code",
   "execution_count": 8,
   "id": "1477ae17-62c1-4fba-bc2d-b5e3ac1f6164",
   "metadata": {},
   "outputs": [
    {
     "data": {
      "text/markdown": [
       "# Loglikelihood ratio test one sample"
      ],
      "text/plain": [
       "<IPython.core.display.Markdown object>"
      ]
     },
     "metadata": {},
     "output_type": "display_data"
    },
    {
     "name": "stdout",
     "output_type": "stream",
     "text": [
      "H0: the sample comes from the same distribution of the theoretical one\n",
      "Energy MC: 0.9976264025676747\n",
      "Energy Alg1: 0.9846304078056368\n",
      "Magnetization MC: 2.1505569917027147e-13\n",
      "Magnetization Alg1: 0.0\n"
     ]
    }
   ],
   "source": [
    "from lrtest import one_sample_test\n",
    "display(Markdown(\"# Loglikelihood ratio test one sample\"))\n",
    "print(f'H0: the sample comes from the same distribution of the theoretical one')\n",
    "mc_engy = list(mc_engy_counts.values())\n",
    "alg1_engy = list(alg1_engy_counts.values())\n",
    "mc_m = list(mc_m_counts.values())\n",
    "alg1_m = list(alg1_m_counts.values())\n",
    "print(f'Energy MC:', one_sample_test(theory_engy[:,1], mc_engy))\n",
    "print(f'Energy Alg1:', one_sample_test(theory_engy[:,1], alg1_engy))\n",
    "print(f'Magnetization MC:', one_sample_test(theory_m[:,1], mc_m))\n",
    "print(f'Magnetization Alg1:', one_sample_test(theory_m[:,1], alg1_m))"
   ]
  },
  {
   "cell_type": "code",
   "execution_count": 9,
   "id": "56a292de-e42c-486e-8d91-2acd62be8ac8",
   "metadata": {},
   "outputs": [
    {
     "data": {
      "text/markdown": [
       "# Chi2 test two sample"
      ],
      "text/plain": [
       "<IPython.core.display.Markdown object>"
      ]
     },
     "metadata": {},
     "output_type": "display_data"
    },
    {
     "name": "stdout",
     "output_type": "stream",
     "text": [
      "H0: the two sample comes from the same distribution\n",
      "Energy : 0.722744074896353\n",
      "Magnetization : 0.0\n"
     ]
    }
   ],
   "source": [
    "from two_samples import chi_squared_test\n",
    "display(Markdown(\"# Chi2 test two sample\"))\n",
    "print(f'H0: the two sample comes from the same distribution')\n",
    "mc_engy = list(mc_engy_counts.values())\n",
    "alg1_engy = list(alg1_engy_counts.values())\n",
    "mc_m = list(mc_m_counts.values())\n",
    "alg1_m = list(alg1_m_counts.values())\n",
    "print(f'Energy :', chi_squared_test(mc_engy, alg1_engy))\n",
    "print(f'Magnetization :', chi_squared_test(mc_m, alg1_m))"
   ]
  },
  {
   "cell_type": "code",
   "execution_count": 10,
   "id": "b91a7f89-33fa-4964-971b-6d7b7099a6f1",
   "metadata": {},
   "outputs": [
    {
     "data": {
      "text/markdown": [
       "# Alg2"
      ],
      "text/plain": [
       "<IPython.core.display.Markdown object>"
      ]
     },
     "metadata": {},
     "output_type": "display_data"
    },
    {
     "name": "stderr",
     "output_type": "stream",
     "text": [
      "Generating theoretical configurations: 100%|███████████████████████████████████████████████████████████████████████████████████████████████████████| 16/16 [00:00<00:00, 5121.64it/s]\n"
     ]
    },
    {
     "data": {
      "image/png": "[encoded data removed]",
      "text/plain": [
       "<Figure size 432x288 with 1 Axes>"
      ]
     },
     "metadata": {
      "needs_background": "light"
     },
     "output_type": "display_data"
    }
   ],
   "source": [
    "display(Markdown(\"# Alg2\"))\n",
    "\n",
    "alg2_engy_counts = count_variables(alg2[\"energy_sample\"])\n",
    "alg2_engy = list(alg2_engy_counts.values())\n",
    "theory_engy, theory_m = theoretical_distributions(chain)\n",
    "theory_engy_counts, multinom_avg, multinom_std = theoretical_quantities(len(alg2[\"energy_sample\"]), theory_engy)\n",
    "multiplicity_alg2, std_alg2, alg2_engy_counts = std_algorithms(alg2_engy_counts, multinom_avg, theory_engy, multinom_std)\n",
    "fig, ax = plt.subplots()\n",
    "labels = alg1_engy_counts.keys()\n",
    "x = np.arange(len(labels)) \n",
    "width = 0.25\n",
    "rects1 = ax.bar(x , list(alg2_engy_counts.values()), width, yerr=std_alg2, align='center',\n",
    "                label='Alg2', color='y')\n",
    "theory_engy_counts_adjusted = [round(counts) for counts in theory_engy_counts]\n",
    "rects2 = ax.bar(x + width, theory_engy_counts_adjusted, width, yerr=multinom_std, align='center',\n",
    "                label='Theory', color='g')\n",
    "\n",
    "ax.set_title('Bar Chart T = 0.5')\n",
    "ax.set_ylabel('Counts per energy level')\n",
    "ax.set_xlabel('Energy level')\n",
    "ax.set_xticks(x + width)\n",
    "ax.set_xticklabels([i for i in labels])\n",
    "ax.legend()\n",
    "ax.bar_label(rects1, padding=3)\n",
    "ax.bar_label(rects2, padding=3)\n",
    "fig.tight_layout()"
   ]
  },
  {
   "cell_type": "code",
   "execution_count": 11,
   "id": "edb83fa7-686b-4d07-81dd-03d4dabe6265",
   "metadata": {},
   "outputs": [
    {
     "name": "stderr",
     "output_type": "stream",
     "text": [
      "Generating theoretical configurations: 100%|██████████████████████████████████████████████████████████████████████████████████████████████████████| 16/16 [00:00<00:00, 15165.84it/s]\n"
     ]
    },
    {
     "data": {
      "image/png": "[encoded data removed]",
      "text/plain": [
       "<Figure size 432x288 with 1 Axes>"
      ]
     },
     "metadata": {
      "needs_background": "light"
     },
     "output_type": "display_data"
    }
   ],
   "source": [
    "alg2_m_counts = count_variables(alg2[\"magnetization_sample\"])\n",
    "alg2_m = list(alg2_m_counts.values())\n",
    "theory_engy, theory_m = theoretical_distributions(chain)\n",
    "theory_m_counts, multinom_avg, multinom_std = theoretical_quantities(len(alg2[\"magnetization_sample\"]), theory_m)\n",
    "multiplicity_alg2, std_alg2, alg2_m_counts = std_algorithms(alg2_m_counts, multinom_avg, theory_m, multinom_std)\n",
    "fig, ax = plt.subplots()\n",
    "labels = alg2_m_counts.keys()\n",
    "x = np.arange(len(labels)) \n",
    "width = 0.25\n",
    "rects1 = ax.bar(x , list(alg2_m_counts.values()), width, yerr=std_alg2, align='center',\n",
    "                label='Alg2', color='y')\n",
    "theory_m_counts_adjusted = [round(counts) for counts in theory_m_counts]\n",
    "rects2 = ax.bar(x + width, theory_m_counts_adjusted, width, yerr=multinom_std, align='center',\n",
    "                label='Theory', color='g')\n",
    "\n",
    "ax.set_title('Bar Chart T = 0.5')\n",
    "ax.set_ylabel('Counts per energy level')\n",
    "ax.set_xlabel('Energy level')\n",
    "ax.set_xticks(x + width)\n",
    "ax.set_xticklabels([i for i in labels])\n",
    "ax.legend()\n",
    "ax.bar_label(rects1, padding=3)\n",
    "ax.bar_label(rects2, padding=3)\n",
    "fig.tight_layout()"
   ]
  },
  {
   "cell_type": "code",
   "execution_count": 14,
   "id": "baa87d5f-78ca-453f-97b0-83c9540faaaa",
   "metadata": {},
   "outputs": [
    {
     "data": {
      "text/plain": [
       "Text(0.5, 1.0, 'M Correlation Alg1')"
      ]
     },
     "execution_count": 14,
     "metadata": {},
     "output_type": "execute_result"
    },
    {
     "data": {
      "image/png": "[encoded data removed]",
      "text/plain": [
       "<Figure size 432x288 with 2 Axes>"
      ]
     },
     "metadata": {
      "needs_background": "light"
     },
     "output_type": "display_data"
    }
   ],
   "source": [
    "alg2_engy_corr = acrl(alg2[\"energy_sample\"], 100)\n",
    "alg2_m_corr = acrl(alg2[\"magnetization_sample\"], 100)\n",
    "fig_kde, axes = plt.subplots(1, 2)\n",
    "axes[0].plot(alg2_engy_corr)\n",
    "axes[0].set_title(\"H Correlation Alg1\")\n",
    "axes[1].plot(alg2_m_corr)\n",
    "axes[1].set_title(\"M Correlation Alg1\")"
   ]
  },
  {
   "cell_type": "code",
   "execution_count": 13,
   "id": "6ab73536-13ff-4a6a-9df4-7c5fc1bf4adb",
   "metadata": {},
   "outputs": [
    {
     "data": {
      "text/markdown": [
       "# Chi2 test one sample - Alg2"
      ],
      "text/plain": [
       "<IPython.core.display.Markdown object>"
      ]
     },
     "metadata": {},
     "output_type": "display_data"
    },
    {
     "name": "stdout",
     "output_type": "stream",
     "text": [
      "H0: the sample comes from the same distribution of the theoretical one\n",
      "Energy Alg2: 0.0008476227671629836\n",
      "Magnetization Alg2: 0.0\n"
     ]
    }
   ],
   "source": [
    "from lrtest import *\n",
    "display(Markdown(\"# Chi2 test one sample - Alg2\"))\n",
    "print(f'H0: the sample comes from the same distribution of the theoretical one')\n",
    "alg2_engy = list(alg2_engy_counts.values())\n",
    "alg2_m = list(alg2_m_counts.values())\n",
    "print(f'Energy Alg2:', one_sample_chi_squared(theory_engy[:,1], alg2_engy))\n",
    "print(f'Magnetization Alg2:', one_sample_chi_squared(theory_m[:,1], alg2_m)) "
   ]
  }
 ],
 "metadata": {
  "kernelspec": {
   "display_name": "Python 3 (ipykernel)",
   "language": "python",
   "name": "python3"
  },
  "language_info": {
   "codemirror_mode": {
    "name": "ipython",
    "version": 3
   },
   "file_extension": ".py",
   "mimetype": "text/x-python",
   "name": "python",
   "nbconvert_exporter": "python",
   "pygments_lexer": "ipython3",
   "version": "3.9.5"
  }
 },
 "nbformat": 4,
 "nbformat_minor": 5
}
